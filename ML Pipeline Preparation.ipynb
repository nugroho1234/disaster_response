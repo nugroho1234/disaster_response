{
 "cells": [
  {
   "cell_type": "markdown",
   "metadata": {},
   "source": [
    "# ML Pipeline Preparation\n",
    "\n",
    "### 1. Import libraries and load data from database.\n"
   ]
  },
  {
   "cell_type": "code",
   "execution_count": 19,
   "metadata": {},
   "outputs": [],
   "source": [
    "# import libraries\n",
    "import pandas as pd\n",
    "import numpy as np\n",
    "from sqlalchemy import create_engine\n",
    "from nltk.tokenize import word_tokenize\n",
    "from nltk.stem import WordNetLemmatizer\n",
    "import nltk\n",
    "from sklearn.metrics import confusion_matrix\n",
    "from sklearn.model_selection import train_test_split\n",
    "from sklearn.ensemble import RandomForestClassifier, AdaBoostClassifier\n",
    "from sklearn.svm import SVC\n",
    "from sklearn.feature_extraction.text import CountVectorizer, TfidfTransformer, HashingVectorizer\n",
    "from sklearn.pipeline import Pipeline, FeatureUnion\n",
    "from sklearn.multioutput import MultiOutputClassifier\n",
    "from sklearn.metrics import classification_report\n",
    "from sklearn.base import BaseEstimator, TransformerMixin\n",
    "from sklearn.model_selection import GridSearchCV\n",
    "from sklearn.externals import joblib\n",
    "from nltk.corpus import stopwords\n",
    "from nltk.tokenize import RegexpTokenizer"
   ]
  },
  {
   "cell_type": "code",
   "execution_count": 2,
   "metadata": {},
   "outputs": [],
   "source": [
    "# load data from database\n",
    "engine = create_engine('sqlite:///data/DisasterResponse.db')\n",
    "df = pd.read_sql_table('disaster_response', engine)\n",
    "X = df['message'] \n",
    "y = df[df.columns[4:]]"
   ]
  },
  {
   "cell_type": "code",
   "execution_count": 3,
   "metadata": {},
   "outputs": [
    {
     "data": {
      "text/html": [
       "<div>\n",
       "<style scoped>\n",
       "    .dataframe tbody tr th:only-of-type {\n",
       "        vertical-align: middle;\n",
       "    }\n",
       "\n",
       "    .dataframe tbody tr th {\n",
       "        vertical-align: top;\n",
       "    }\n",
       "\n",
       "    .dataframe thead th {\n",
       "        text-align: right;\n",
       "    }\n",
       "</style>\n",
       "<table border=\"1\" class=\"dataframe\">\n",
       "  <thead>\n",
       "    <tr style=\"text-align: right;\">\n",
       "      <th></th>\n",
       "      <th>id</th>\n",
       "      <th>message</th>\n",
       "      <th>original</th>\n",
       "      <th>genre</th>\n",
       "      <th>related</th>\n",
       "      <th>request</th>\n",
       "      <th>offer</th>\n",
       "      <th>aid_related</th>\n",
       "      <th>medical_help</th>\n",
       "      <th>medical_products</th>\n",
       "      <th>...</th>\n",
       "      <th>aid_centers</th>\n",
       "      <th>other_infrastructure</th>\n",
       "      <th>weather_related</th>\n",
       "      <th>floods</th>\n",
       "      <th>storm</th>\n",
       "      <th>fire</th>\n",
       "      <th>earthquake</th>\n",
       "      <th>cold</th>\n",
       "      <th>other_weather</th>\n",
       "      <th>direct_report</th>\n",
       "    </tr>\n",
       "  </thead>\n",
       "  <tbody>\n",
       "    <tr>\n",
       "      <th>0</th>\n",
       "      <td>2</td>\n",
       "      <td>Weather update - a cold front from Cuba that c...</td>\n",
       "      <td>Un front froid se retrouve sur Cuba ce matin. ...</td>\n",
       "      <td>direct</td>\n",
       "      <td>1</td>\n",
       "      <td>0</td>\n",
       "      <td>0</td>\n",
       "      <td>0</td>\n",
       "      <td>0</td>\n",
       "      <td>0</td>\n",
       "      <td>...</td>\n",
       "      <td>0</td>\n",
       "      <td>0</td>\n",
       "      <td>0</td>\n",
       "      <td>0</td>\n",
       "      <td>0</td>\n",
       "      <td>0</td>\n",
       "      <td>0</td>\n",
       "      <td>0</td>\n",
       "      <td>0</td>\n",
       "      <td>0</td>\n",
       "    </tr>\n",
       "    <tr>\n",
       "      <th>1</th>\n",
       "      <td>7</td>\n",
       "      <td>Is the Hurricane over or is it not over</td>\n",
       "      <td>Cyclone nan fini osinon li pa fini</td>\n",
       "      <td>direct</td>\n",
       "      <td>1</td>\n",
       "      <td>0</td>\n",
       "      <td>0</td>\n",
       "      <td>1</td>\n",
       "      <td>0</td>\n",
       "      <td>0</td>\n",
       "      <td>...</td>\n",
       "      <td>0</td>\n",
       "      <td>0</td>\n",
       "      <td>1</td>\n",
       "      <td>0</td>\n",
       "      <td>1</td>\n",
       "      <td>0</td>\n",
       "      <td>0</td>\n",
       "      <td>0</td>\n",
       "      <td>0</td>\n",
       "      <td>0</td>\n",
       "    </tr>\n",
       "    <tr>\n",
       "      <th>2</th>\n",
       "      <td>8</td>\n",
       "      <td>Looking for someone but no name</td>\n",
       "      <td>Patnm, di Maryani relem pou li banm nouvel li ...</td>\n",
       "      <td>direct</td>\n",
       "      <td>1</td>\n",
       "      <td>0</td>\n",
       "      <td>0</td>\n",
       "      <td>0</td>\n",
       "      <td>0</td>\n",
       "      <td>0</td>\n",
       "      <td>...</td>\n",
       "      <td>0</td>\n",
       "      <td>0</td>\n",
       "      <td>0</td>\n",
       "      <td>0</td>\n",
       "      <td>0</td>\n",
       "      <td>0</td>\n",
       "      <td>0</td>\n",
       "      <td>0</td>\n",
       "      <td>0</td>\n",
       "      <td>0</td>\n",
       "    </tr>\n",
       "    <tr>\n",
       "      <th>3</th>\n",
       "      <td>9</td>\n",
       "      <td>UN reports Leogane 80-90 destroyed. Only Hospi...</td>\n",
       "      <td>UN reports Leogane 80-90 destroyed. Only Hospi...</td>\n",
       "      <td>direct</td>\n",
       "      <td>1</td>\n",
       "      <td>1</td>\n",
       "      <td>0</td>\n",
       "      <td>1</td>\n",
       "      <td>0</td>\n",
       "      <td>1</td>\n",
       "      <td>...</td>\n",
       "      <td>0</td>\n",
       "      <td>0</td>\n",
       "      <td>0</td>\n",
       "      <td>0</td>\n",
       "      <td>0</td>\n",
       "      <td>0</td>\n",
       "      <td>0</td>\n",
       "      <td>0</td>\n",
       "      <td>0</td>\n",
       "      <td>0</td>\n",
       "    </tr>\n",
       "    <tr>\n",
       "      <th>4</th>\n",
       "      <td>12</td>\n",
       "      <td>says: west side of Haiti, rest of the country ...</td>\n",
       "      <td>facade ouest d Haiti et le reste du pays aujou...</td>\n",
       "      <td>direct</td>\n",
       "      <td>1</td>\n",
       "      <td>0</td>\n",
       "      <td>0</td>\n",
       "      <td>0</td>\n",
       "      <td>0</td>\n",
       "      <td>0</td>\n",
       "      <td>...</td>\n",
       "      <td>0</td>\n",
       "      <td>0</td>\n",
       "      <td>0</td>\n",
       "      <td>0</td>\n",
       "      <td>0</td>\n",
       "      <td>0</td>\n",
       "      <td>0</td>\n",
       "      <td>0</td>\n",
       "      <td>0</td>\n",
       "      <td>0</td>\n",
       "    </tr>\n",
       "  </tbody>\n",
       "</table>\n",
       "<p>5 rows × 40 columns</p>\n",
       "</div>"
      ],
      "text/plain": [
       "   id                                            message  \\\n",
       "0   2  Weather update - a cold front from Cuba that c...   \n",
       "1   7            Is the Hurricane over or is it not over   \n",
       "2   8                    Looking for someone but no name   \n",
       "3   9  UN reports Leogane 80-90 destroyed. Only Hospi...   \n",
       "4  12  says: west side of Haiti, rest of the country ...   \n",
       "\n",
       "                                            original   genre  related  \\\n",
       "0  Un front froid se retrouve sur Cuba ce matin. ...  direct        1   \n",
       "1                 Cyclone nan fini osinon li pa fini  direct        1   \n",
       "2  Patnm, di Maryani relem pou li banm nouvel li ...  direct        1   \n",
       "3  UN reports Leogane 80-90 destroyed. Only Hospi...  direct        1   \n",
       "4  facade ouest d Haiti et le reste du pays aujou...  direct        1   \n",
       "\n",
       "   request  offer  aid_related  medical_help  medical_products      ...        \\\n",
       "0        0      0            0             0                 0      ...         \n",
       "1        0      0            1             0                 0      ...         \n",
       "2        0      0            0             0                 0      ...         \n",
       "3        1      0            1             0                 1      ...         \n",
       "4        0      0            0             0                 0      ...         \n",
       "\n",
       "   aid_centers  other_infrastructure  weather_related  floods  storm  fire  \\\n",
       "0            0                     0                0       0      0     0   \n",
       "1            0                     0                1       0      1     0   \n",
       "2            0                     0                0       0      0     0   \n",
       "3            0                     0                0       0      0     0   \n",
       "4            0                     0                0       0      0     0   \n",
       "\n",
       "   earthquake  cold  other_weather  direct_report  \n",
       "0           0     0              0              0  \n",
       "1           0     0              0              0  \n",
       "2           0     0              0              0  \n",
       "3           0     0              0              0  \n",
       "4           0     0              0              0  \n",
       "\n",
       "[5 rows x 40 columns]"
      ]
     },
     "execution_count": 3,
     "metadata": {},
     "output_type": "execute_result"
    }
   ],
   "source": [
    "df.head()"
   ]
  },
  {
   "cell_type": "markdown",
   "metadata": {},
   "source": [
    "### 2. Write a tokenization function to process your text data"
   ]
  },
  {
   "cell_type": "code",
   "execution_count": 36,
   "metadata": {},
   "outputs": [],
   "source": [
    "def tokenize(text):\n",
    "    tokens = word_tokenize(text)\n",
    "    tokens = [token.lower() for token in tokens if token.isalpha()]\n",
    "    lemmatizer = WordNetLemmatizer()\n",
    "    clean_tokens = []\n",
    "    for tok in tokens:\n",
    "        clean_tokens.append(lemmatizer.lemmatize(tok))\n",
    "    return clean_tokens"
   ]
  },
  {
   "cell_type": "markdown",
   "metadata": {},
   "source": [
    "### 3. Build a machine learning pipeline\n",
    "Here, I use multioutput classifier wrapping random forest classifier. I set the verbose to 2 to make sure that the training phase is running well."
   ]
  },
  {
   "cell_type": "code",
   "execution_count": 4,
   "metadata": {},
   "outputs": [],
   "source": [
    "pipeline = Pipeline([\n",
    "    ('vect', CountVectorizer(tokenizer = tokenize)),\n",
    "    ('tfidf', TfidfTransformer()),\n",
    "    ('clf', MultiOutputClassifier(RandomForestClassifier(verbose = 2)))\n",
    "])"
   ]
  },
  {
   "cell_type": "markdown",
   "metadata": {},
   "source": [
    "### 4. Train pipeline\n",
    "- Split data into train and test sets\n",
    "- Train pipeline"
   ]
  },
  {
   "cell_type": "code",
   "execution_count": 5,
   "metadata": {},
   "outputs": [],
   "source": [
    "X_train, X_test, y_train, y_test = train_test_split(X, y, random_state = 42, test_size = 0.2)"
   ]
  },
  {
   "cell_type": "code",
   "execution_count": 6,
   "metadata": {},
   "outputs": [
    {
     "name": "stdout",
     "output_type": "stream",
     "text": [
      "building tree 1 of 10\n"
     ]
    },
    {
     "name": "stderr",
     "output_type": "stream",
     "text": [
      "[Parallel(n_jobs=1)]: Done   1 out of   1 | elapsed:    0.4s remaining:    0.0s\n"
     ]
    },
    {
     "name": "stdout",
     "output_type": "stream",
     "text": [
      "building tree 2 of 10\n",
      "building tree 3 of 10\n",
      "building tree 4 of 10\n",
      "building tree 5 of 10\n",
      "building tree 6 of 10\n",
      "building tree 7 of 10\n",
      "building tree 8 of 10\n",
      "building tree 9 of 10\n",
      "building tree 10 of 10\n"
     ]
    },
    {
     "name": "stderr",
     "output_type": "stream",
     "text": [
      "[Parallel(n_jobs=1)]: Done  10 out of  10 | elapsed:    5.0s finished\n"
     ]
    },
    {
     "name": "stdout",
     "output_type": "stream",
     "text": [
      "building tree 1 of 10\n"
     ]
    },
    {
     "name": "stderr",
     "output_type": "stream",
     "text": [
      "[Parallel(n_jobs=1)]: Done   1 out of   1 | elapsed:    0.3s remaining:    0.0s\n"
     ]
    },
    {
     "name": "stdout",
     "output_type": "stream",
     "text": [
      "building tree 2 of 10\n",
      "building tree 3 of 10\n",
      "building tree 4 of 10\n",
      "building tree 5 of 10\n",
      "building tree 6 of 10\n",
      "building tree 7 of 10\n",
      "building tree 8 of 10\n",
      "building tree 9 of 10\n",
      "building tree 10 of 10\n"
     ]
    },
    {
     "name": "stderr",
     "output_type": "stream",
     "text": [
      "[Parallel(n_jobs=1)]: Done  10 out of  10 | elapsed:    3.8s finished\n",
      "[Parallel(n_jobs=1)]: Done   1 out of   1 | elapsed:    0.0s remaining:    0.0s\n"
     ]
    },
    {
     "name": "stdout",
     "output_type": "stream",
     "text": [
      "building tree 1 of 10\n",
      "building tree 2 of 10\n",
      "building tree 3 of 10\n",
      "building tree 4 of 10\n",
      "building tree 5 of 10\n",
      "building tree 6 of 10\n",
      "building tree 7 of 10\n",
      "building tree 8 of 10\n",
      "building tree 9 of 10\n",
      "building tree 10 of 10\n",
      "building tree 1 of 10\n"
     ]
    },
    {
     "name": "stderr",
     "output_type": "stream",
     "text": [
      "[Parallel(n_jobs=1)]: Done  10 out of  10 | elapsed:    0.4s finished\n",
      "[Parallel(n_jobs=1)]: Done   1 out of   1 | elapsed:    0.5s remaining:    0.0s\n"
     ]
    },
    {
     "name": "stdout",
     "output_type": "stream",
     "text": [
      "building tree 2 of 10\n",
      "building tree 3 of 10\n",
      "building tree 4 of 10\n",
      "building tree 5 of 10\n",
      "building tree 6 of 10\n",
      "building tree 7 of 10\n",
      "building tree 8 of 10\n",
      "building tree 9 of 10\n",
      "building tree 10 of 10\n"
     ]
    },
    {
     "name": "stderr",
     "output_type": "stream",
     "text": [
      "[Parallel(n_jobs=1)]: Done  10 out of  10 | elapsed:    6.2s finished\n"
     ]
    },
    {
     "name": "stdout",
     "output_type": "stream",
     "text": [
      "building tree 1 of 10\n"
     ]
    },
    {
     "name": "stderr",
     "output_type": "stream",
     "text": [
      "[Parallel(n_jobs=1)]: Done   1 out of   1 | elapsed:    0.1s remaining:    0.0s\n"
     ]
    },
    {
     "name": "stdout",
     "output_type": "stream",
     "text": [
      "building tree 2 of 10\n",
      "building tree 3 of 10\n",
      "building tree 4 of 10\n",
      "building tree 5 of 10\n",
      "building tree 6 of 10\n",
      "building tree 7 of 10\n",
      "building tree 8 of 10\n",
      "building tree 9 of 10\n",
      "building tree 10 of 10\n"
     ]
    },
    {
     "name": "stderr",
     "output_type": "stream",
     "text": [
      "[Parallel(n_jobs=1)]: Done  10 out of  10 | elapsed:    2.3s finished\n"
     ]
    },
    {
     "name": "stdout",
     "output_type": "stream",
     "text": [
      "building tree 1 of 10\n"
     ]
    },
    {
     "name": "stderr",
     "output_type": "stream",
     "text": [
      "[Parallel(n_jobs=1)]: Done   1 out of   1 | elapsed:    0.1s remaining:    0.0s\n"
     ]
    },
    {
     "name": "stdout",
     "output_type": "stream",
     "text": [
      "building tree 2 of 10\n",
      "building tree 3 of 10\n",
      "building tree 4 of 10\n",
      "building tree 5 of 10\n",
      "building tree 6 of 10\n",
      "building tree 7 of 10\n",
      "building tree 8 of 10\n",
      "building tree 9 of 10\n",
      "building tree 10 of 10\n"
     ]
    },
    {
     "name": "stderr",
     "output_type": "stream",
     "text": [
      "[Parallel(n_jobs=1)]: Done  10 out of  10 | elapsed:    1.9s finished\n",
      "[Parallel(n_jobs=1)]: Done   1 out of   1 | elapsed:    0.1s remaining:    0.0s\n"
     ]
    },
    {
     "name": "stdout",
     "output_type": "stream",
     "text": [
      "building tree 1 of 10\n",
      "building tree 2 of 10\n",
      "building tree 3 of 10\n",
      "building tree 4 of 10\n",
      "building tree 5 of 10\n",
      "building tree 6 of 10\n",
      "building tree 7 of 10\n",
      "building tree 8 of 10\n",
      "building tree 9 of 10\n",
      "building tree 10 of 10\n"
     ]
    },
    {
     "name": "stderr",
     "output_type": "stream",
     "text": [
      "[Parallel(n_jobs=1)]: Done  10 out of  10 | elapsed:    1.3s finished\n",
      "[Parallel(n_jobs=1)]: Done   1 out of   1 | elapsed:    0.0s remaining:    0.0s\n"
     ]
    },
    {
     "name": "stdout",
     "output_type": "stream",
     "text": [
      "building tree 1 of 10\n",
      "building tree 2 of 10\n",
      "building tree 3 of 10\n",
      "building tree 4 of 10\n",
      "building tree 5 of 10\n",
      "building tree 6 of 10\n",
      "building tree 7 of 10\n",
      "building tree 8 of 10\n",
      "building tree 9 of 10\n",
      "building tree 10 of 10\n",
      "building tree 1 of 10\n"
     ]
    },
    {
     "name": "stderr",
     "output_type": "stream",
     "text": [
      "[Parallel(n_jobs=1)]: Done  10 out of  10 | elapsed:    0.9s finished\n",
      "[Parallel(n_jobs=1)]: Done   1 out of   1 | elapsed:    0.0s remaining:    0.0s\n"
     ]
    },
    {
     "name": "stdout",
     "output_type": "stream",
     "text": [
      "building tree 2 of 10\n",
      "building tree 3 of 10\n",
      "building tree 4 of 10\n",
      "building tree 5 of 10\n",
      "building tree 6 of 10\n",
      "building tree 7 of 10\n",
      "building tree 8 of 10\n",
      "building tree 9 of 10\n",
      "building tree 10 of 10\n",
      "building tree 1 of 10\n"
     ]
    },
    {
     "name": "stderr",
     "output_type": "stream",
     "text": [
      "[Parallel(n_jobs=1)]: Done  10 out of  10 | elapsed:    1.1s finished\n",
      "[Parallel(n_jobs=1)]: Done   1 out of   1 | elapsed:    0.0s remaining:    0.0s\n",
      "[Parallel(n_jobs=1)]: Done  10 out of  10 | elapsed:    0.0s finished\n",
      "[Parallel(n_jobs=1)]: Done   1 out of   1 | elapsed:    0.0s remaining:    0.0s\n"
     ]
    },
    {
     "name": "stdout",
     "output_type": "stream",
     "text": [
      "building tree 2 of 10\n",
      "building tree 3 of 10\n",
      "building tree 4 of 10\n",
      "building tree 5 of 10\n",
      "building tree 6 of 10\n",
      "building tree 7 of 10\n",
      "building tree 8 of 10\n",
      "building tree 9 of 10\n",
      "building tree 10 of 10\n",
      "building tree 1 of 10\n",
      "building tree 2 of 10\n",
      "building tree 3 of 10\n",
      "building tree 4 of 10\n",
      "building tree 5 of 10\n",
      "building tree 6 of 10\n",
      "building tree 7 of 10\n",
      "building tree 8 of 10\n",
      "building tree 9 of 10\n",
      "building tree 10 of 10\n"
     ]
    },
    {
     "name": "stderr",
     "output_type": "stream",
     "text": [
      "[Parallel(n_jobs=1)]: Done  10 out of  10 | elapsed:    1.7s finished\n"
     ]
    },
    {
     "name": "stdout",
     "output_type": "stream",
     "text": [
      "building tree 1 of 10\n"
     ]
    },
    {
     "name": "stderr",
     "output_type": "stream",
     "text": [
      "[Parallel(n_jobs=1)]: Done   1 out of   1 | elapsed:    0.1s remaining:    0.0s\n"
     ]
    },
    {
     "name": "stdout",
     "output_type": "stream",
     "text": [
      "building tree 2 of 10\n",
      "building tree 3 of 10\n",
      "building tree 4 of 10\n",
      "building tree 5 of 10\n",
      "building tree 6 of 10\n",
      "building tree 7 of 10\n",
      "building tree 8 of 10\n",
      "building tree 9 of 10\n",
      "building tree 10 of 10\n"
     ]
    },
    {
     "name": "stderr",
     "output_type": "stream",
     "text": [
      "[Parallel(n_jobs=1)]: Done  10 out of  10 | elapsed:    2.6s finished\n"
     ]
    },
    {
     "name": "stdout",
     "output_type": "stream",
     "text": [
      "building tree 1 of 10\n"
     ]
    },
    {
     "name": "stderr",
     "output_type": "stream",
     "text": [
      "[Parallel(n_jobs=1)]: Done   1 out of   1 | elapsed:    0.2s remaining:    0.0s\n"
     ]
    },
    {
     "name": "stdout",
     "output_type": "stream",
     "text": [
      "building tree 2 of 10\n",
      "building tree 3 of 10\n",
      "building tree 4 of 10\n",
      "building tree 5 of 10\n",
      "building tree 6 of 10\n",
      "building tree 7 of 10\n",
      "building tree 8 of 10\n",
      "building tree 9 of 10\n",
      "building tree 10 of 10\n"
     ]
    },
    {
     "name": "stderr",
     "output_type": "stream",
     "text": [
      "[Parallel(n_jobs=1)]: Done  10 out of  10 | elapsed:    2.4s finished\n",
      "[Parallel(n_jobs=1)]: Done   1 out of   1 | elapsed:    0.0s remaining:    0.0s\n"
     ]
    },
    {
     "name": "stdout",
     "output_type": "stream",
     "text": [
      "building tree 1 of 10\n",
      "building tree 2 of 10\n",
      "building tree 3 of 10\n",
      "building tree 4 of 10\n",
      "building tree 5 of 10\n",
      "building tree 6 of 10\n",
      "building tree 7 of 10\n",
      "building tree 8 of 10\n",
      "building tree 9 of 10\n",
      "building tree 10 of 10\n"
     ]
    },
    {
     "name": "stderr",
     "output_type": "stream",
     "text": [
      "[Parallel(n_jobs=1)]: Done  10 out of  10 | elapsed:    0.9s finished\n",
      "[Parallel(n_jobs=1)]: Done   1 out of   1 | elapsed:    0.0s remaining:    0.0s\n"
     ]
    },
    {
     "name": "stdout",
     "output_type": "stream",
     "text": [
      "building tree 1 of 10\n",
      "building tree 2 of 10\n",
      "building tree 3 of 10\n",
      "building tree 4 of 10\n",
      "building tree 5 of 10\n",
      "building tree 6 of 10\n",
      "building tree 7 of 10\n",
      "building tree 8 of 10\n",
      "building tree 9 of 10\n",
      "building tree 10 of 10\n"
     ]
    },
    {
     "name": "stderr",
     "output_type": "stream",
     "text": [
      "[Parallel(n_jobs=1)]: Done  10 out of  10 | elapsed:    1.0s finished\n",
      "[Parallel(n_jobs=1)]: Done   1 out of   1 | elapsed:    0.0s remaining:    0.0s\n"
     ]
    },
    {
     "name": "stdout",
     "output_type": "stream",
     "text": [
      "building tree 1 of 10\n",
      "building tree 2 of 10\n",
      "building tree 3 of 10\n",
      "building tree 4 of 10\n",
      "building tree 5 of 10\n",
      "building tree 6 of 10\n",
      "building tree 7 of 10\n",
      "building tree 8 of 10\n",
      "building tree 9 of 10\n",
      "building tree 10 of 10\n"
     ]
    },
    {
     "name": "stderr",
     "output_type": "stream",
     "text": [
      "[Parallel(n_jobs=1)]: Done  10 out of  10 | elapsed:    0.8s finished\n",
      "[Parallel(n_jobs=1)]: Done   1 out of   1 | elapsed:    0.1s remaining:    0.0s\n"
     ]
    },
    {
     "name": "stdout",
     "output_type": "stream",
     "text": [
      "building tree 1 of 10\n",
      "building tree 2 of 10\n",
      "building tree 3 of 10\n",
      "building tree 4 of 10\n",
      "building tree 5 of 10\n",
      "building tree 6 of 10\n",
      "building tree 7 of 10\n",
      "building tree 8 of 10\n",
      "building tree 9 of 10\n",
      "building tree 10 of 10\n"
     ]
    },
    {
     "name": "stderr",
     "output_type": "stream",
     "text": [
      "[Parallel(n_jobs=1)]: Done  10 out of  10 | elapsed:    1.4s finished\n"
     ]
    },
    {
     "name": "stdout",
     "output_type": "stream",
     "text": [
      "building tree 1 of 10\n",
      "building tree 2 of 10\n"
     ]
    },
    {
     "name": "stderr",
     "output_type": "stream",
     "text": [
      "[Parallel(n_jobs=1)]: Done   1 out of   1 | elapsed:    0.1s remaining:    0.0s\n"
     ]
    },
    {
     "name": "stdout",
     "output_type": "stream",
     "text": [
      "building tree 3 of 10\n",
      "building tree 4 of 10\n",
      "building tree 5 of 10\n",
      "building tree 6 of 10\n",
      "building tree 7 of 10\n",
      "building tree 8 of 10\n",
      "building tree 9 of 10\n",
      "building tree 10 of 10\n",
      "building tree 1 of 10\n"
     ]
    },
    {
     "name": "stderr",
     "output_type": "stream",
     "text": [
      "[Parallel(n_jobs=1)]: Done  10 out of  10 | elapsed:    1.5s finished\n",
      "[Parallel(n_jobs=1)]: Done   1 out of   1 | elapsed:    0.2s remaining:    0.0s\n"
     ]
    },
    {
     "name": "stdout",
     "output_type": "stream",
     "text": [
      "building tree 2 of 10\n",
      "building tree 3 of 10\n",
      "building tree 4 of 10\n",
      "building tree 5 of 10\n",
      "building tree 6 of 10\n",
      "building tree 7 of 10\n",
      "building tree 8 of 10\n",
      "building tree 9 of 10\n",
      "building tree 10 of 10\n"
     ]
    },
    {
     "name": "stderr",
     "output_type": "stream",
     "text": [
      "[Parallel(n_jobs=1)]: Done  10 out of  10 | elapsed:    3.5s finished\n"
     ]
    },
    {
     "name": "stdout",
     "output_type": "stream",
     "text": [
      "building tree 1 of 10\n",
      "building tree 2 of 10\n"
     ]
    },
    {
     "name": "stderr",
     "output_type": "stream",
     "text": [
      "[Parallel(n_jobs=1)]: Done   1 out of   1 | elapsed:    0.1s remaining:    0.0s\n"
     ]
    },
    {
     "name": "stdout",
     "output_type": "stream",
     "text": [
      "building tree 3 of 10\n",
      "building tree 4 of 10\n",
      "building tree 5 of 10\n",
      "building tree 6 of 10\n",
      "building tree 7 of 10\n",
      "building tree 8 of 10\n",
      "building tree 9 of 10\n",
      "building tree 10 of 10\n"
     ]
    },
    {
     "name": "stderr",
     "output_type": "stream",
     "text": [
      "[Parallel(n_jobs=1)]: Done  10 out of  10 | elapsed:    2.1s finished\n"
     ]
    },
    {
     "name": "stdout",
     "output_type": "stream",
     "text": [
      "building tree 1 of 10\n"
     ]
    },
    {
     "name": "stderr",
     "output_type": "stream",
     "text": [
      "[Parallel(n_jobs=1)]: Done   1 out of   1 | elapsed:    0.1s remaining:    0.0s\n"
     ]
    },
    {
     "name": "stdout",
     "output_type": "stream",
     "text": [
      "building tree 2 of 10\n",
      "building tree 3 of 10\n",
      "building tree 4 of 10\n",
      "building tree 5 of 10\n",
      "building tree 6 of 10\n",
      "building tree 7 of 10\n",
      "building tree 8 of 10\n",
      "building tree 9 of 10\n",
      "building tree 10 of 10\n"
     ]
    },
    {
     "name": "stderr",
     "output_type": "stream",
     "text": [
      "[Parallel(n_jobs=1)]: Done  10 out of  10 | elapsed:    1.9s finished\n",
      "[Parallel(n_jobs=1)]: Done   1 out of   1 | elapsed:    0.1s remaining:    0.0s\n"
     ]
    },
    {
     "name": "stdout",
     "output_type": "stream",
     "text": [
      "building tree 1 of 10\n",
      "building tree 2 of 10\n",
      "building tree 3 of 10\n",
      "building tree 4 of 10\n",
      "building tree 5 of 10\n",
      "building tree 6 of 10\n",
      "building tree 7 of 10\n",
      "building tree 8 of 10\n",
      "building tree 9 of 10\n",
      "building tree 10 of 10\n"
     ]
    },
    {
     "name": "stderr",
     "output_type": "stream",
     "text": [
      "[Parallel(n_jobs=1)]: Done  10 out of  10 | elapsed:    1.5s finished\n",
      "[Parallel(n_jobs=1)]: Done   1 out of   1 | elapsed:    0.0s remaining:    0.0s\n"
     ]
    },
    {
     "name": "stdout",
     "output_type": "stream",
     "text": [
      "building tree 1 of 10\n",
      "building tree 2 of 10\n",
      "building tree 3 of 10\n",
      "building tree 4 of 10\n",
      "building tree 5 of 10\n",
      "building tree 6 of 10\n",
      "building tree 7 of 10\n",
      "building tree 8 of 10\n",
      "building tree 9 of 10\n",
      "building tree 10 of 10\n",
      "building tree 1 of 10\n",
      "building tree 2 of 10\n"
     ]
    },
    {
     "name": "stderr",
     "output_type": "stream",
     "text": [
      "[Parallel(n_jobs=1)]: Done  10 out of  10 | elapsed:    0.9s finished\n",
      "[Parallel(n_jobs=1)]: Done   1 out of   1 | elapsed:    0.0s remaining:    0.0s\n"
     ]
    },
    {
     "name": "stdout",
     "output_type": "stream",
     "text": [
      "building tree 3 of 10\n",
      "building tree 4 of 10\n",
      "building tree 5 of 10\n",
      "building tree 6 of 10\n",
      "building tree 7 of 10\n",
      "building tree 8 of 10\n",
      "building tree 9 of 10\n",
      "building tree 10 of 10\n",
      "building tree 1 of 10\n"
     ]
    },
    {
     "name": "stderr",
     "output_type": "stream",
     "text": [
      "[Parallel(n_jobs=1)]: Done  10 out of  10 | elapsed:    0.4s finished\n",
      "[Parallel(n_jobs=1)]: Done   1 out of   1 | elapsed:    0.0s remaining:    0.0s\n"
     ]
    },
    {
     "name": "stdout",
     "output_type": "stream",
     "text": [
      "building tree 2 of 10\n",
      "building tree 3 of 10\n",
      "building tree 4 of 10\n",
      "building tree 5 of 10\n",
      "building tree 6 of 10\n",
      "building tree 7 of 10\n",
      "building tree 8 of 10\n",
      "building tree 9 of 10\n",
      "building tree 10 of 10\n"
     ]
    },
    {
     "name": "stderr",
     "output_type": "stream",
     "text": [
      "[Parallel(n_jobs=1)]: Done  10 out of  10 | elapsed:    0.6s finished\n",
      "[Parallel(n_jobs=1)]: Done   1 out of   1 | elapsed:    0.0s remaining:    0.0s\n"
     ]
    },
    {
     "name": "stdout",
     "output_type": "stream",
     "text": [
      "building tree 1 of 10\n",
      "building tree 2 of 10\n",
      "building tree 3 of 10\n",
      "building tree 4 of 10\n",
      "building tree 5 of 10\n",
      "building tree 6 of 10\n",
      "building tree 7 of 10\n",
      "building tree 8 of 10\n",
      "building tree 9 of 10\n",
      "building tree 10 of 10\n"
     ]
    },
    {
     "name": "stderr",
     "output_type": "stream",
     "text": [
      "[Parallel(n_jobs=1)]: Done  10 out of  10 | elapsed:    0.3s finished\n",
      "[Parallel(n_jobs=1)]: Done   1 out of   1 | elapsed:    0.0s remaining:    0.0s\n"
     ]
    },
    {
     "name": "stdout",
     "output_type": "stream",
     "text": [
      "building tree 1 of 10\n",
      "building tree 2 of 10\n",
      "building tree 3 of 10\n",
      "building tree 4 of 10\n",
      "building tree 5 of 10\n",
      "building tree 6 of 10\n",
      "building tree 7 of 10\n",
      "building tree 8 of 10\n",
      "building tree 9 of 10\n",
      "building tree 10 of 10\n",
      "building tree 1 of 10\n"
     ]
    },
    {
     "name": "stderr",
     "output_type": "stream",
     "text": [
      "[Parallel(n_jobs=1)]: Done  10 out of  10 | elapsed:    0.7s finished\n",
      "[Parallel(n_jobs=1)]: Done   1 out of   1 | elapsed:    0.1s remaining:    0.0s\n"
     ]
    },
    {
     "name": "stdout",
     "output_type": "stream",
     "text": [
      "building tree 2 of 10\n",
      "building tree 3 of 10\n",
      "building tree 4 of 10\n",
      "building tree 5 of 10\n",
      "building tree 6 of 10\n",
      "building tree 7 of 10\n",
      "building tree 8 of 10\n",
      "building tree 9 of 10\n",
      "building tree 10 of 10\n"
     ]
    },
    {
     "name": "stderr",
     "output_type": "stream",
     "text": [
      "[Parallel(n_jobs=1)]: Done  10 out of  10 | elapsed:    1.8s finished\n"
     ]
    },
    {
     "name": "stdout",
     "output_type": "stream",
     "text": [
      "building tree 1 of 10\n"
     ]
    },
    {
     "name": "stderr",
     "output_type": "stream",
     "text": [
      "[Parallel(n_jobs=1)]: Done   1 out of   1 | elapsed:    0.3s remaining:    0.0s\n"
     ]
    },
    {
     "name": "stdout",
     "output_type": "stream",
     "text": [
      "building tree 2 of 10\n",
      "building tree 3 of 10\n",
      "building tree 4 of 10\n",
      "building tree 5 of 10\n",
      "building tree 6 of 10\n",
      "building tree 7 of 10\n",
      "building tree 8 of 10\n",
      "building tree 9 of 10\n",
      "building tree 10 of 10\n"
     ]
    },
    {
     "name": "stderr",
     "output_type": "stream",
     "text": [
      "[Parallel(n_jobs=1)]: Done  10 out of  10 | elapsed:    4.2s finished\n"
     ]
    },
    {
     "name": "stdout",
     "output_type": "stream",
     "text": [
      "building tree 1 of 10\n",
      "building tree 2 of 10\n"
     ]
    },
    {
     "name": "stderr",
     "output_type": "stream",
     "text": [
      "[Parallel(n_jobs=1)]: Done   1 out of   1 | elapsed:    0.1s remaining:    0.0s\n"
     ]
    },
    {
     "name": "stdout",
     "output_type": "stream",
     "text": [
      "building tree 3 of 10\n",
      "building tree 4 of 10\n",
      "building tree 5 of 10\n",
      "building tree 6 of 10\n",
      "building tree 7 of 10\n",
      "building tree 8 of 10\n",
      "building tree 9 of 10\n",
      "building tree 10 of 10\n"
     ]
    },
    {
     "name": "stderr",
     "output_type": "stream",
     "text": [
      "[Parallel(n_jobs=1)]: Done  10 out of  10 | elapsed:    1.9s finished\n"
     ]
    },
    {
     "name": "stdout",
     "output_type": "stream",
     "text": [
      "building tree 1 of 10\n",
      "building tree 2 of 10\n"
     ]
    },
    {
     "name": "stderr",
     "output_type": "stream",
     "text": [
      "[Parallel(n_jobs=1)]: Done   1 out of   1 | elapsed:    0.1s remaining:    0.0s\n"
     ]
    },
    {
     "name": "stdout",
     "output_type": "stream",
     "text": [
      "building tree 3 of 10\n",
      "building tree 4 of 10\n",
      "building tree 5 of 10\n",
      "building tree 6 of 10\n",
      "building tree 7 of 10\n",
      "building tree 8 of 10\n",
      "building tree 9 of 10\n",
      "building tree 10 of 10\n"
     ]
    },
    {
     "name": "stderr",
     "output_type": "stream",
     "text": [
      "[Parallel(n_jobs=1)]: Done  10 out of  10 | elapsed:    2.0s finished\n",
      "[Parallel(n_jobs=1)]: Done   1 out of   1 | elapsed:    0.0s remaining:    0.0s\n"
     ]
    },
    {
     "name": "stdout",
     "output_type": "stream",
     "text": [
      "building tree 1 of 10\n",
      "building tree 2 of 10\n",
      "building tree 3 of 10\n",
      "building tree 4 of 10\n",
      "building tree 5 of 10\n",
      "building tree 6 of 10\n",
      "building tree 7 of 10\n",
      "building tree 8 of 10\n",
      "building tree 9 of 10\n",
      "building tree 10 of 10\n",
      "building tree 1 of 10"
     ]
    },
    {
     "name": "stderr",
     "output_type": "stream",
     "text": [
      "[Parallel(n_jobs=1)]: Done  10 out of  10 | elapsed:    0.7s finished\n"
     ]
    },
    {
     "name": "stdout",
     "output_type": "stream",
     "text": [
      "\n"
     ]
    },
    {
     "name": "stderr",
     "output_type": "stream",
     "text": [
      "[Parallel(n_jobs=1)]: Done   1 out of   1 | elapsed:    0.2s remaining:    0.0s\n"
     ]
    },
    {
     "name": "stdout",
     "output_type": "stream",
     "text": [
      "building tree 2 of 10\n",
      "building tree 3 of 10\n",
      "building tree 4 of 10\n",
      "building tree 5 of 10\n",
      "building tree 6 of 10\n",
      "building tree 7 of 10\n",
      "building tree 8 of 10\n",
      "building tree 9 of 10\n",
      "building tree 10 of 10\n"
     ]
    },
    {
     "name": "stderr",
     "output_type": "stream",
     "text": [
      "[Parallel(n_jobs=1)]: Done  10 out of  10 | elapsed:    2.5s finished\n",
      "[Parallel(n_jobs=1)]: Done   1 out of   1 | elapsed:    0.0s remaining:    0.0s\n"
     ]
    },
    {
     "name": "stdout",
     "output_type": "stream",
     "text": [
      "building tree 1 of 10\n",
      "building tree 2 of 10\n",
      "building tree 3 of 10\n",
      "building tree 4 of 10\n",
      "building tree 5 of 10\n",
      "building tree 6 of 10\n",
      "building tree 7 of 10\n",
      "building tree 8 of 10\n",
      "building tree 9 of 10\n",
      "building tree 10 of 10\n",
      "building tree 1 of 10\n"
     ]
    },
    {
     "name": "stderr",
     "output_type": "stream",
     "text": [
      "[Parallel(n_jobs=1)]: Done  10 out of  10 | elapsed:    0.9s finished\n",
      "[Parallel(n_jobs=1)]: Done   1 out of   1 | elapsed:    0.1s remaining:    0.0s\n"
     ]
    },
    {
     "name": "stdout",
     "output_type": "stream",
     "text": [
      "building tree 2 of 10\n",
      "building tree 3 of 10\n",
      "building tree 4 of 10\n",
      "building tree 5 of 10\n",
      "building tree 6 of 10\n",
      "building tree 7 of 10\n",
      "building tree 8 of 10\n",
      "building tree 9 of 10\n",
      "building tree 10 of 10\n"
     ]
    },
    {
     "name": "stderr",
     "output_type": "stream",
     "text": [
      "[Parallel(n_jobs=1)]: Done  10 out of  10 | elapsed:    1.7s finished\n"
     ]
    },
    {
     "name": "stdout",
     "output_type": "stream",
     "text": [
      "building tree 1 of 10\n"
     ]
    },
    {
     "name": "stderr",
     "output_type": "stream",
     "text": [
      "[Parallel(n_jobs=1)]: Done   1 out of   1 | elapsed:    0.3s remaining:    0.0s\n"
     ]
    },
    {
     "name": "stdout",
     "output_type": "stream",
     "text": [
      "building tree 2 of 10\n",
      "building tree 3 of 10\n",
      "building tree 4 of 10\n",
      "building tree 5 of 10\n",
      "building tree 6 of 10\n",
      "building tree 7 of 10\n",
      "building tree 8 of 10\n",
      "building tree 9 of 10\n",
      "building tree 10 of 10\n"
     ]
    },
    {
     "name": "stderr",
     "output_type": "stream",
     "text": [
      "[Parallel(n_jobs=1)]: Done  10 out of  10 | elapsed:    4.3s finished\n"
     ]
    },
    {
     "data": {
      "text/plain": [
       "Pipeline(memory=None,\n",
       "     steps=[('vect', CountVectorizer(analyzer='word', binary=False, decode_error='strict',\n",
       "        dtype=<class 'numpy.int64'>, encoding='utf-8', input='content',\n",
       "        lowercase=True, max_df=1.0, max_features=None, min_df=1,\n",
       "        ngram_range=(1, 1), preprocessor=None, stop_words=None,\n",
       "        strip...oob_score=False, random_state=None, verbose=2,\n",
       "            warm_start=False),\n",
       "           n_jobs=1))])"
      ]
     },
     "execution_count": 6,
     "metadata": {},
     "output_type": "execute_result"
    }
   ],
   "source": [
    "pipeline.fit(X_train, y_train)"
   ]
  },
  {
   "cell_type": "markdown",
   "metadata": {},
   "source": [
    "### 5. Test your model\n",
    "Here, I will present the f1 score, precision and recall for each output category of the dataset. I used classification_report on each column."
   ]
  },
  {
   "cell_type": "code",
   "execution_count": 9,
   "metadata": {},
   "outputs": [
    {
     "name": "stderr",
     "output_type": "stream",
     "text": [
      "[Parallel(n_jobs=1)]: Done   1 out of   1 | elapsed:    0.0s remaining:    0.0s\n",
      "[Parallel(n_jobs=1)]: Done  10 out of  10 | elapsed:    0.0s finished\n",
      "[Parallel(n_jobs=1)]: Done   1 out of   1 | elapsed:    0.0s remaining:    0.0s\n",
      "[Parallel(n_jobs=1)]: Done  10 out of  10 | elapsed:    0.0s finished\n",
      "[Parallel(n_jobs=1)]: Done   1 out of   1 | elapsed:    0.0s remaining:    0.0s\n",
      "[Parallel(n_jobs=1)]: Done  10 out of  10 | elapsed:    0.0s finished\n",
      "[Parallel(n_jobs=1)]: Done   1 out of   1 | elapsed:    0.0s remaining:    0.0s\n",
      "[Parallel(n_jobs=1)]: Done  10 out of  10 | elapsed:    0.0s finished\n",
      "[Parallel(n_jobs=1)]: Done   1 out of   1 | elapsed:    0.0s remaining:    0.0s\n",
      "[Parallel(n_jobs=1)]: Done  10 out of  10 | elapsed:    0.0s finished\n",
      "[Parallel(n_jobs=1)]: Done   1 out of   1 | elapsed:    0.0s remaining:    0.0s\n",
      "[Parallel(n_jobs=1)]: Done  10 out of  10 | elapsed:    0.0s finished\n",
      "[Parallel(n_jobs=1)]: Done   1 out of   1 | elapsed:    0.0s remaining:    0.0s\n",
      "[Parallel(n_jobs=1)]: Done  10 out of  10 | elapsed:    0.0s finished\n",
      "[Parallel(n_jobs=1)]: Done   1 out of   1 | elapsed:    0.0s remaining:    0.0s\n",
      "[Parallel(n_jobs=1)]: Done  10 out of  10 | elapsed:    0.0s finished\n",
      "[Parallel(n_jobs=1)]: Done   1 out of   1 | elapsed:    0.0s remaining:    0.0s\n",
      "[Parallel(n_jobs=1)]: Done  10 out of  10 | elapsed:    0.0s finished\n",
      "[Parallel(n_jobs=1)]: Done   1 out of   1 | elapsed:    0.0s remaining:    0.0s\n",
      "[Parallel(n_jobs=1)]: Done  10 out of  10 | elapsed:    0.0s finished\n",
      "[Parallel(n_jobs=1)]: Done   1 out of   1 | elapsed:    0.0s remaining:    0.0s\n",
      "[Parallel(n_jobs=1)]: Done  10 out of  10 | elapsed:    0.0s finished\n",
      "[Parallel(n_jobs=1)]: Done   1 out of   1 | elapsed:    0.0s remaining:    0.0s\n",
      "[Parallel(n_jobs=1)]: Done  10 out of  10 | elapsed:    0.0s finished\n",
      "[Parallel(n_jobs=1)]: Done   1 out of   1 | elapsed:    0.0s remaining:    0.0s\n",
      "[Parallel(n_jobs=1)]: Done  10 out of  10 | elapsed:    0.0s finished\n",
      "[Parallel(n_jobs=1)]: Done   1 out of   1 | elapsed:    0.0s remaining:    0.0s\n",
      "[Parallel(n_jobs=1)]: Done  10 out of  10 | elapsed:    0.0s finished\n",
      "[Parallel(n_jobs=1)]: Done   1 out of   1 | elapsed:    0.0s remaining:    0.0s\n",
      "[Parallel(n_jobs=1)]: Done  10 out of  10 | elapsed:    0.0s finished\n",
      "[Parallel(n_jobs=1)]: Done   1 out of   1 | elapsed:    0.0s remaining:    0.0s\n",
      "[Parallel(n_jobs=1)]: Done  10 out of  10 | elapsed:    0.0s finished\n",
      "[Parallel(n_jobs=1)]: Done   1 out of   1 | elapsed:    0.0s remaining:    0.0s\n",
      "[Parallel(n_jobs=1)]: Done  10 out of  10 | elapsed:    0.0s finished\n",
      "[Parallel(n_jobs=1)]: Done   1 out of   1 | elapsed:    0.0s remaining:    0.0s\n",
      "[Parallel(n_jobs=1)]: Done  10 out of  10 | elapsed:    0.0s finished\n",
      "[Parallel(n_jobs=1)]: Done   1 out of   1 | elapsed:    0.0s remaining:    0.0s\n",
      "[Parallel(n_jobs=1)]: Done  10 out of  10 | elapsed:    0.0s finished\n",
      "[Parallel(n_jobs=1)]: Done   1 out of   1 | elapsed:    0.0s remaining:    0.0s\n",
      "[Parallel(n_jobs=1)]: Done  10 out of  10 | elapsed:    0.0s finished\n",
      "[Parallel(n_jobs=1)]: Done   1 out of   1 | elapsed:    0.0s remaining:    0.0s\n",
      "[Parallel(n_jobs=1)]: Done  10 out of  10 | elapsed:    0.0s finished\n",
      "[Parallel(n_jobs=1)]: Done   1 out of   1 | elapsed:    0.0s remaining:    0.0s\n",
      "[Parallel(n_jobs=1)]: Done  10 out of  10 | elapsed:    0.0s finished\n",
      "[Parallel(n_jobs=1)]: Done   1 out of   1 | elapsed:    0.0s remaining:    0.0s\n",
      "[Parallel(n_jobs=1)]: Done  10 out of  10 | elapsed:    0.0s finished\n",
      "[Parallel(n_jobs=1)]: Done   1 out of   1 | elapsed:    0.0s remaining:    0.0s\n",
      "[Parallel(n_jobs=1)]: Done  10 out of  10 | elapsed:    0.0s finished\n",
      "[Parallel(n_jobs=1)]: Done   1 out of   1 | elapsed:    0.0s remaining:    0.0s\n",
      "[Parallel(n_jobs=1)]: Done  10 out of  10 | elapsed:    0.0s finished\n",
      "[Parallel(n_jobs=1)]: Done   1 out of   1 | elapsed:    0.0s remaining:    0.0s\n",
      "[Parallel(n_jobs=1)]: Done  10 out of  10 | elapsed:    0.0s finished\n",
      "[Parallel(n_jobs=1)]: Done   1 out of   1 | elapsed:    0.0s remaining:    0.0s\n",
      "[Parallel(n_jobs=1)]: Done  10 out of  10 | elapsed:    0.0s finished\n",
      "[Parallel(n_jobs=1)]: Done   1 out of   1 | elapsed:    0.0s remaining:    0.0s\n",
      "[Parallel(n_jobs=1)]: Done  10 out of  10 | elapsed:    0.0s finished\n",
      "[Parallel(n_jobs=1)]: Done   1 out of   1 | elapsed:    0.0s remaining:    0.0s\n",
      "[Parallel(n_jobs=1)]: Done  10 out of  10 | elapsed:    0.0s finished\n",
      "[Parallel(n_jobs=1)]: Done   1 out of   1 | elapsed:    0.0s remaining:    0.0s\n",
      "[Parallel(n_jobs=1)]: Done  10 out of  10 | elapsed:    0.0s finished\n",
      "[Parallel(n_jobs=1)]: Done   1 out of   1 | elapsed:    0.0s remaining:    0.0s\n",
      "[Parallel(n_jobs=1)]: Done  10 out of  10 | elapsed:    0.0s finished\n",
      "[Parallel(n_jobs=1)]: Done   1 out of   1 | elapsed:    0.0s remaining:    0.0s\n",
      "[Parallel(n_jobs=1)]: Done  10 out of  10 | elapsed:    0.0s finished\n",
      "[Parallel(n_jobs=1)]: Done   1 out of   1 | elapsed:    0.0s remaining:    0.0s\n",
      "[Parallel(n_jobs=1)]: Done  10 out of  10 | elapsed:    0.0s finished\n",
      "[Parallel(n_jobs=1)]: Done   1 out of   1 | elapsed:    0.0s remaining:    0.0s\n",
      "[Parallel(n_jobs=1)]: Done  10 out of  10 | elapsed:    0.0s finished\n",
      "[Parallel(n_jobs=1)]: Done   1 out of   1 | elapsed:    0.0s remaining:    0.0s\n",
      "[Parallel(n_jobs=1)]: Done  10 out of  10 | elapsed:    0.0s finished\n",
      "[Parallel(n_jobs=1)]: Done   1 out of   1 | elapsed:    0.0s remaining:    0.0s\n",
      "[Parallel(n_jobs=1)]: Done  10 out of  10 | elapsed:    0.0s finished\n"
     ]
    }
   ],
   "source": [
    "y_pred = pipeline.predict(X_test)\n",
    "y_pred_df = pd.DataFrame(y_pred)\n",
    "y_pred_df.columns = y_test.columns"
   ]
  },
  {
   "cell_type": "markdown",
   "metadata": {},
   "source": [
    "To display the classification_report scores, I have to create a dataframe containing the values of y_pred. Then, I iterate through the columns and print the classification_report between y_test and y_pred dataframe."
   ]
  },
  {
   "cell_type": "code",
   "execution_count": 10,
   "metadata": {},
   "outputs": [
    {
     "name": "stdout",
     "output_type": "stream",
     "text": [
      "related \n",
      "              precision    recall  f1-score   support\n",
      "\n",
      "          0       0.61      0.35      0.44      1266\n",
      "          1       0.81      0.93      0.86      3938\n",
      "          2       0.75      0.07      0.14        40\n",
      "\n",
      "avg / total       0.76      0.78      0.76      5244\n",
      "\n",
      "request \n",
      "              precision    recall  f1-score   support\n",
      "\n",
      "          0       0.89      0.98      0.93      4349\n",
      "          1       0.83      0.38      0.53       895\n",
      "\n",
      "avg / total       0.88      0.88      0.86      5244\n",
      "\n",
      "offer \n",
      "              precision    recall  f1-score   support\n",
      "\n",
      "          0       1.00      1.00      1.00      5218\n",
      "          1       0.00      0.00      0.00        26\n",
      "\n",
      "avg / total       0.99      1.00      0.99      5244\n",
      "\n",
      "aid_related \n",
      "              precision    recall  f1-score   support\n",
      "\n",
      "          0       0.73      0.88      0.80      3113\n",
      "          1       0.75      0.52      0.61      2131\n",
      "\n",
      "avg / total       0.73      0.73      0.72      5244\n",
      "\n",
      "medical_help \n",
      "              precision    recall  f1-score   support\n",
      "\n",
      "          0       0.93      0.99      0.96      4822\n",
      "          1       0.62      0.11      0.19       422\n",
      "\n",
      "avg / total       0.90      0.92      0.90      5244\n",
      "\n",
      "medical_products \n",
      "              precision    recall  f1-score   support\n",
      "\n",
      "          0       0.95      1.00      0.97      4974\n",
      "          1       0.68      0.09      0.15       270\n",
      "\n",
      "avg / total       0.94      0.95      0.93      5244\n",
      "\n",
      "search_and_rescue \n",
      "              precision    recall  f1-score   support\n",
      "\n",
      "          0       0.98      1.00      0.99      5117\n",
      "          1       0.60      0.07      0.13       127\n",
      "\n",
      "avg / total       0.97      0.98      0.97      5244\n",
      "\n",
      "security \n",
      "              precision    recall  f1-score   support\n",
      "\n",
      "          0       0.98      1.00      0.99      5156\n",
      "          1       0.33      0.01      0.02        88\n",
      "\n",
      "avg / total       0.97      0.98      0.98      5244\n",
      "\n",
      "military \n",
      "              precision    recall  f1-score   support\n",
      "\n",
      "          0       0.97      1.00      0.99      5089\n",
      "          1       0.55      0.07      0.13       155\n",
      "\n",
      "avg / total       0.96      0.97      0.96      5244\n",
      "\n",
      "child_alone \n",
      "              precision    recall  f1-score   support\n",
      "\n",
      "          0       1.00      1.00      1.00      5244\n",
      "\n",
      "avg / total       1.00      1.00      1.00      5244\n",
      "\n",
      "water \n",
      "              precision    recall  f1-score   support\n",
      "\n",
      "          0       0.95      1.00      0.97      4905\n",
      "          1       0.90      0.17      0.28       339\n",
      "\n",
      "avg / total       0.94      0.95      0.93      5244\n",
      "\n",
      "food \n",
      "              precision    recall  f1-score   support\n",
      "\n",
      "          0       0.92      0.99      0.95      4649\n",
      "          1       0.84      0.30      0.44       595\n",
      "\n",
      "avg / total       0.91      0.91      0.90      5244\n",
      "\n",
      "shelter \n",
      "              precision    recall  f1-score   support\n",
      "\n",
      "          0       0.93      1.00      0.96      4774\n",
      "          1       0.82      0.20      0.32       470\n",
      "\n",
      "avg / total       0.92      0.92      0.90      5244\n",
      "\n",
      "clothing \n",
      "              precision    recall  f1-score   support\n",
      "\n",
      "          0       0.99      1.00      0.99      5171\n",
      "          1       0.75      0.08      0.15        73\n",
      "\n",
      "avg / total       0.98      0.99      0.98      5244\n",
      "\n",
      "money \n",
      "              precision    recall  f1-score   support\n",
      "\n",
      "          0       0.98      1.00      0.99      5140\n",
      "          1       1.00      0.09      0.16       104\n",
      "\n",
      "avg / total       0.98      0.98      0.97      5244\n",
      "\n",
      "missing_people \n",
      "              precision    recall  f1-score   support\n",
      "\n",
      "          0       0.99      1.00      0.99      5184\n",
      "          1       1.00      0.02      0.03        60\n",
      "\n",
      "avg / total       0.99      0.99      0.98      5244\n",
      "\n",
      "refugees \n",
      "              precision    recall  f1-score   support\n",
      "\n",
      "          0       0.97      1.00      0.98      5073\n",
      "          1       0.58      0.11      0.18       171\n",
      "\n",
      "avg / total       0.96      0.97      0.96      5244\n",
      "\n",
      "death \n",
      "              precision    recall  f1-score   support\n",
      "\n",
      "          0       0.96      1.00      0.98      5007\n",
      "          1       0.84      0.17      0.29       237\n",
      "\n",
      "avg / total       0.96      0.96      0.95      5244\n",
      "\n",
      "other_aid \n",
      "              precision    recall  f1-score   support\n",
      "\n",
      "          0       0.87      1.00      0.93      4549\n",
      "          1       0.62      0.02      0.04       695\n",
      "\n",
      "avg / total       0.84      0.87      0.81      5244\n",
      "\n",
      "infrastructure_related \n",
      "              precision    recall  f1-score   support\n",
      "\n",
      "          0       0.94      1.00      0.97      4916\n",
      "          1       0.33      0.00      0.01       328\n",
      "\n",
      "avg / total       0.90      0.94      0.91      5244\n",
      "\n",
      "transport \n",
      "              precision    recall  f1-score   support\n",
      "\n",
      "          0       0.96      1.00      0.98      5004\n",
      "          1       0.60      0.09      0.15       240\n",
      "\n",
      "avg / total       0.94      0.96      0.94      5244\n",
      "\n",
      "buildings \n",
      "              precision    recall  f1-score   support\n",
      "\n",
      "          0       0.95      1.00      0.97      4977\n",
      "          1       0.69      0.04      0.08       267\n",
      "\n",
      "avg / total       0.94      0.95      0.93      5244\n",
      "\n",
      "electricity \n",
      "              precision    recall  f1-score   support\n",
      "\n",
      "          0       0.98      1.00      0.99      5122\n",
      "          1       0.33      0.01      0.02       122\n",
      "\n",
      "avg / total       0.96      0.98      0.97      5244\n",
      "\n",
      "tools \n",
      "              precision    recall  f1-score   support\n",
      "\n",
      "          0       0.99      1.00      1.00      5212\n",
      "          1       0.00      0.00      0.00        32\n",
      "\n",
      "avg / total       0.99      0.99      0.99      5244\n",
      "\n",
      "hospitals \n",
      "              precision    recall  f1-score   support\n",
      "\n",
      "          0       0.99      1.00      1.00      5198\n",
      "          1       0.00      0.00      0.00        46\n",
      "\n",
      "avg / total       0.98      0.99      0.99      5244\n",
      "\n",
      "shops \n",
      "              precision    recall  f1-score   support\n",
      "\n",
      "          0       1.00      1.00      1.00      5222\n",
      "          1       0.00      0.00      0.00        22\n",
      "\n",
      "avg / total       0.99      1.00      0.99      5244\n",
      "\n",
      "aid_centers \n",
      "              precision    recall  f1-score   support\n",
      "\n",
      "          0       0.99      1.00      0.99      5177\n",
      "          1       0.00      0.00      0.00        67\n",
      "\n",
      "avg / total       0.97      0.99      0.98      5244\n",
      "\n",
      "other_infrastructure \n",
      "              precision    recall  f1-score   support\n",
      "\n",
      "          0       0.96      1.00      0.98      5021\n",
      "          1       0.00      0.00      0.00       223\n",
      "\n",
      "avg / total       0.92      0.96      0.94      5244\n",
      "\n",
      "weather_related \n",
      "              precision    recall  f1-score   support\n",
      "\n",
      "          0       0.83      0.96      0.89      3806\n",
      "          1       0.83      0.49      0.62      1438\n",
      "\n",
      "avg / total       0.83      0.83      0.82      5244\n",
      "\n",
      "floods \n",
      "              precision    recall  f1-score   support\n",
      "\n",
      "          0       0.95      1.00      0.97      4833\n",
      "          1       0.88      0.32      0.47       411\n",
      "\n",
      "avg / total       0.94      0.94      0.93      5244\n",
      "\n",
      "storm \n",
      "              precision    recall  f1-score   support\n",
      "\n",
      "          0       0.93      0.99      0.96      4758\n",
      "          1       0.73      0.33      0.45       486\n",
      "\n",
      "avg / total       0.92      0.93      0.91      5244\n",
      "\n",
      "fire \n",
      "              precision    recall  f1-score   support\n",
      "\n",
      "          0       0.99      1.00      0.99      5191\n",
      "          1       0.00      0.00      0.00        53\n",
      "\n",
      "avg / total       0.98      0.99      0.98      5244\n",
      "\n",
      "earthquake \n",
      "              precision    recall  f1-score   support\n",
      "\n",
      "          0       0.96      0.99      0.98      4766\n",
      "          1       0.88      0.58      0.70       478\n",
      "\n",
      "avg / total       0.95      0.95      0.95      5244\n",
      "\n",
      "cold \n",
      "              precision    recall  f1-score   support\n",
      "\n",
      "          0       0.98      1.00      0.99      5127\n",
      "          1       0.62      0.09      0.15       117\n",
      "\n",
      "avg / total       0.97      0.98      0.97      5244\n",
      "\n",
      "other_weather \n",
      "              precision    recall  f1-score   support\n",
      "\n",
      "          0       0.95      1.00      0.97      4968\n",
      "          1       0.73      0.04      0.08       276\n",
      "\n",
      "avg / total       0.94      0.95      0.93      5244\n",
      "\n",
      "direct_report \n",
      "              precision    recall  f1-score   support\n",
      "\n",
      "          0       0.85      0.98      0.91      4223\n",
      "          1       0.76      0.31      0.44      1021\n",
      "\n",
      "avg / total       0.83      0.85      0.82      5244\n",
      "\n"
     ]
    },
    {
     "name": "stderr",
     "output_type": "stream",
     "text": [
      "d:\\anaconda\\lib\\site-packages\\sklearn\\metrics\\classification.py:1135: UndefinedMetricWarning: Precision and F-score are ill-defined and being set to 0.0 in labels with no predicted samples.\n",
      "  'precision', 'predicted', average, warn_for)\n"
     ]
    }
   ],
   "source": [
    "for col in y_test.columns:\n",
    "    print(col,'\\n', classification_report(y_test[col], y_pred_df[col]))"
   ]
  },
  {
   "cell_type": "markdown",
   "metadata": {},
   "source": [
    "### 6. Model Improvement\n",
    "To improve the model, I tried to add a keyword extractor class. This class extract important keywords such as water, thirsty, food, hunger, etc. to be included in the pipeline with the hope of improving accuracy. Then, I created another pipeline, changing the classifier to AdaBoostClassifier."
   ]
  },
  {
   "cell_type": "code",
   "execution_count": 7,
   "metadata": {},
   "outputs": [],
   "source": [
    "class KeywordExtractor(BaseEstimator, TransformerMixin):\n",
    "\n",
    "    def keyword_search(self, text):\n",
    "        # tokenize by sentences\n",
    "        word_list = word_tokenize(text)\n",
    "        type_list = ['water', 'thirsty', 'food', 'hunger', 'hungry', 'medic', 'medical', 'medication']\n",
    "        count = 0\n",
    "        for word in word_list:\n",
    "            for typ in type_list:\n",
    "                if word in typ:\n",
    "                    count += 1\n",
    "                else:\n",
    "                    count += 0\n",
    "            # return true if the first word is an appropriate verb or RT for retweet\n",
    "        if count > 0:\n",
    "            return True\n",
    "        else:\n",
    "            return False\n",
    "\n",
    "    def fit(self, x, y=None):\n",
    "        return self\n",
    "\n",
    "    def transform(self, X):\n",
    "        # apply starting_verb function to all values in X\n",
    "        X_tagged = pd.Series(X).apply(self.keyword_search)\n",
    "\n",
    "        return pd.DataFrame(X_tagged)"
   ]
  },
  {
   "cell_type": "code",
   "execution_count": 8,
   "metadata": {},
   "outputs": [],
   "source": [
    "pipeline_2 = Pipeline([\n",
    "    ('features', FeatureUnion([\n",
    "        ('nlp_pipeline', Pipeline([\n",
    "            ('vect', CountVectorizer(tokenizer = tokenize)),\n",
    "            ('tfidf', TfidfTransformer())\n",
    "        ])),\n",
    "        \n",
    "        ('keyword', KeywordExtractor())\n",
    "    ])),\n",
    "    ('clf', MultiOutputClassifier(AdaBoostClassifier()))\n",
    "])"
   ]
  },
  {
   "cell_type": "markdown",
   "metadata": {},
   "source": [
    "### 6. Test the new model\n",
    "Here, I will test the new model. "
   ]
  },
  {
   "cell_type": "code",
   "execution_count": 12,
   "metadata": {},
   "outputs": [
    {
     "name": "stdout",
     "output_type": "stream",
     "text": [
      "149.47701525958226\n"
     ]
    }
   ],
   "source": [
    "import time\n",
    "start = time.clock()\n",
    "pipeline_2.fit(X_train, y_train)\n",
    "print(time.clock() - start)"
   ]
  },
  {
   "cell_type": "code",
   "execution_count": 13,
   "metadata": {},
   "outputs": [],
   "source": [
    "y_pred = pipeline_2.predict(X_test)\n",
    "y_pred_df = pd.DataFrame(y_pred)\n",
    "y_pred_df.columns = y_test.columns"
   ]
  },
  {
   "cell_type": "code",
   "execution_count": 14,
   "metadata": {},
   "outputs": [
    {
     "name": "stdout",
     "output_type": "stream",
     "text": [
      "related \n",
      "              precision    recall  f1-score   support\n",
      "\n",
      "          0       0.58      0.27      0.37      1266\n",
      "          1       0.79      0.94      0.86      3938\n",
      "          2       0.29      0.10      0.15        40\n",
      "\n",
      "avg / total       0.74      0.77      0.74      5244\n",
      "\n",
      "request \n",
      "              precision    recall  f1-score   support\n",
      "\n",
      "          0       0.91      0.97      0.94      4349\n",
      "          1       0.78      0.53      0.63       895\n",
      "\n",
      "avg / total       0.89      0.90      0.89      5244\n",
      "\n",
      "offer \n",
      "              precision    recall  f1-score   support\n",
      "\n",
      "          0       1.00      1.00      1.00      5218\n",
      "          1       0.00      0.00      0.00        26\n",
      "\n",
      "avg / total       0.99      0.99      0.99      5244\n",
      "\n",
      "aid_related \n",
      "              precision    recall  f1-score   support\n",
      "\n",
      "          0       0.75      0.86      0.80      3113\n",
      "          1       0.74      0.59      0.66      2131\n",
      "\n",
      "avg / total       0.75      0.75      0.74      5244\n",
      "\n",
      "medical_help \n",
      "              precision    recall  f1-score   support\n",
      "\n",
      "          0       0.94      0.98      0.96      4822\n",
      "          1       0.57      0.25      0.35       422\n",
      "\n",
      "avg / total       0.91      0.92      0.91      5244\n",
      "\n",
      "medical_products \n",
      "              precision    recall  f1-score   support\n",
      "\n",
      "          0       0.96      0.99      0.98      4974\n",
      "          1       0.69      0.32      0.44       270\n",
      "\n",
      "avg / total       0.95      0.96      0.95      5244\n",
      "\n",
      "search_and_rescue \n",
      "              precision    recall  f1-score   support\n",
      "\n",
      "          0       0.98      1.00      0.99      5117\n",
      "          1       0.57      0.19      0.28       127\n",
      "\n",
      "avg / total       0.97      0.98      0.97      5244\n",
      "\n",
      "security \n",
      "              precision    recall  f1-score   support\n",
      "\n",
      "          0       0.98      1.00      0.99      5156\n",
      "          1       0.10      0.02      0.04        88\n",
      "\n",
      "avg / total       0.97      0.98      0.97      5244\n",
      "\n",
      "military \n",
      "              precision    recall  f1-score   support\n",
      "\n",
      "          0       0.98      0.99      0.99      5089\n",
      "          1       0.54      0.29      0.38       155\n",
      "\n",
      "avg / total       0.97      0.97      0.97      5244\n",
      "\n",
      "child_alone \n",
      "              precision    recall  f1-score   support\n",
      "\n",
      "          0       1.00      1.00      1.00      5244\n",
      "\n",
      "avg / total       1.00      1.00      1.00      5244\n",
      "\n",
      "water \n",
      "              precision    recall  f1-score   support\n",
      "\n",
      "          0       0.97      0.99      0.98      4905\n",
      "          1       0.74      0.58      0.65       339\n",
      "\n",
      "avg / total       0.96      0.96      0.96      5244\n",
      "\n",
      "food \n",
      "              precision    recall  f1-score   support\n",
      "\n",
      "          0       0.96      0.98      0.97      4649\n",
      "          1       0.83      0.68      0.75       595\n",
      "\n",
      "avg / total       0.95      0.95      0.95      5244\n",
      "\n",
      "shelter \n",
      "              precision    recall  f1-score   support\n",
      "\n",
      "          0       0.96      0.98      0.97      4774\n",
      "          1       0.77      0.57      0.65       470\n",
      "\n",
      "avg / total       0.94      0.95      0.94      5244\n",
      "\n",
      "clothing \n",
      "              precision    recall  f1-score   support\n",
      "\n",
      "          0       0.99      1.00      0.99      5171\n",
      "          1       0.78      0.40      0.53        73\n",
      "\n",
      "avg / total       0.99      0.99      0.99      5244\n",
      "\n",
      "money \n",
      "              precision    recall  f1-score   support\n",
      "\n",
      "          0       0.99      0.99      0.99      5140\n",
      "          1       0.46      0.26      0.33       104\n",
      "\n",
      "avg / total       0.97      0.98      0.98      5244\n",
      "\n",
      "missing_people \n",
      "              precision    recall  f1-score   support\n",
      "\n",
      "          0       0.99      1.00      1.00      5184\n",
      "          1       0.75      0.25      0.38        60\n",
      "\n",
      "avg / total       0.99      0.99      0.99      5244\n",
      "\n",
      "refugees \n",
      "              precision    recall  f1-score   support\n",
      "\n",
      "          0       0.97      0.99      0.98      5073\n",
      "          1       0.53      0.22      0.31       171\n",
      "\n",
      "avg / total       0.96      0.97      0.96      5244\n",
      "\n",
      "death \n",
      "              precision    recall  f1-score   support\n",
      "\n",
      "          0       0.98      0.99      0.98      5007\n",
      "          1       0.79      0.47      0.59       237\n",
      "\n",
      "avg / total       0.97      0.97      0.97      5244\n",
      "\n",
      "other_aid \n",
      "              precision    recall  f1-score   support\n",
      "\n",
      "          0       0.88      0.98      0.93      4549\n",
      "          1       0.50      0.15      0.23       695\n",
      "\n",
      "avg / total       0.83      0.87      0.83      5244\n",
      "\n",
      "infrastructure_related \n",
      "              precision    recall  f1-score   support\n",
      "\n",
      "          0       0.94      0.99      0.97      4916\n",
      "          1       0.40      0.09      0.14       328\n",
      "\n",
      "avg / total       0.91      0.93      0.91      5244\n",
      "\n",
      "transport \n",
      "              precision    recall  f1-score   support\n",
      "\n",
      "          0       0.96      1.00      0.98      5004\n",
      "          1       0.69      0.20      0.32       240\n",
      "\n",
      "avg / total       0.95      0.96      0.95      5244\n",
      "\n",
      "buildings \n",
      "              precision    recall  f1-score   support\n",
      "\n",
      "          0       0.97      0.99      0.98      4977\n",
      "          1       0.74      0.37      0.50       267\n",
      "\n",
      "avg / total       0.96      0.96      0.96      5244\n",
      "\n",
      "electricity \n",
      "              precision    recall  f1-score   support\n",
      "\n",
      "          0       0.98      1.00      0.99      5122\n",
      "          1       0.65      0.21      0.32       122\n",
      "\n",
      "avg / total       0.97      0.98      0.97      5244\n",
      "\n",
      "tools \n",
      "              precision    recall  f1-score   support\n",
      "\n",
      "          0       0.99      1.00      1.00      5212\n",
      "          1       0.00      0.00      0.00        32\n",
      "\n",
      "avg / total       0.99      0.99      0.99      5244\n",
      "\n",
      "hospitals \n",
      "              precision    recall  f1-score   support\n",
      "\n",
      "          0       0.99      1.00      1.00      5198\n",
      "          1       0.38      0.13      0.19        46\n",
      "\n",
      "avg / total       0.99      0.99      0.99      5244\n",
      "\n",
      "shops \n",
      "              precision    recall  f1-score   support\n",
      "\n",
      "          0       1.00      1.00      1.00      5222\n",
      "          1       0.00      0.00      0.00        22\n",
      "\n",
      "avg / total       0.99      1.00      0.99      5244\n",
      "\n",
      "aid_centers \n",
      "              precision    recall  f1-score   support\n",
      "\n",
      "          0       0.99      1.00      0.99      5177\n",
      "          1       0.17      0.04      0.07        67\n",
      "\n",
      "avg / total       0.98      0.98      0.98      5244\n",
      "\n",
      "other_infrastructure \n",
      "              precision    recall  f1-score   support\n",
      "\n",
      "          0       0.96      0.99      0.98      5021\n",
      "          1       0.32      0.08      0.13       223\n",
      "\n",
      "avg / total       0.93      0.95      0.94      5244\n",
      "\n",
      "weather_related \n",
      "              precision    recall  f1-score   support\n",
      "\n",
      "          0       0.88      0.96      0.92      3806\n",
      "          1       0.86      0.65      0.74      1438\n",
      "\n",
      "avg / total       0.87      0.87      0.87      5244\n",
      "\n",
      "floods \n",
      "              precision    recall  f1-score   support\n",
      "\n",
      "          0       0.96      0.99      0.98      4833\n",
      "          1       0.88      0.57      0.69       411\n",
      "\n",
      "avg / total       0.96      0.96      0.96      5244\n",
      "\n",
      "storm \n",
      "              precision    recall  f1-score   support\n",
      "\n",
      "          0       0.95      0.98      0.97      4758\n",
      "          1       0.74      0.48      0.58       486\n",
      "\n",
      "avg / total       0.93      0.94      0.93      5244\n",
      "\n",
      "fire \n",
      "              precision    recall  f1-score   support\n",
      "\n",
      "          0       0.99      1.00      1.00      5191\n",
      "          1       0.53      0.15      0.24        53\n",
      "\n",
      "avg / total       0.99      0.99      0.99      5244\n",
      "\n",
      "earthquake \n",
      "              precision    recall  f1-score   support\n",
      "\n",
      "          0       0.98      0.99      0.98      4766\n",
      "          1       0.87      0.77      0.81       478\n",
      "\n",
      "avg / total       0.97      0.97      0.97      5244\n",
      "\n",
      "cold \n",
      "              precision    recall  f1-score   support\n",
      "\n",
      "          0       0.98      1.00      0.99      5127\n",
      "          1       0.67      0.33      0.45       117\n",
      "\n",
      "avg / total       0.98      0.98      0.98      5244\n",
      "\n",
      "other_weather \n",
      "              precision    recall  f1-score   support\n",
      "\n",
      "          0       0.95      0.99      0.97      4968\n",
      "          1       0.51      0.16      0.24       276\n",
      "\n",
      "avg / total       0.93      0.95      0.93      5244\n",
      "\n",
      "direct_report \n",
      "              precision    recall  f1-score   support\n",
      "\n",
      "          0       0.88      0.96      0.92      4223\n",
      "          1       0.73      0.46      0.56      1021\n",
      "\n",
      "avg / total       0.85      0.86      0.85      5244\n",
      "\n"
     ]
    }
   ],
   "source": [
    "for col in y_test.columns:\n",
    "    print(col,'\\n', classification_report(y_test[col], y_pred_df[col]))"
   ]
  },
  {
   "cell_type": "markdown",
   "metadata": {},
   "source": [
    "Some of the f1 score improves using this pipeline. So, I will improve this pipeline using grid search.\n",
    "\n",
    "### 7. Grid Search\n",
    "To begin with the grid search, I will set the parameters. I will only try to optimize the nlp algorithms because AdaBoostClassifier actually uses a lot of time compared to the RandomForestClassifier. Later, I will update the model by grid-searching the algorithm of AdaBoostClassifier as well as the transformer weights."
   ]
  },
  {
   "cell_type": "code",
   "execution_count": 16,
   "metadata": {},
   "outputs": [],
   "source": [
    "parameters = {\n",
    "        'features__nlp_pipeline__vect__ngram_range': ((1, 1), (1, 2)),\n",
    "        'features__nlp_pipeline__vect__max_df': (0.5, 0.75, 1.0),\n",
    "        'features__nlp_pipeline__vect__max_features': (None, 5000, 10000),\n",
    "        'features__nlp_pipeline__tfidf__use_idf': (True, False),\n",
    "        'clf__estimator__n_estimators': [50, 100, 200]\n",
    "        #'clf__algorithm': ['SAMME', 'SAMME.R'],\n",
    "        #'features__transformer_weights': (\n",
    "         #   {'text_pipeline': 1, 'keyword': 0.5},\n",
    "          #  {'text_pipeline': 0.5, 'keyword': 1},\n",
    "           # {'text_pipeline': 0.8, 'keyword': 1},\n",
    "        #)\n",
    "    }"
   ]
  },
  {
   "cell_type": "code",
   "execution_count": 17,
   "metadata": {},
   "outputs": [],
   "source": [
    "cv = GridSearchCV(estimator = pipeline_2, param_grid = parameters, verbose = 2)"
   ]
  },
  {
   "cell_type": "code",
   "execution_count": 18,
   "metadata": {},
   "outputs": [
    {
     "name": "stdout",
     "output_type": "stream",
     "text": [
      "Fitting 3 folds for each of 108 candidates, totalling 324 fits\n",
      "[CV] features__nlp_pipeline__vect__ngram_range=(1, 1), features__nlp_pipeline__vect__max_features=None, features__nlp_pipeline__tfidf__use_idf=True, clf__estimator__n_estimators=50, features__nlp_pipeline__vect__max_df=0.5 \n",
      "[CV]  features__nlp_pipeline__vect__ngram_range=(1, 1), features__nlp_pipeline__vect__max_features=None, features__nlp_pipeline__tfidf__use_idf=True, clf__estimator__n_estimators=50, features__nlp_pipeline__vect__max_df=0.5, total= 1.5min\n",
      "[CV] features__nlp_pipeline__vect__ngram_range=(1, 1), features__nlp_pipeline__vect__max_features=None, features__nlp_pipeline__tfidf__use_idf=True, clf__estimator__n_estimators=50, features__nlp_pipeline__vect__max_df=0.5 \n"
     ]
    },
    {
     "name": "stderr",
     "output_type": "stream",
     "text": [
      "[Parallel(n_jobs=1)]: Done   1 out of   1 | elapsed:  1.7min remaining:    0.0s\n"
     ]
    },
    {
     "name": "stdout",
     "output_type": "stream",
     "text": [
      "[CV]  features__nlp_pipeline__vect__ngram_range=(1, 1), features__nlp_pipeline__vect__max_features=None, features__nlp_pipeline__tfidf__use_idf=True, clf__estimator__n_estimators=50, features__nlp_pipeline__vect__max_df=0.5, total= 1.5min\n",
      "[CV] features__nlp_pipeline__vect__ngram_range=(1, 1), features__nlp_pipeline__vect__max_features=None, features__nlp_pipeline__tfidf__use_idf=True, clf__estimator__n_estimators=50, features__nlp_pipeline__vect__max_df=0.5 \n",
      "[CV]  features__nlp_pipeline__vect__ngram_range=(1, 1), features__nlp_pipeline__vect__max_features=None, features__nlp_pipeline__tfidf__use_idf=True, clf__estimator__n_estimators=50, features__nlp_pipeline__vect__max_df=0.5, total= 1.5min\n",
      "[CV] features__nlp_pipeline__vect__ngram_range=(1, 2), features__nlp_pipeline__vect__max_features=None, features__nlp_pipeline__tfidf__use_idf=True, clf__estimator__n_estimators=50, features__nlp_pipeline__vect__max_df=0.5 \n",
      "[CV]  features__nlp_pipeline__vect__ngram_range=(1, 2), features__nlp_pipeline__vect__max_features=None, features__nlp_pipeline__tfidf__use_idf=True, clf__estimator__n_estimators=50, features__nlp_pipeline__vect__max_df=0.5, total= 3.7min\n",
      "[CV] features__nlp_pipeline__vect__ngram_range=(1, 2), features__nlp_pipeline__vect__max_features=None, features__nlp_pipeline__tfidf__use_idf=True, clf__estimator__n_estimators=50, features__nlp_pipeline__vect__max_df=0.5 \n",
      "[CV]  features__nlp_pipeline__vect__ngram_range=(1, 2), features__nlp_pipeline__vect__max_features=None, features__nlp_pipeline__tfidf__use_idf=True, clf__estimator__n_estimators=50, features__nlp_pipeline__vect__max_df=0.5, total= 3.7min\n",
      "[CV] features__nlp_pipeline__vect__ngram_range=(1, 2), features__nlp_pipeline__vect__max_features=None, features__nlp_pipeline__tfidf__use_idf=True, clf__estimator__n_estimators=50, features__nlp_pipeline__vect__max_df=0.5 \n",
      "[CV]  features__nlp_pipeline__vect__ngram_range=(1, 2), features__nlp_pipeline__vect__max_features=None, features__nlp_pipeline__tfidf__use_idf=True, clf__estimator__n_estimators=50, features__nlp_pipeline__vect__max_df=0.5, total= 3.7min\n",
      "[CV] features__nlp_pipeline__vect__ngram_range=(1, 1), features__nlp_pipeline__vect__max_features=5000, features__nlp_pipeline__tfidf__use_idf=True, clf__estimator__n_estimators=50, features__nlp_pipeline__vect__max_df=0.5 \n",
      "[CV]  features__nlp_pipeline__vect__ngram_range=(1, 1), features__nlp_pipeline__vect__max_features=5000, features__nlp_pipeline__tfidf__use_idf=True, clf__estimator__n_estimators=50, features__nlp_pipeline__vect__max_df=0.5, total= 1.2min\n",
      "[CV] features__nlp_pipeline__vect__ngram_range=(1, 1), features__nlp_pipeline__vect__max_features=5000, features__nlp_pipeline__tfidf__use_idf=True, clf__estimator__n_estimators=50, features__nlp_pipeline__vect__max_df=0.5 \n",
      "[CV]  features__nlp_pipeline__vect__ngram_range=(1, 1), features__nlp_pipeline__vect__max_features=5000, features__nlp_pipeline__tfidf__use_idf=True, clf__estimator__n_estimators=50, features__nlp_pipeline__vect__max_df=0.5, total= 1.2min\n",
      "[CV] features__nlp_pipeline__vect__ngram_range=(1, 1), features__nlp_pipeline__vect__max_features=5000, features__nlp_pipeline__tfidf__use_idf=True, clf__estimator__n_estimators=50, features__nlp_pipeline__vect__max_df=0.5 \n",
      "[CV]  features__nlp_pipeline__vect__ngram_range=(1, 1), features__nlp_pipeline__vect__max_features=5000, features__nlp_pipeline__tfidf__use_idf=True, clf__estimator__n_estimators=50, features__nlp_pipeline__vect__max_df=0.5, total= 1.2min\n",
      "[CV] features__nlp_pipeline__vect__ngram_range=(1, 2), features__nlp_pipeline__vect__max_features=5000, features__nlp_pipeline__tfidf__use_idf=True, clf__estimator__n_estimators=50, features__nlp_pipeline__vect__max_df=0.5 \n",
      "[CV]  features__nlp_pipeline__vect__ngram_range=(1, 2), features__nlp_pipeline__vect__max_features=5000, features__nlp_pipeline__tfidf__use_idf=True, clf__estimator__n_estimators=50, features__nlp_pipeline__vect__max_df=0.5, total= 1.6min\n",
      "[CV] features__nlp_pipeline__vect__ngram_range=(1, 2), features__nlp_pipeline__vect__max_features=5000, features__nlp_pipeline__tfidf__use_idf=True, clf__estimator__n_estimators=50, features__nlp_pipeline__vect__max_df=0.5 \n",
      "[CV]  features__nlp_pipeline__vect__ngram_range=(1, 2), features__nlp_pipeline__vect__max_features=5000, features__nlp_pipeline__tfidf__use_idf=True, clf__estimator__n_estimators=50, features__nlp_pipeline__vect__max_df=0.5, total= 1.5min\n",
      "[CV] features__nlp_pipeline__vect__ngram_range=(1, 2), features__nlp_pipeline__vect__max_features=5000, features__nlp_pipeline__tfidf__use_idf=True, clf__estimator__n_estimators=50, features__nlp_pipeline__vect__max_df=0.5 \n",
      "[CV]  features__nlp_pipeline__vect__ngram_range=(1, 2), features__nlp_pipeline__vect__max_features=5000, features__nlp_pipeline__tfidf__use_idf=True, clf__estimator__n_estimators=50, features__nlp_pipeline__vect__max_df=0.5, total= 1.6min\n",
      "[CV] features__nlp_pipeline__vect__ngram_range=(1, 1), features__nlp_pipeline__vect__max_features=10000, features__nlp_pipeline__tfidf__use_idf=True, clf__estimator__n_estimators=50, features__nlp_pipeline__vect__max_df=0.5 \n",
      "[CV]  features__nlp_pipeline__vect__ngram_range=(1, 1), features__nlp_pipeline__vect__max_features=10000, features__nlp_pipeline__tfidf__use_idf=True, clf__estimator__n_estimators=50, features__nlp_pipeline__vect__max_df=0.5, total= 1.3min\n",
      "[CV] features__nlp_pipeline__vect__ngram_range=(1, 1), features__nlp_pipeline__vect__max_features=10000, features__nlp_pipeline__tfidf__use_idf=True, clf__estimator__n_estimators=50, features__nlp_pipeline__vect__max_df=0.5 \n",
      "[CV]  features__nlp_pipeline__vect__ngram_range=(1, 1), features__nlp_pipeline__vect__max_features=10000, features__nlp_pipeline__tfidf__use_idf=True, clf__estimator__n_estimators=50, features__nlp_pipeline__vect__max_df=0.5, total= 1.3min\n",
      "[CV] features__nlp_pipeline__vect__ngram_range=(1, 1), features__nlp_pipeline__vect__max_features=10000, features__nlp_pipeline__tfidf__use_idf=True, clf__estimator__n_estimators=50, features__nlp_pipeline__vect__max_df=0.5 \n",
      "[CV]  features__nlp_pipeline__vect__ngram_range=(1, 1), features__nlp_pipeline__vect__max_features=10000, features__nlp_pipeline__tfidf__use_idf=True, clf__estimator__n_estimators=50, features__nlp_pipeline__vect__max_df=0.5, total= 1.3min\n",
      "[CV] features__nlp_pipeline__vect__ngram_range=(1, 2), features__nlp_pipeline__vect__max_features=10000, features__nlp_pipeline__tfidf__use_idf=True, clf__estimator__n_estimators=50, features__nlp_pipeline__vect__max_df=0.5 \n",
      "[CV]  features__nlp_pipeline__vect__ngram_range=(1, 2), features__nlp_pipeline__vect__max_features=10000, features__nlp_pipeline__tfidf__use_idf=True, clf__estimator__n_estimators=50, features__nlp_pipeline__vect__max_df=0.5, total= 1.7min\n",
      "[CV] features__nlp_pipeline__vect__ngram_range=(1, 2), features__nlp_pipeline__vect__max_features=10000, features__nlp_pipeline__tfidf__use_idf=True, clf__estimator__n_estimators=50, features__nlp_pipeline__vect__max_df=0.5 \n",
      "[CV]  features__nlp_pipeline__vect__ngram_range=(1, 2), features__nlp_pipeline__vect__max_features=10000, features__nlp_pipeline__tfidf__use_idf=True, clf__estimator__n_estimators=50, features__nlp_pipeline__vect__max_df=0.5, total= 1.7min\n",
      "[CV] features__nlp_pipeline__vect__ngram_range=(1, 2), features__nlp_pipeline__vect__max_features=10000, features__nlp_pipeline__tfidf__use_idf=True, clf__estimator__n_estimators=50, features__nlp_pipeline__vect__max_df=0.5 \n",
      "[CV]  features__nlp_pipeline__vect__ngram_range=(1, 2), features__nlp_pipeline__vect__max_features=10000, features__nlp_pipeline__tfidf__use_idf=True, clf__estimator__n_estimators=50, features__nlp_pipeline__vect__max_df=0.5, total= 1.7min\n",
      "[CV] features__nlp_pipeline__vect__ngram_range=(1, 1), features__nlp_pipeline__vect__max_features=None, features__nlp_pipeline__tfidf__use_idf=True, clf__estimator__n_estimators=50, features__nlp_pipeline__vect__max_df=0.75 \n",
      "[CV]  features__nlp_pipeline__vect__ngram_range=(1, 1), features__nlp_pipeline__vect__max_features=None, features__nlp_pipeline__tfidf__use_idf=True, clf__estimator__n_estimators=50, features__nlp_pipeline__vect__max_df=0.75, total= 1.5min\n",
      "[CV] features__nlp_pipeline__vect__ngram_range=(1, 1), features__nlp_pipeline__vect__max_features=None, features__nlp_pipeline__tfidf__use_idf=True, clf__estimator__n_estimators=50, features__nlp_pipeline__vect__max_df=0.75 \n"
     ]
    },
    {
     "name": "stdout",
     "output_type": "stream",
     "text": [
      "[CV]  features__nlp_pipeline__vect__ngram_range=(1, 1), features__nlp_pipeline__vect__max_features=None, features__nlp_pipeline__tfidf__use_idf=True, clf__estimator__n_estimators=50, features__nlp_pipeline__vect__max_df=0.75, total= 1.5min\n",
      "[CV] features__nlp_pipeline__vect__ngram_range=(1, 1), features__nlp_pipeline__vect__max_features=None, features__nlp_pipeline__tfidf__use_idf=True, clf__estimator__n_estimators=50, features__nlp_pipeline__vect__max_df=0.75 \n",
      "[CV]  features__nlp_pipeline__vect__ngram_range=(1, 1), features__nlp_pipeline__vect__max_features=None, features__nlp_pipeline__tfidf__use_idf=True, clf__estimator__n_estimators=50, features__nlp_pipeline__vect__max_df=0.75, total= 1.5min\n",
      "[CV] features__nlp_pipeline__vect__ngram_range=(1, 2), features__nlp_pipeline__vect__max_features=None, features__nlp_pipeline__tfidf__use_idf=True, clf__estimator__n_estimators=50, features__nlp_pipeline__vect__max_df=0.75 \n",
      "[CV]  features__nlp_pipeline__vect__ngram_range=(1, 2), features__nlp_pipeline__vect__max_features=None, features__nlp_pipeline__tfidf__use_idf=True, clf__estimator__n_estimators=50, features__nlp_pipeline__vect__max_df=0.75, total= 3.8min\n",
      "[CV] features__nlp_pipeline__vect__ngram_range=(1, 2), features__nlp_pipeline__vect__max_features=None, features__nlp_pipeline__tfidf__use_idf=True, clf__estimator__n_estimators=50, features__nlp_pipeline__vect__max_df=0.75 \n",
      "[CV]  features__nlp_pipeline__vect__ngram_range=(1, 2), features__nlp_pipeline__vect__max_features=None, features__nlp_pipeline__tfidf__use_idf=True, clf__estimator__n_estimators=50, features__nlp_pipeline__vect__max_df=0.75, total= 3.8min\n",
      "[CV] features__nlp_pipeline__vect__ngram_range=(1, 2), features__nlp_pipeline__vect__max_features=None, features__nlp_pipeline__tfidf__use_idf=True, clf__estimator__n_estimators=50, features__nlp_pipeline__vect__max_df=0.75 \n",
      "[CV]  features__nlp_pipeline__vect__ngram_range=(1, 2), features__nlp_pipeline__vect__max_features=None, features__nlp_pipeline__tfidf__use_idf=True, clf__estimator__n_estimators=50, features__nlp_pipeline__vect__max_df=0.75, total= 3.8min\n",
      "[CV] features__nlp_pipeline__vect__ngram_range=(1, 1), features__nlp_pipeline__vect__max_features=5000, features__nlp_pipeline__tfidf__use_idf=True, clf__estimator__n_estimators=50, features__nlp_pipeline__vect__max_df=0.75 \n",
      "[CV]  features__nlp_pipeline__vect__ngram_range=(1, 1), features__nlp_pipeline__vect__max_features=5000, features__nlp_pipeline__tfidf__use_idf=True, clf__estimator__n_estimators=50, features__nlp_pipeline__vect__max_df=0.75, total= 1.3min\n",
      "[CV] features__nlp_pipeline__vect__ngram_range=(1, 1), features__nlp_pipeline__vect__max_features=5000, features__nlp_pipeline__tfidf__use_idf=True, clf__estimator__n_estimators=50, features__nlp_pipeline__vect__max_df=0.75 \n",
      "[CV]  features__nlp_pipeline__vect__ngram_range=(1, 1), features__nlp_pipeline__vect__max_features=5000, features__nlp_pipeline__tfidf__use_idf=True, clf__estimator__n_estimators=50, features__nlp_pipeline__vect__max_df=0.75, total= 1.3min\n",
      "[CV] features__nlp_pipeline__vect__ngram_range=(1, 1), features__nlp_pipeline__vect__max_features=5000, features__nlp_pipeline__tfidf__use_idf=True, clf__estimator__n_estimators=50, features__nlp_pipeline__vect__max_df=0.75 \n",
      "[CV]  features__nlp_pipeline__vect__ngram_range=(1, 1), features__nlp_pipeline__vect__max_features=5000, features__nlp_pipeline__tfidf__use_idf=True, clf__estimator__n_estimators=50, features__nlp_pipeline__vect__max_df=0.75, total= 1.3min\n",
      "[CV] features__nlp_pipeline__vect__ngram_range=(1, 2), features__nlp_pipeline__vect__max_features=5000, features__nlp_pipeline__tfidf__use_idf=True, clf__estimator__n_estimators=50, features__nlp_pipeline__vect__max_df=0.75 \n",
      "[CV]  features__nlp_pipeline__vect__ngram_range=(1, 2), features__nlp_pipeline__vect__max_features=5000, features__nlp_pipeline__tfidf__use_idf=True, clf__estimator__n_estimators=50, features__nlp_pipeline__vect__max_df=0.75, total= 1.7min\n",
      "[CV] features__nlp_pipeline__vect__ngram_range=(1, 2), features__nlp_pipeline__vect__max_features=5000, features__nlp_pipeline__tfidf__use_idf=True, clf__estimator__n_estimators=50, features__nlp_pipeline__vect__max_df=0.75 \n",
      "[CV]  features__nlp_pipeline__vect__ngram_range=(1, 2), features__nlp_pipeline__vect__max_features=5000, features__nlp_pipeline__tfidf__use_idf=True, clf__estimator__n_estimators=50, features__nlp_pipeline__vect__max_df=0.75, total= 1.6min\n",
      "[CV] features__nlp_pipeline__vect__ngram_range=(1, 2), features__nlp_pipeline__vect__max_features=5000, features__nlp_pipeline__tfidf__use_idf=True, clf__estimator__n_estimators=50, features__nlp_pipeline__vect__max_df=0.75 \n",
      "[CV]  features__nlp_pipeline__vect__ngram_range=(1, 2), features__nlp_pipeline__vect__max_features=5000, features__nlp_pipeline__tfidf__use_idf=True, clf__estimator__n_estimators=50, features__nlp_pipeline__vect__max_df=0.75, total= 1.6min\n",
      "[CV] features__nlp_pipeline__vect__ngram_range=(1, 1), features__nlp_pipeline__vect__max_features=10000, features__nlp_pipeline__tfidf__use_idf=True, clf__estimator__n_estimators=50, features__nlp_pipeline__vect__max_df=0.75 \n",
      "[CV]  features__nlp_pipeline__vect__ngram_range=(1, 1), features__nlp_pipeline__vect__max_features=10000, features__nlp_pipeline__tfidf__use_idf=True, clf__estimator__n_estimators=50, features__nlp_pipeline__vect__max_df=0.75, total= 1.4min\n",
      "[CV] features__nlp_pipeline__vect__ngram_range=(1, 1), features__nlp_pipeline__vect__max_features=10000, features__nlp_pipeline__tfidf__use_idf=True, clf__estimator__n_estimators=50, features__nlp_pipeline__vect__max_df=0.75 \n",
      "[CV]  features__nlp_pipeline__vect__ngram_range=(1, 1), features__nlp_pipeline__vect__max_features=10000, features__nlp_pipeline__tfidf__use_idf=True, clf__estimator__n_estimators=50, features__nlp_pipeline__vect__max_df=0.75, total= 1.4min\n",
      "[CV] features__nlp_pipeline__vect__ngram_range=(1, 1), features__nlp_pipeline__vect__max_features=10000, features__nlp_pipeline__tfidf__use_idf=True, clf__estimator__n_estimators=50, features__nlp_pipeline__vect__max_df=0.75 \n",
      "[CV]  features__nlp_pipeline__vect__ngram_range=(1, 1), features__nlp_pipeline__vect__max_features=10000, features__nlp_pipeline__tfidf__use_idf=True, clf__estimator__n_estimators=50, features__nlp_pipeline__vect__max_df=0.75, total= 1.4min\n",
      "[CV] features__nlp_pipeline__vect__ngram_range=(1, 2), features__nlp_pipeline__vect__max_features=10000, features__nlp_pipeline__tfidf__use_idf=True, clf__estimator__n_estimators=50, features__nlp_pipeline__vect__max_df=0.75 \n",
      "[CV]  features__nlp_pipeline__vect__ngram_range=(1, 2), features__nlp_pipeline__vect__max_features=10000, features__nlp_pipeline__tfidf__use_idf=True, clf__estimator__n_estimators=50, features__nlp_pipeline__vect__max_df=0.75, total= 1.8min\n",
      "[CV] features__nlp_pipeline__vect__ngram_range=(1, 2), features__nlp_pipeline__vect__max_features=10000, features__nlp_pipeline__tfidf__use_idf=True, clf__estimator__n_estimators=50, features__nlp_pipeline__vect__max_df=0.75 \n",
      "[CV]  features__nlp_pipeline__vect__ngram_range=(1, 2), features__nlp_pipeline__vect__max_features=10000, features__nlp_pipeline__tfidf__use_idf=True, clf__estimator__n_estimators=50, features__nlp_pipeline__vect__max_df=0.75, total= 1.8min\n",
      "[CV] features__nlp_pipeline__vect__ngram_range=(1, 2), features__nlp_pipeline__vect__max_features=10000, features__nlp_pipeline__tfidf__use_idf=True, clf__estimator__n_estimators=50, features__nlp_pipeline__vect__max_df=0.75 \n",
      "[CV]  features__nlp_pipeline__vect__ngram_range=(1, 2), features__nlp_pipeline__vect__max_features=10000, features__nlp_pipeline__tfidf__use_idf=True, clf__estimator__n_estimators=50, features__nlp_pipeline__vect__max_df=0.75, total= 1.8min\n",
      "[CV] features__nlp_pipeline__vect__ngram_range=(1, 1), features__nlp_pipeline__vect__max_features=None, features__nlp_pipeline__tfidf__use_idf=True, clf__estimator__n_estimators=50, features__nlp_pipeline__vect__max_df=1.0 \n",
      "[CV]  features__nlp_pipeline__vect__ngram_range=(1, 1), features__nlp_pipeline__vect__max_features=None, features__nlp_pipeline__tfidf__use_idf=True, clf__estimator__n_estimators=50, features__nlp_pipeline__vect__max_df=1.0, total= 1.6min\n",
      "[CV] features__nlp_pipeline__vect__ngram_range=(1, 1), features__nlp_pipeline__vect__max_features=None, features__nlp_pipeline__tfidf__use_idf=True, clf__estimator__n_estimators=50, features__nlp_pipeline__vect__max_df=1.0 \n"
     ]
    },
    {
     "name": "stdout",
     "output_type": "stream",
     "text": [
      "[CV]  features__nlp_pipeline__vect__ngram_range=(1, 1), features__nlp_pipeline__vect__max_features=None, features__nlp_pipeline__tfidf__use_idf=True, clf__estimator__n_estimators=50, features__nlp_pipeline__vect__max_df=1.0, total= 1.6min\n",
      "[CV] features__nlp_pipeline__vect__ngram_range=(1, 1), features__nlp_pipeline__vect__max_features=None, features__nlp_pipeline__tfidf__use_idf=True, clf__estimator__n_estimators=50, features__nlp_pipeline__vect__max_df=1.0 \n",
      "[CV]  features__nlp_pipeline__vect__ngram_range=(1, 1), features__nlp_pipeline__vect__max_features=None, features__nlp_pipeline__tfidf__use_idf=True, clf__estimator__n_estimators=50, features__nlp_pipeline__vect__max_df=1.0, total= 1.6min\n",
      "[CV] features__nlp_pipeline__vect__ngram_range=(1, 2), features__nlp_pipeline__vect__max_features=None, features__nlp_pipeline__tfidf__use_idf=True, clf__estimator__n_estimators=50, features__nlp_pipeline__vect__max_df=1.0 \n",
      "[CV]  features__nlp_pipeline__vect__ngram_range=(1, 2), features__nlp_pipeline__vect__max_features=None, features__nlp_pipeline__tfidf__use_idf=True, clf__estimator__n_estimators=50, features__nlp_pipeline__vect__max_df=1.0, total= 3.8min\n",
      "[CV] features__nlp_pipeline__vect__ngram_range=(1, 2), features__nlp_pipeline__vect__max_features=None, features__nlp_pipeline__tfidf__use_idf=True, clf__estimator__n_estimators=50, features__nlp_pipeline__vect__max_df=1.0 \n",
      "[CV]  features__nlp_pipeline__vect__ngram_range=(1, 2), features__nlp_pipeline__vect__max_features=None, features__nlp_pipeline__tfidf__use_idf=True, clf__estimator__n_estimators=50, features__nlp_pipeline__vect__max_df=1.0, total= 3.8min\n",
      "[CV] features__nlp_pipeline__vect__ngram_range=(1, 2), features__nlp_pipeline__vect__max_features=None, features__nlp_pipeline__tfidf__use_idf=True, clf__estimator__n_estimators=50, features__nlp_pipeline__vect__max_df=1.0 \n",
      "[CV]  features__nlp_pipeline__vect__ngram_range=(1, 2), features__nlp_pipeline__vect__max_features=None, features__nlp_pipeline__tfidf__use_idf=True, clf__estimator__n_estimators=50, features__nlp_pipeline__vect__max_df=1.0, total= 3.8min\n",
      "[CV] features__nlp_pipeline__vect__ngram_range=(1, 1), features__nlp_pipeline__vect__max_features=5000, features__nlp_pipeline__tfidf__use_idf=True, clf__estimator__n_estimators=50, features__nlp_pipeline__vect__max_df=1.0 \n",
      "[CV]  features__nlp_pipeline__vect__ngram_range=(1, 1), features__nlp_pipeline__vect__max_features=5000, features__nlp_pipeline__tfidf__use_idf=True, clf__estimator__n_estimators=50, features__nlp_pipeline__vect__max_df=1.0, total= 1.4min\n",
      "[CV] features__nlp_pipeline__vect__ngram_range=(1, 1), features__nlp_pipeline__vect__max_features=5000, features__nlp_pipeline__tfidf__use_idf=True, clf__estimator__n_estimators=50, features__nlp_pipeline__vect__max_df=1.0 \n",
      "[CV]  features__nlp_pipeline__vect__ngram_range=(1, 1), features__nlp_pipeline__vect__max_features=5000, features__nlp_pipeline__tfidf__use_idf=True, clf__estimator__n_estimators=50, features__nlp_pipeline__vect__max_df=1.0, total= 1.4min\n",
      "[CV] features__nlp_pipeline__vect__ngram_range=(1, 1), features__nlp_pipeline__vect__max_features=5000, features__nlp_pipeline__tfidf__use_idf=True, clf__estimator__n_estimators=50, features__nlp_pipeline__vect__max_df=1.0 \n",
      "[CV]  features__nlp_pipeline__vect__ngram_range=(1, 1), features__nlp_pipeline__vect__max_features=5000, features__nlp_pipeline__tfidf__use_idf=True, clf__estimator__n_estimators=50, features__nlp_pipeline__vect__max_df=1.0, total= 1.4min\n",
      "[CV] features__nlp_pipeline__vect__ngram_range=(1, 2), features__nlp_pipeline__vect__max_features=5000, features__nlp_pipeline__tfidf__use_idf=True, clf__estimator__n_estimators=50, features__nlp_pipeline__vect__max_df=1.0 \n",
      "[CV]  features__nlp_pipeline__vect__ngram_range=(1, 2), features__nlp_pipeline__vect__max_features=5000, features__nlp_pipeline__tfidf__use_idf=True, clf__estimator__n_estimators=50, features__nlp_pipeline__vect__max_df=1.0, total= 1.7min\n",
      "[CV] features__nlp_pipeline__vect__ngram_range=(1, 2), features__nlp_pipeline__vect__max_features=5000, features__nlp_pipeline__tfidf__use_idf=True, clf__estimator__n_estimators=50, features__nlp_pipeline__vect__max_df=1.0 \n",
      "[CV]  features__nlp_pipeline__vect__ngram_range=(1, 2), features__nlp_pipeline__vect__max_features=5000, features__nlp_pipeline__tfidf__use_idf=True, clf__estimator__n_estimators=50, features__nlp_pipeline__vect__max_df=1.0, total= 1.7min\n",
      "[CV] features__nlp_pipeline__vect__ngram_range=(1, 2), features__nlp_pipeline__vect__max_features=5000, features__nlp_pipeline__tfidf__use_idf=True, clf__estimator__n_estimators=50, features__nlp_pipeline__vect__max_df=1.0 \n",
      "[CV]  features__nlp_pipeline__vect__ngram_range=(1, 2), features__nlp_pipeline__vect__max_features=5000, features__nlp_pipeline__tfidf__use_idf=True, clf__estimator__n_estimators=50, features__nlp_pipeline__vect__max_df=1.0, total= 1.7min\n",
      "[CV] features__nlp_pipeline__vect__ngram_range=(1, 1), features__nlp_pipeline__vect__max_features=10000, features__nlp_pipeline__tfidf__use_idf=True, clf__estimator__n_estimators=50, features__nlp_pipeline__vect__max_df=1.0 \n",
      "[CV]  features__nlp_pipeline__vect__ngram_range=(1, 1), features__nlp_pipeline__vect__max_features=10000, features__nlp_pipeline__tfidf__use_idf=True, clf__estimator__n_estimators=50, features__nlp_pipeline__vect__max_df=1.0, total= 1.4min\n",
      "[CV] features__nlp_pipeline__vect__ngram_range=(1, 1), features__nlp_pipeline__vect__max_features=10000, features__nlp_pipeline__tfidf__use_idf=True, clf__estimator__n_estimators=50, features__nlp_pipeline__vect__max_df=1.0 \n",
      "[CV]  features__nlp_pipeline__vect__ngram_range=(1, 1), features__nlp_pipeline__vect__max_features=10000, features__nlp_pipeline__tfidf__use_idf=True, clf__estimator__n_estimators=50, features__nlp_pipeline__vect__max_df=1.0, total= 1.4min\n",
      "[CV] features__nlp_pipeline__vect__ngram_range=(1, 1), features__nlp_pipeline__vect__max_features=10000, features__nlp_pipeline__tfidf__use_idf=True, clf__estimator__n_estimators=50, features__nlp_pipeline__vect__max_df=1.0 \n",
      "[CV]  features__nlp_pipeline__vect__ngram_range=(1, 1), features__nlp_pipeline__vect__max_features=10000, features__nlp_pipeline__tfidf__use_idf=True, clf__estimator__n_estimators=50, features__nlp_pipeline__vect__max_df=1.0, total= 1.4min\n",
      "[CV] features__nlp_pipeline__vect__ngram_range=(1, 2), features__nlp_pipeline__vect__max_features=10000, features__nlp_pipeline__tfidf__use_idf=True, clf__estimator__n_estimators=50, features__nlp_pipeline__vect__max_df=1.0 \n",
      "[CV]  features__nlp_pipeline__vect__ngram_range=(1, 2), features__nlp_pipeline__vect__max_features=10000, features__nlp_pipeline__tfidf__use_idf=True, clf__estimator__n_estimators=50, features__nlp_pipeline__vect__max_df=1.0, total= 1.8min\n",
      "[CV] features__nlp_pipeline__vect__ngram_range=(1, 2), features__nlp_pipeline__vect__max_features=10000, features__nlp_pipeline__tfidf__use_idf=True, clf__estimator__n_estimators=50, features__nlp_pipeline__vect__max_df=1.0 \n",
      "[CV]  features__nlp_pipeline__vect__ngram_range=(1, 2), features__nlp_pipeline__vect__max_features=10000, features__nlp_pipeline__tfidf__use_idf=True, clf__estimator__n_estimators=50, features__nlp_pipeline__vect__max_df=1.0, total= 1.8min\n",
      "[CV] features__nlp_pipeline__vect__ngram_range=(1, 2), features__nlp_pipeline__vect__max_features=10000, features__nlp_pipeline__tfidf__use_idf=True, clf__estimator__n_estimators=50, features__nlp_pipeline__vect__max_df=1.0 \n",
      "[CV]  features__nlp_pipeline__vect__ngram_range=(1, 2), features__nlp_pipeline__vect__max_features=10000, features__nlp_pipeline__tfidf__use_idf=True, clf__estimator__n_estimators=50, features__nlp_pipeline__vect__max_df=1.0, total= 1.8min\n",
      "[CV] features__nlp_pipeline__vect__ngram_range=(1, 1), features__nlp_pipeline__vect__max_features=None, features__nlp_pipeline__tfidf__use_idf=False, clf__estimator__n_estimators=50, features__nlp_pipeline__vect__max_df=0.5 \n",
      "[CV]  features__nlp_pipeline__vect__ngram_range=(1, 1), features__nlp_pipeline__vect__max_features=None, features__nlp_pipeline__tfidf__use_idf=False, clf__estimator__n_estimators=50, features__nlp_pipeline__vect__max_df=0.5, total= 1.2min\n",
      "[CV] features__nlp_pipeline__vect__ngram_range=(1, 1), features__nlp_pipeline__vect__max_features=None, features__nlp_pipeline__tfidf__use_idf=False, clf__estimator__n_estimators=50, features__nlp_pipeline__vect__max_df=0.5 \n"
     ]
    },
    {
     "name": "stdout",
     "output_type": "stream",
     "text": [
      "[CV]  features__nlp_pipeline__vect__ngram_range=(1, 1), features__nlp_pipeline__vect__max_features=None, features__nlp_pipeline__tfidf__use_idf=False, clf__estimator__n_estimators=50, features__nlp_pipeline__vect__max_df=0.5, total= 1.2min\n",
      "[CV] features__nlp_pipeline__vect__ngram_range=(1, 1), features__nlp_pipeline__vect__max_features=None, features__nlp_pipeline__tfidf__use_idf=False, clf__estimator__n_estimators=50, features__nlp_pipeline__vect__max_df=0.5 \n",
      "[CV]  features__nlp_pipeline__vect__ngram_range=(1, 1), features__nlp_pipeline__vect__max_features=None, features__nlp_pipeline__tfidf__use_idf=False, clf__estimator__n_estimators=50, features__nlp_pipeline__vect__max_df=0.5, total= 1.3min\n",
      "[CV] features__nlp_pipeline__vect__ngram_range=(1, 2), features__nlp_pipeline__vect__max_features=None, features__nlp_pipeline__tfidf__use_idf=False, clf__estimator__n_estimators=50, features__nlp_pipeline__vect__max_df=0.5 \n",
      "[CV]  features__nlp_pipeline__vect__ngram_range=(1, 2), features__nlp_pipeline__vect__max_features=None, features__nlp_pipeline__tfidf__use_idf=False, clf__estimator__n_estimators=50, features__nlp_pipeline__vect__max_df=0.5, total= 3.5min\n",
      "[CV] features__nlp_pipeline__vect__ngram_range=(1, 2), features__nlp_pipeline__vect__max_features=None, features__nlp_pipeline__tfidf__use_idf=False, clf__estimator__n_estimators=50, features__nlp_pipeline__vect__max_df=0.5 \n",
      "[CV]  features__nlp_pipeline__vect__ngram_range=(1, 2), features__nlp_pipeline__vect__max_features=None, features__nlp_pipeline__tfidf__use_idf=False, clf__estimator__n_estimators=50, features__nlp_pipeline__vect__max_df=0.5, total= 3.5min\n",
      "[CV] features__nlp_pipeline__vect__ngram_range=(1, 2), features__nlp_pipeline__vect__max_features=None, features__nlp_pipeline__tfidf__use_idf=False, clf__estimator__n_estimators=50, features__nlp_pipeline__vect__max_df=0.5 \n",
      "[CV]  features__nlp_pipeline__vect__ngram_range=(1, 2), features__nlp_pipeline__vect__max_features=None, features__nlp_pipeline__tfidf__use_idf=False, clf__estimator__n_estimators=50, features__nlp_pipeline__vect__max_df=0.5, total= 3.5min\n",
      "[CV] features__nlp_pipeline__vect__ngram_range=(1, 1), features__nlp_pipeline__vect__max_features=5000, features__nlp_pipeline__tfidf__use_idf=False, clf__estimator__n_estimators=50, features__nlp_pipeline__vect__max_df=0.5 \n",
      "[CV]  features__nlp_pipeline__vect__ngram_range=(1, 1), features__nlp_pipeline__vect__max_features=5000, features__nlp_pipeline__tfidf__use_idf=False, clf__estimator__n_estimators=50, features__nlp_pipeline__vect__max_df=0.5, total= 1.0min\n",
      "[CV] features__nlp_pipeline__vect__ngram_range=(1, 1), features__nlp_pipeline__vect__max_features=5000, features__nlp_pipeline__tfidf__use_idf=False, clf__estimator__n_estimators=50, features__nlp_pipeline__vect__max_df=0.5 \n",
      "[CV]  features__nlp_pipeline__vect__ngram_range=(1, 1), features__nlp_pipeline__vect__max_features=5000, features__nlp_pipeline__tfidf__use_idf=False, clf__estimator__n_estimators=50, features__nlp_pipeline__vect__max_df=0.5, total= 1.0min\n",
      "[CV] features__nlp_pipeline__vect__ngram_range=(1, 1), features__nlp_pipeline__vect__max_features=5000, features__nlp_pipeline__tfidf__use_idf=False, clf__estimator__n_estimators=50, features__nlp_pipeline__vect__max_df=0.5 \n",
      "[CV]  features__nlp_pipeline__vect__ngram_range=(1, 1), features__nlp_pipeline__vect__max_features=5000, features__nlp_pipeline__tfidf__use_idf=False, clf__estimator__n_estimators=50, features__nlp_pipeline__vect__max_df=0.5, total= 1.0min\n",
      "[CV] features__nlp_pipeline__vect__ngram_range=(1, 2), features__nlp_pipeline__vect__max_features=5000, features__nlp_pipeline__tfidf__use_idf=False, clf__estimator__n_estimators=50, features__nlp_pipeline__vect__max_df=0.5 \n",
      "[CV]  features__nlp_pipeline__vect__ngram_range=(1, 2), features__nlp_pipeline__vect__max_features=5000, features__nlp_pipeline__tfidf__use_idf=False, clf__estimator__n_estimators=50, features__nlp_pipeline__vect__max_df=0.5, total= 1.3min\n",
      "[CV] features__nlp_pipeline__vect__ngram_range=(1, 2), features__nlp_pipeline__vect__max_features=5000, features__nlp_pipeline__tfidf__use_idf=False, clf__estimator__n_estimators=50, features__nlp_pipeline__vect__max_df=0.5 \n",
      "[CV]  features__nlp_pipeline__vect__ngram_range=(1, 2), features__nlp_pipeline__vect__max_features=5000, features__nlp_pipeline__tfidf__use_idf=False, clf__estimator__n_estimators=50, features__nlp_pipeline__vect__max_df=0.5, total= 1.3min\n",
      "[CV] features__nlp_pipeline__vect__ngram_range=(1, 2), features__nlp_pipeline__vect__max_features=5000, features__nlp_pipeline__tfidf__use_idf=False, clf__estimator__n_estimators=50, features__nlp_pipeline__vect__max_df=0.5 \n",
      "[CV]  features__nlp_pipeline__vect__ngram_range=(1, 2), features__nlp_pipeline__vect__max_features=5000, features__nlp_pipeline__tfidf__use_idf=False, clf__estimator__n_estimators=50, features__nlp_pipeline__vect__max_df=0.5, total= 1.3min\n",
      "[CV] features__nlp_pipeline__vect__ngram_range=(1, 1), features__nlp_pipeline__vect__max_features=10000, features__nlp_pipeline__tfidf__use_idf=False, clf__estimator__n_estimators=50, features__nlp_pipeline__vect__max_df=0.5 \n",
      "[CV]  features__nlp_pipeline__vect__ngram_range=(1, 1), features__nlp_pipeline__vect__max_features=10000, features__nlp_pipeline__tfidf__use_idf=False, clf__estimator__n_estimators=50, features__nlp_pipeline__vect__max_df=0.5, total= 1.1min\n",
      "[CV] features__nlp_pipeline__vect__ngram_range=(1, 1), features__nlp_pipeline__vect__max_features=10000, features__nlp_pipeline__tfidf__use_idf=False, clf__estimator__n_estimators=50, features__nlp_pipeline__vect__max_df=0.5 \n",
      "[CV]  features__nlp_pipeline__vect__ngram_range=(1, 1), features__nlp_pipeline__vect__max_features=10000, features__nlp_pipeline__tfidf__use_idf=False, clf__estimator__n_estimators=50, features__nlp_pipeline__vect__max_df=0.5, total= 1.1min\n",
      "[CV] features__nlp_pipeline__vect__ngram_range=(1, 1), features__nlp_pipeline__vect__max_features=10000, features__nlp_pipeline__tfidf__use_idf=False, clf__estimator__n_estimators=50, features__nlp_pipeline__vect__max_df=0.5 \n",
      "[CV]  features__nlp_pipeline__vect__ngram_range=(1, 1), features__nlp_pipeline__vect__max_features=10000, features__nlp_pipeline__tfidf__use_idf=False, clf__estimator__n_estimators=50, features__nlp_pipeline__vect__max_df=0.5, total= 1.1min\n",
      "[CV] features__nlp_pipeline__vect__ngram_range=(1, 2), features__nlp_pipeline__vect__max_features=10000, features__nlp_pipeline__tfidf__use_idf=False, clf__estimator__n_estimators=50, features__nlp_pipeline__vect__max_df=0.5 \n",
      "[CV]  features__nlp_pipeline__vect__ngram_range=(1, 2), features__nlp_pipeline__vect__max_features=10000, features__nlp_pipeline__tfidf__use_idf=False, clf__estimator__n_estimators=50, features__nlp_pipeline__vect__max_df=0.5, total= 1.5min\n",
      "[CV] features__nlp_pipeline__vect__ngram_range=(1, 2), features__nlp_pipeline__vect__max_features=10000, features__nlp_pipeline__tfidf__use_idf=False, clf__estimator__n_estimators=50, features__nlp_pipeline__vect__max_df=0.5 \n",
      "[CV]  features__nlp_pipeline__vect__ngram_range=(1, 2), features__nlp_pipeline__vect__max_features=10000, features__nlp_pipeline__tfidf__use_idf=False, clf__estimator__n_estimators=50, features__nlp_pipeline__vect__max_df=0.5, total= 1.5min\n",
      "[CV] features__nlp_pipeline__vect__ngram_range=(1, 2), features__nlp_pipeline__vect__max_features=10000, features__nlp_pipeline__tfidf__use_idf=False, clf__estimator__n_estimators=50, features__nlp_pipeline__vect__max_df=0.5 \n",
      "[CV]  features__nlp_pipeline__vect__ngram_range=(1, 2), features__nlp_pipeline__vect__max_features=10000, features__nlp_pipeline__tfidf__use_idf=False, clf__estimator__n_estimators=50, features__nlp_pipeline__vect__max_df=0.5, total= 1.5min\n",
      "[CV] features__nlp_pipeline__vect__ngram_range=(1, 1), features__nlp_pipeline__vect__max_features=None, features__nlp_pipeline__tfidf__use_idf=False, clf__estimator__n_estimators=50, features__nlp_pipeline__vect__max_df=0.75 \n",
      "[CV]  features__nlp_pipeline__vect__ngram_range=(1, 1), features__nlp_pipeline__vect__max_features=None, features__nlp_pipeline__tfidf__use_idf=False, clf__estimator__n_estimators=50, features__nlp_pipeline__vect__max_df=0.75, total= 1.3min\n",
      "[CV] features__nlp_pipeline__vect__ngram_range=(1, 1), features__nlp_pipeline__vect__max_features=None, features__nlp_pipeline__tfidf__use_idf=False, clf__estimator__n_estimators=50, features__nlp_pipeline__vect__max_df=0.75 \n"
     ]
    },
    {
     "name": "stdout",
     "output_type": "stream",
     "text": [
      "[CV]  features__nlp_pipeline__vect__ngram_range=(1, 1), features__nlp_pipeline__vect__max_features=None, features__nlp_pipeline__tfidf__use_idf=False, clf__estimator__n_estimators=50, features__nlp_pipeline__vect__max_df=0.75, total= 1.3min\n",
      "[CV] features__nlp_pipeline__vect__ngram_range=(1, 1), features__nlp_pipeline__vect__max_features=None, features__nlp_pipeline__tfidf__use_idf=False, clf__estimator__n_estimators=50, features__nlp_pipeline__vect__max_df=0.75 \n",
      "[CV]  features__nlp_pipeline__vect__ngram_range=(1, 1), features__nlp_pipeline__vect__max_features=None, features__nlp_pipeline__tfidf__use_idf=False, clf__estimator__n_estimators=50, features__nlp_pipeline__vect__max_df=0.75, total= 1.3min\n",
      "[CV] features__nlp_pipeline__vect__ngram_range=(1, 2), features__nlp_pipeline__vect__max_features=None, features__nlp_pipeline__tfidf__use_idf=False, clf__estimator__n_estimators=50, features__nlp_pipeline__vect__max_df=0.75 \n",
      "[CV]  features__nlp_pipeline__vect__ngram_range=(1, 2), features__nlp_pipeline__vect__max_features=None, features__nlp_pipeline__tfidf__use_idf=False, clf__estimator__n_estimators=50, features__nlp_pipeline__vect__max_df=0.75, total= 3.5min\n",
      "[CV] features__nlp_pipeline__vect__ngram_range=(1, 2), features__nlp_pipeline__vect__max_features=None, features__nlp_pipeline__tfidf__use_idf=False, clf__estimator__n_estimators=50, features__nlp_pipeline__vect__max_df=0.75 \n",
      "[CV]  features__nlp_pipeline__vect__ngram_range=(1, 2), features__nlp_pipeline__vect__max_features=None, features__nlp_pipeline__tfidf__use_idf=False, clf__estimator__n_estimators=50, features__nlp_pipeline__vect__max_df=0.75, total= 3.5min\n",
      "[CV] features__nlp_pipeline__vect__ngram_range=(1, 2), features__nlp_pipeline__vect__max_features=None, features__nlp_pipeline__tfidf__use_idf=False, clf__estimator__n_estimators=50, features__nlp_pipeline__vect__max_df=0.75 \n",
      "[CV]  features__nlp_pipeline__vect__ngram_range=(1, 2), features__nlp_pipeline__vect__max_features=None, features__nlp_pipeline__tfidf__use_idf=False, clf__estimator__n_estimators=50, features__nlp_pipeline__vect__max_df=0.75, total= 3.5min\n",
      "[CV] features__nlp_pipeline__vect__ngram_range=(1, 1), features__nlp_pipeline__vect__max_features=5000, features__nlp_pipeline__tfidf__use_idf=False, clf__estimator__n_estimators=50, features__nlp_pipeline__vect__max_df=0.75 \n",
      "[CV]  features__nlp_pipeline__vect__ngram_range=(1, 1), features__nlp_pipeline__vect__max_features=5000, features__nlp_pipeline__tfidf__use_idf=False, clf__estimator__n_estimators=50, features__nlp_pipeline__vect__max_df=0.75, total= 1.1min\n",
      "[CV] features__nlp_pipeline__vect__ngram_range=(1, 1), features__nlp_pipeline__vect__max_features=5000, features__nlp_pipeline__tfidf__use_idf=False, clf__estimator__n_estimators=50, features__nlp_pipeline__vect__max_df=0.75 \n",
      "[CV]  features__nlp_pipeline__vect__ngram_range=(1, 1), features__nlp_pipeline__vect__max_features=5000, features__nlp_pipeline__tfidf__use_idf=False, clf__estimator__n_estimators=50, features__nlp_pipeline__vect__max_df=0.75, total= 1.1min\n",
      "[CV] features__nlp_pipeline__vect__ngram_range=(1, 1), features__nlp_pipeline__vect__max_features=5000, features__nlp_pipeline__tfidf__use_idf=False, clf__estimator__n_estimators=50, features__nlp_pipeline__vect__max_df=0.75 \n",
      "[CV]  features__nlp_pipeline__vect__ngram_range=(1, 1), features__nlp_pipeline__vect__max_features=5000, features__nlp_pipeline__tfidf__use_idf=False, clf__estimator__n_estimators=50, features__nlp_pipeline__vect__max_df=0.75, total= 1.1min\n",
      "[CV] features__nlp_pipeline__vect__ngram_range=(1, 2), features__nlp_pipeline__vect__max_features=5000, features__nlp_pipeline__tfidf__use_idf=False, clf__estimator__n_estimators=50, features__nlp_pipeline__vect__max_df=0.75 \n",
      "[CV]  features__nlp_pipeline__vect__ngram_range=(1, 2), features__nlp_pipeline__vect__max_features=5000, features__nlp_pipeline__tfidf__use_idf=False, clf__estimator__n_estimators=50, features__nlp_pipeline__vect__max_df=0.75, total= 1.4min\n",
      "[CV] features__nlp_pipeline__vect__ngram_range=(1, 2), features__nlp_pipeline__vect__max_features=5000, features__nlp_pipeline__tfidf__use_idf=False, clf__estimator__n_estimators=50, features__nlp_pipeline__vect__max_df=0.75 \n",
      "[CV]  features__nlp_pipeline__vect__ngram_range=(1, 2), features__nlp_pipeline__vect__max_features=5000, features__nlp_pipeline__tfidf__use_idf=False, clf__estimator__n_estimators=50, features__nlp_pipeline__vect__max_df=0.75, total= 1.4min\n",
      "[CV] features__nlp_pipeline__vect__ngram_range=(1, 2), features__nlp_pipeline__vect__max_features=5000, features__nlp_pipeline__tfidf__use_idf=False, clf__estimator__n_estimators=50, features__nlp_pipeline__vect__max_df=0.75 \n",
      "[CV]  features__nlp_pipeline__vect__ngram_range=(1, 2), features__nlp_pipeline__vect__max_features=5000, features__nlp_pipeline__tfidf__use_idf=False, clf__estimator__n_estimators=50, features__nlp_pipeline__vect__max_df=0.75, total= 1.4min\n",
      "[CV] features__nlp_pipeline__vect__ngram_range=(1, 1), features__nlp_pipeline__vect__max_features=10000, features__nlp_pipeline__tfidf__use_idf=False, clf__estimator__n_estimators=50, features__nlp_pipeline__vect__max_df=0.75 \n",
      "[CV]  features__nlp_pipeline__vect__ngram_range=(1, 1), features__nlp_pipeline__vect__max_features=10000, features__nlp_pipeline__tfidf__use_idf=False, clf__estimator__n_estimators=50, features__nlp_pipeline__vect__max_df=0.75, total= 1.2min\n",
      "[CV] features__nlp_pipeline__vect__ngram_range=(1, 1), features__nlp_pipeline__vect__max_features=10000, features__nlp_pipeline__tfidf__use_idf=False, clf__estimator__n_estimators=50, features__nlp_pipeline__vect__max_df=0.75 \n",
      "[CV]  features__nlp_pipeline__vect__ngram_range=(1, 1), features__nlp_pipeline__vect__max_features=10000, features__nlp_pipeline__tfidf__use_idf=False, clf__estimator__n_estimators=50, features__nlp_pipeline__vect__max_df=0.75, total= 1.2min\n",
      "[CV] features__nlp_pipeline__vect__ngram_range=(1, 1), features__nlp_pipeline__vect__max_features=10000, features__nlp_pipeline__tfidf__use_idf=False, clf__estimator__n_estimators=50, features__nlp_pipeline__vect__max_df=0.75 \n",
      "[CV]  features__nlp_pipeline__vect__ngram_range=(1, 1), features__nlp_pipeline__vect__max_features=10000, features__nlp_pipeline__tfidf__use_idf=False, clf__estimator__n_estimators=50, features__nlp_pipeline__vect__max_df=0.75, total= 1.2min\n",
      "[CV] features__nlp_pipeline__vect__ngram_range=(1, 2), features__nlp_pipeline__vect__max_features=10000, features__nlp_pipeline__tfidf__use_idf=False, clf__estimator__n_estimators=50, features__nlp_pipeline__vect__max_df=0.75 \n",
      "[CV]  features__nlp_pipeline__vect__ngram_range=(1, 2), features__nlp_pipeline__vect__max_features=10000, features__nlp_pipeline__tfidf__use_idf=False, clf__estimator__n_estimators=50, features__nlp_pipeline__vect__max_df=0.75, total= 1.5min\n",
      "[CV] features__nlp_pipeline__vect__ngram_range=(1, 2), features__nlp_pipeline__vect__max_features=10000, features__nlp_pipeline__tfidf__use_idf=False, clf__estimator__n_estimators=50, features__nlp_pipeline__vect__max_df=0.75 \n",
      "[CV]  features__nlp_pipeline__vect__ngram_range=(1, 2), features__nlp_pipeline__vect__max_features=10000, features__nlp_pipeline__tfidf__use_idf=False, clf__estimator__n_estimators=50, features__nlp_pipeline__vect__max_df=0.75, total= 1.5min\n",
      "[CV] features__nlp_pipeline__vect__ngram_range=(1, 2), features__nlp_pipeline__vect__max_features=10000, features__nlp_pipeline__tfidf__use_idf=False, clf__estimator__n_estimators=50, features__nlp_pipeline__vect__max_df=0.75 \n",
      "[CV]  features__nlp_pipeline__vect__ngram_range=(1, 2), features__nlp_pipeline__vect__max_features=10000, features__nlp_pipeline__tfidf__use_idf=False, clf__estimator__n_estimators=50, features__nlp_pipeline__vect__max_df=0.75, total= 1.5min\n",
      "[CV] features__nlp_pipeline__vect__ngram_range=(1, 1), features__nlp_pipeline__vect__max_features=None, features__nlp_pipeline__tfidf__use_idf=False, clf__estimator__n_estimators=50, features__nlp_pipeline__vect__max_df=1.0 \n",
      "[CV]  features__nlp_pipeline__vect__ngram_range=(1, 1), features__nlp_pipeline__vect__max_features=None, features__nlp_pipeline__tfidf__use_idf=False, clf__estimator__n_estimators=50, features__nlp_pipeline__vect__max_df=1.0, total= 1.3min\n",
      "[CV] features__nlp_pipeline__vect__ngram_range=(1, 1), features__nlp_pipeline__vect__max_features=None, features__nlp_pipeline__tfidf__use_idf=False, clf__estimator__n_estimators=50, features__nlp_pipeline__vect__max_df=1.0 \n"
     ]
    },
    {
     "name": "stdout",
     "output_type": "stream",
     "text": [
      "[CV]  features__nlp_pipeline__vect__ngram_range=(1, 1), features__nlp_pipeline__vect__max_features=None, features__nlp_pipeline__tfidf__use_idf=False, clf__estimator__n_estimators=50, features__nlp_pipeline__vect__max_df=1.0, total= 1.3min\n",
      "[CV] features__nlp_pipeline__vect__ngram_range=(1, 1), features__nlp_pipeline__vect__max_features=None, features__nlp_pipeline__tfidf__use_idf=False, clf__estimator__n_estimators=50, features__nlp_pipeline__vect__max_df=1.0 \n",
      "[CV]  features__nlp_pipeline__vect__ngram_range=(1, 1), features__nlp_pipeline__vect__max_features=None, features__nlp_pipeline__tfidf__use_idf=False, clf__estimator__n_estimators=50, features__nlp_pipeline__vect__max_df=1.0, total= 1.3min\n",
      "[CV] features__nlp_pipeline__vect__ngram_range=(1, 2), features__nlp_pipeline__vect__max_features=None, features__nlp_pipeline__tfidf__use_idf=False, clf__estimator__n_estimators=50, features__nlp_pipeline__vect__max_df=1.0 \n",
      "[CV]  features__nlp_pipeline__vect__ngram_range=(1, 2), features__nlp_pipeline__vect__max_features=None, features__nlp_pipeline__tfidf__use_idf=False, clf__estimator__n_estimators=50, features__nlp_pipeline__vect__max_df=1.0, total= 3.5min\n",
      "[CV] features__nlp_pipeline__vect__ngram_range=(1, 2), features__nlp_pipeline__vect__max_features=None, features__nlp_pipeline__tfidf__use_idf=False, clf__estimator__n_estimators=50, features__nlp_pipeline__vect__max_df=1.0 \n",
      "[CV]  features__nlp_pipeline__vect__ngram_range=(1, 2), features__nlp_pipeline__vect__max_features=None, features__nlp_pipeline__tfidf__use_idf=False, clf__estimator__n_estimators=50, features__nlp_pipeline__vect__max_df=1.0, total= 3.5min\n",
      "[CV] features__nlp_pipeline__vect__ngram_range=(1, 2), features__nlp_pipeline__vect__max_features=None, features__nlp_pipeline__tfidf__use_idf=False, clf__estimator__n_estimators=50, features__nlp_pipeline__vect__max_df=1.0 \n",
      "[CV]  features__nlp_pipeline__vect__ngram_range=(1, 2), features__nlp_pipeline__vect__max_features=None, features__nlp_pipeline__tfidf__use_idf=False, clf__estimator__n_estimators=50, features__nlp_pipeline__vect__max_df=1.0, total= 3.5min\n",
      "[CV] features__nlp_pipeline__vect__ngram_range=(1, 1), features__nlp_pipeline__vect__max_features=5000, features__nlp_pipeline__tfidf__use_idf=False, clf__estimator__n_estimators=50, features__nlp_pipeline__vect__max_df=1.0 \n",
      "[CV]  features__nlp_pipeline__vect__ngram_range=(1, 1), features__nlp_pipeline__vect__max_features=5000, features__nlp_pipeline__tfidf__use_idf=False, clf__estimator__n_estimators=50, features__nlp_pipeline__vect__max_df=1.0, total= 1.1min\n",
      "[CV] features__nlp_pipeline__vect__ngram_range=(1, 1), features__nlp_pipeline__vect__max_features=5000, features__nlp_pipeline__tfidf__use_idf=False, clf__estimator__n_estimators=50, features__nlp_pipeline__vect__max_df=1.0 \n",
      "[CV]  features__nlp_pipeline__vect__ngram_range=(1, 1), features__nlp_pipeline__vect__max_features=5000, features__nlp_pipeline__tfidf__use_idf=False, clf__estimator__n_estimators=50, features__nlp_pipeline__vect__max_df=1.0, total= 1.1min\n",
      "[CV] features__nlp_pipeline__vect__ngram_range=(1, 1), features__nlp_pipeline__vect__max_features=5000, features__nlp_pipeline__tfidf__use_idf=False, clf__estimator__n_estimators=50, features__nlp_pipeline__vect__max_df=1.0 \n",
      "[CV]  features__nlp_pipeline__vect__ngram_range=(1, 1), features__nlp_pipeline__vect__max_features=5000, features__nlp_pipeline__tfidf__use_idf=False, clf__estimator__n_estimators=50, features__nlp_pipeline__vect__max_df=1.0, total= 1.1min\n",
      "[CV] features__nlp_pipeline__vect__ngram_range=(1, 2), features__nlp_pipeline__vect__max_features=5000, features__nlp_pipeline__tfidf__use_idf=False, clf__estimator__n_estimators=50, features__nlp_pipeline__vect__max_df=1.0 \n",
      "[CV]  features__nlp_pipeline__vect__ngram_range=(1, 2), features__nlp_pipeline__vect__max_features=5000, features__nlp_pipeline__tfidf__use_idf=False, clf__estimator__n_estimators=50, features__nlp_pipeline__vect__max_df=1.0, total= 1.4min\n",
      "[CV] features__nlp_pipeline__vect__ngram_range=(1, 2), features__nlp_pipeline__vect__max_features=5000, features__nlp_pipeline__tfidf__use_idf=False, clf__estimator__n_estimators=50, features__nlp_pipeline__vect__max_df=1.0 \n",
      "[CV]  features__nlp_pipeline__vect__ngram_range=(1, 2), features__nlp_pipeline__vect__max_features=5000, features__nlp_pipeline__tfidf__use_idf=False, clf__estimator__n_estimators=50, features__nlp_pipeline__vect__max_df=1.0, total= 1.4min\n",
      "[CV] features__nlp_pipeline__vect__ngram_range=(1, 2), features__nlp_pipeline__vect__max_features=5000, features__nlp_pipeline__tfidf__use_idf=False, clf__estimator__n_estimators=50, features__nlp_pipeline__vect__max_df=1.0 \n",
      "[CV]  features__nlp_pipeline__vect__ngram_range=(1, 2), features__nlp_pipeline__vect__max_features=5000, features__nlp_pipeline__tfidf__use_idf=False, clf__estimator__n_estimators=50, features__nlp_pipeline__vect__max_df=1.0, total= 1.4min\n",
      "[CV] features__nlp_pipeline__vect__ngram_range=(1, 1), features__nlp_pipeline__vect__max_features=10000, features__nlp_pipeline__tfidf__use_idf=False, clf__estimator__n_estimators=50, features__nlp_pipeline__vect__max_df=1.0 \n",
      "[CV]  features__nlp_pipeline__vect__ngram_range=(1, 1), features__nlp_pipeline__vect__max_features=10000, features__nlp_pipeline__tfidf__use_idf=False, clf__estimator__n_estimators=50, features__nlp_pipeline__vect__max_df=1.0, total= 1.2min\n",
      "[CV] features__nlp_pipeline__vect__ngram_range=(1, 1), features__nlp_pipeline__vect__max_features=10000, features__nlp_pipeline__tfidf__use_idf=False, clf__estimator__n_estimators=50, features__nlp_pipeline__vect__max_df=1.0 \n",
      "[CV]  features__nlp_pipeline__vect__ngram_range=(1, 1), features__nlp_pipeline__vect__max_features=10000, features__nlp_pipeline__tfidf__use_idf=False, clf__estimator__n_estimators=50, features__nlp_pipeline__vect__max_df=1.0, total= 1.2min\n",
      "[CV] features__nlp_pipeline__vect__ngram_range=(1, 1), features__nlp_pipeline__vect__max_features=10000, features__nlp_pipeline__tfidf__use_idf=False, clf__estimator__n_estimators=50, features__nlp_pipeline__vect__max_df=1.0 \n",
      "[CV]  features__nlp_pipeline__vect__ngram_range=(1, 1), features__nlp_pipeline__vect__max_features=10000, features__nlp_pipeline__tfidf__use_idf=False, clf__estimator__n_estimators=50, features__nlp_pipeline__vect__max_df=1.0, total= 1.2min\n",
      "[CV] features__nlp_pipeline__vect__ngram_range=(1, 2), features__nlp_pipeline__vect__max_features=10000, features__nlp_pipeline__tfidf__use_idf=False, clf__estimator__n_estimators=50, features__nlp_pipeline__vect__max_df=1.0 \n",
      "[CV]  features__nlp_pipeline__vect__ngram_range=(1, 2), features__nlp_pipeline__vect__max_features=10000, features__nlp_pipeline__tfidf__use_idf=False, clf__estimator__n_estimators=50, features__nlp_pipeline__vect__max_df=1.0, total= 1.6min\n",
      "[CV] features__nlp_pipeline__vect__ngram_range=(1, 2), features__nlp_pipeline__vect__max_features=10000, features__nlp_pipeline__tfidf__use_idf=False, clf__estimator__n_estimators=50, features__nlp_pipeline__vect__max_df=1.0 \n",
      "[CV]  features__nlp_pipeline__vect__ngram_range=(1, 2), features__nlp_pipeline__vect__max_features=10000, features__nlp_pipeline__tfidf__use_idf=False, clf__estimator__n_estimators=50, features__nlp_pipeline__vect__max_df=1.0, total= 1.6min\n",
      "[CV] features__nlp_pipeline__vect__ngram_range=(1, 2), features__nlp_pipeline__vect__max_features=10000, features__nlp_pipeline__tfidf__use_idf=False, clf__estimator__n_estimators=50, features__nlp_pipeline__vect__max_df=1.0 \n",
      "[CV]  features__nlp_pipeline__vect__ngram_range=(1, 2), features__nlp_pipeline__vect__max_features=10000, features__nlp_pipeline__tfidf__use_idf=False, clf__estimator__n_estimators=50, features__nlp_pipeline__vect__max_df=1.0, total= 1.6min\n",
      "[CV] features__nlp_pipeline__vect__ngram_range=(1, 1), features__nlp_pipeline__vect__max_features=None, features__nlp_pipeline__tfidf__use_idf=True, clf__estimator__n_estimators=100, features__nlp_pipeline__vect__max_df=0.5 \n",
      "[CV]  features__nlp_pipeline__vect__ngram_range=(1, 1), features__nlp_pipeline__vect__max_features=None, features__nlp_pipeline__tfidf__use_idf=True, clf__estimator__n_estimators=100, features__nlp_pipeline__vect__max_df=0.5, total= 2.7min\n",
      "[CV] features__nlp_pipeline__vect__ngram_range=(1, 1), features__nlp_pipeline__vect__max_features=None, features__nlp_pipeline__tfidf__use_idf=True, clf__estimator__n_estimators=100, features__nlp_pipeline__vect__max_df=0.5 \n"
     ]
    },
    {
     "name": "stdout",
     "output_type": "stream",
     "text": [
      "[CV]  features__nlp_pipeline__vect__ngram_range=(1, 1), features__nlp_pipeline__vect__max_features=None, features__nlp_pipeline__tfidf__use_idf=True, clf__estimator__n_estimators=100, features__nlp_pipeline__vect__max_df=0.5, total= 2.7min\n",
      "[CV] features__nlp_pipeline__vect__ngram_range=(1, 1), features__nlp_pipeline__vect__max_features=None, features__nlp_pipeline__tfidf__use_idf=True, clf__estimator__n_estimators=100, features__nlp_pipeline__vect__max_df=0.5 \n",
      "[CV]  features__nlp_pipeline__vect__ngram_range=(1, 1), features__nlp_pipeline__vect__max_features=None, features__nlp_pipeline__tfidf__use_idf=True, clf__estimator__n_estimators=100, features__nlp_pipeline__vect__max_df=0.5, total= 2.7min\n",
      "[CV] features__nlp_pipeline__vect__ngram_range=(1, 2), features__nlp_pipeline__vect__max_features=None, features__nlp_pipeline__tfidf__use_idf=True, clf__estimator__n_estimators=100, features__nlp_pipeline__vect__max_df=0.5 \n",
      "[CV]  features__nlp_pipeline__vect__ngram_range=(1, 2), features__nlp_pipeline__vect__max_features=None, features__nlp_pipeline__tfidf__use_idf=True, clf__estimator__n_estimators=100, features__nlp_pipeline__vect__max_df=0.5, total= 7.1min\n",
      "[CV] features__nlp_pipeline__vect__ngram_range=(1, 2), features__nlp_pipeline__vect__max_features=None, features__nlp_pipeline__tfidf__use_idf=True, clf__estimator__n_estimators=100, features__nlp_pipeline__vect__max_df=0.5 \n",
      "[CV]  features__nlp_pipeline__vect__ngram_range=(1, 2), features__nlp_pipeline__vect__max_features=None, features__nlp_pipeline__tfidf__use_idf=True, clf__estimator__n_estimators=100, features__nlp_pipeline__vect__max_df=0.5, total= 7.1min\n",
      "[CV] features__nlp_pipeline__vect__ngram_range=(1, 2), features__nlp_pipeline__vect__max_features=None, features__nlp_pipeline__tfidf__use_idf=True, clf__estimator__n_estimators=100, features__nlp_pipeline__vect__max_df=0.5 \n",
      "[CV]  features__nlp_pipeline__vect__ngram_range=(1, 2), features__nlp_pipeline__vect__max_features=None, features__nlp_pipeline__tfidf__use_idf=True, clf__estimator__n_estimators=100, features__nlp_pipeline__vect__max_df=0.5, total= 7.1min\n",
      "[CV] features__nlp_pipeline__vect__ngram_range=(1, 1), features__nlp_pipeline__vect__max_features=5000, features__nlp_pipeline__tfidf__use_idf=True, clf__estimator__n_estimators=100, features__nlp_pipeline__vect__max_df=0.5 \n",
      "[CV]  features__nlp_pipeline__vect__ngram_range=(1, 1), features__nlp_pipeline__vect__max_features=5000, features__nlp_pipeline__tfidf__use_idf=True, clf__estimator__n_estimators=100, features__nlp_pipeline__vect__max_df=0.5, total= 2.3min\n",
      "[CV] features__nlp_pipeline__vect__ngram_range=(1, 1), features__nlp_pipeline__vect__max_features=5000, features__nlp_pipeline__tfidf__use_idf=True, clf__estimator__n_estimators=100, features__nlp_pipeline__vect__max_df=0.5 \n",
      "[CV]  features__nlp_pipeline__vect__ngram_range=(1, 1), features__nlp_pipeline__vect__max_features=5000, features__nlp_pipeline__tfidf__use_idf=True, clf__estimator__n_estimators=100, features__nlp_pipeline__vect__max_df=0.5, total= 2.3min\n",
      "[CV] features__nlp_pipeline__vect__ngram_range=(1, 1), features__nlp_pipeline__vect__max_features=5000, features__nlp_pipeline__tfidf__use_idf=True, clf__estimator__n_estimators=100, features__nlp_pipeline__vect__max_df=0.5 \n",
      "[CV]  features__nlp_pipeline__vect__ngram_range=(1, 1), features__nlp_pipeline__vect__max_features=5000, features__nlp_pipeline__tfidf__use_idf=True, clf__estimator__n_estimators=100, features__nlp_pipeline__vect__max_df=0.5, total= 2.3min\n",
      "[CV] features__nlp_pipeline__vect__ngram_range=(1, 2), features__nlp_pipeline__vect__max_features=5000, features__nlp_pipeline__tfidf__use_idf=True, clf__estimator__n_estimators=100, features__nlp_pipeline__vect__max_df=0.5 \n",
      "[CV]  features__nlp_pipeline__vect__ngram_range=(1, 2), features__nlp_pipeline__vect__max_features=5000, features__nlp_pipeline__tfidf__use_idf=True, clf__estimator__n_estimators=100, features__nlp_pipeline__vect__max_df=0.5, total= 2.9min\n",
      "[CV] features__nlp_pipeline__vect__ngram_range=(1, 2), features__nlp_pipeline__vect__max_features=5000, features__nlp_pipeline__tfidf__use_idf=True, clf__estimator__n_estimators=100, features__nlp_pipeline__vect__max_df=0.5 \n",
      "[CV]  features__nlp_pipeline__vect__ngram_range=(1, 2), features__nlp_pipeline__vect__max_features=5000, features__nlp_pipeline__tfidf__use_idf=True, clf__estimator__n_estimators=100, features__nlp_pipeline__vect__max_df=0.5, total= 2.9min\n",
      "[CV] features__nlp_pipeline__vect__ngram_range=(1, 2), features__nlp_pipeline__vect__max_features=5000, features__nlp_pipeline__tfidf__use_idf=True, clf__estimator__n_estimators=100, features__nlp_pipeline__vect__max_df=0.5 \n",
      "[CV]  features__nlp_pipeline__vect__ngram_range=(1, 2), features__nlp_pipeline__vect__max_features=5000, features__nlp_pipeline__tfidf__use_idf=True, clf__estimator__n_estimators=100, features__nlp_pipeline__vect__max_df=0.5, total= 2.9min\n",
      "[CV] features__nlp_pipeline__vect__ngram_range=(1, 1), features__nlp_pipeline__vect__max_features=10000, features__nlp_pipeline__tfidf__use_idf=True, clf__estimator__n_estimators=100, features__nlp_pipeline__vect__max_df=0.5 \n",
      "[CV]  features__nlp_pipeline__vect__ngram_range=(1, 1), features__nlp_pipeline__vect__max_features=10000, features__nlp_pipeline__tfidf__use_idf=True, clf__estimator__n_estimators=100, features__nlp_pipeline__vect__max_df=0.5, total= 2.4min\n",
      "[CV] features__nlp_pipeline__vect__ngram_range=(1, 1), features__nlp_pipeline__vect__max_features=10000, features__nlp_pipeline__tfidf__use_idf=True, clf__estimator__n_estimators=100, features__nlp_pipeline__vect__max_df=0.5 \n",
      "[CV]  features__nlp_pipeline__vect__ngram_range=(1, 1), features__nlp_pipeline__vect__max_features=10000, features__nlp_pipeline__tfidf__use_idf=True, clf__estimator__n_estimators=100, features__nlp_pipeline__vect__max_df=0.5, total= 2.4min\n",
      "[CV] features__nlp_pipeline__vect__ngram_range=(1, 1), features__nlp_pipeline__vect__max_features=10000, features__nlp_pipeline__tfidf__use_idf=True, clf__estimator__n_estimators=100, features__nlp_pipeline__vect__max_df=0.5 \n",
      "[CV]  features__nlp_pipeline__vect__ngram_range=(1, 1), features__nlp_pipeline__vect__max_features=10000, features__nlp_pipeline__tfidf__use_idf=True, clf__estimator__n_estimators=100, features__nlp_pipeline__vect__max_df=0.5, total= 2.4min\n",
      "[CV] features__nlp_pipeline__vect__ngram_range=(1, 2), features__nlp_pipeline__vect__max_features=10000, features__nlp_pipeline__tfidf__use_idf=True, clf__estimator__n_estimators=100, features__nlp_pipeline__vect__max_df=0.5 \n",
      "[CV]  features__nlp_pipeline__vect__ngram_range=(1, 2), features__nlp_pipeline__vect__max_features=10000, features__nlp_pipeline__tfidf__use_idf=True, clf__estimator__n_estimators=100, features__nlp_pipeline__vect__max_df=0.5, total= 3.2min\n",
      "[CV] features__nlp_pipeline__vect__ngram_range=(1, 2), features__nlp_pipeline__vect__max_features=10000, features__nlp_pipeline__tfidf__use_idf=True, clf__estimator__n_estimators=100, features__nlp_pipeline__vect__max_df=0.5 \n",
      "[CV]  features__nlp_pipeline__vect__ngram_range=(1, 2), features__nlp_pipeline__vect__max_features=10000, features__nlp_pipeline__tfidf__use_idf=True, clf__estimator__n_estimators=100, features__nlp_pipeline__vect__max_df=0.5, total= 3.2min\n",
      "[CV] features__nlp_pipeline__vect__ngram_range=(1, 2), features__nlp_pipeline__vect__max_features=10000, features__nlp_pipeline__tfidf__use_idf=True, clf__estimator__n_estimators=100, features__nlp_pipeline__vect__max_df=0.5 \n",
      "[CV]  features__nlp_pipeline__vect__ngram_range=(1, 2), features__nlp_pipeline__vect__max_features=10000, features__nlp_pipeline__tfidf__use_idf=True, clf__estimator__n_estimators=100, features__nlp_pipeline__vect__max_df=0.5, total= 3.2min\n",
      "[CV] features__nlp_pipeline__vect__ngram_range=(1, 1), features__nlp_pipeline__vect__max_features=None, features__nlp_pipeline__tfidf__use_idf=True, clf__estimator__n_estimators=100, features__nlp_pipeline__vect__max_df=0.75 \n",
      "[CV]  features__nlp_pipeline__vect__ngram_range=(1, 1), features__nlp_pipeline__vect__max_features=None, features__nlp_pipeline__tfidf__use_idf=True, clf__estimator__n_estimators=100, features__nlp_pipeline__vect__max_df=0.75, total= 2.9min\n",
      "[CV] features__nlp_pipeline__vect__ngram_range=(1, 1), features__nlp_pipeline__vect__max_features=None, features__nlp_pipeline__tfidf__use_idf=True, clf__estimator__n_estimators=100, features__nlp_pipeline__vect__max_df=0.75 \n"
     ]
    },
    {
     "name": "stdout",
     "output_type": "stream",
     "text": [
      "[CV]  features__nlp_pipeline__vect__ngram_range=(1, 1), features__nlp_pipeline__vect__max_features=None, features__nlp_pipeline__tfidf__use_idf=True, clf__estimator__n_estimators=100, features__nlp_pipeline__vect__max_df=0.75, total= 2.9min\n",
      "[CV] features__nlp_pipeline__vect__ngram_range=(1, 1), features__nlp_pipeline__vect__max_features=None, features__nlp_pipeline__tfidf__use_idf=True, clf__estimator__n_estimators=100, features__nlp_pipeline__vect__max_df=0.75 \n",
      "[CV]  features__nlp_pipeline__vect__ngram_range=(1, 1), features__nlp_pipeline__vect__max_features=None, features__nlp_pipeline__tfidf__use_idf=True, clf__estimator__n_estimators=100, features__nlp_pipeline__vect__max_df=0.75, total= 2.9min\n",
      "[CV] features__nlp_pipeline__vect__ngram_range=(1, 2), features__nlp_pipeline__vect__max_features=None, features__nlp_pipeline__tfidf__use_idf=True, clf__estimator__n_estimators=100, features__nlp_pipeline__vect__max_df=0.75 \n",
      "[CV]  features__nlp_pipeline__vect__ngram_range=(1, 2), features__nlp_pipeline__vect__max_features=None, features__nlp_pipeline__tfidf__use_idf=True, clf__estimator__n_estimators=100, features__nlp_pipeline__vect__max_df=0.75, total= 7.3min\n",
      "[CV] features__nlp_pipeline__vect__ngram_range=(1, 2), features__nlp_pipeline__vect__max_features=None, features__nlp_pipeline__tfidf__use_idf=True, clf__estimator__n_estimators=100, features__nlp_pipeline__vect__max_df=0.75 \n",
      "[CV]  features__nlp_pipeline__vect__ngram_range=(1, 2), features__nlp_pipeline__vect__max_features=None, features__nlp_pipeline__tfidf__use_idf=True, clf__estimator__n_estimators=100, features__nlp_pipeline__vect__max_df=0.75, total= 7.3min\n",
      "[CV] features__nlp_pipeline__vect__ngram_range=(1, 2), features__nlp_pipeline__vect__max_features=None, features__nlp_pipeline__tfidf__use_idf=True, clf__estimator__n_estimators=100, features__nlp_pipeline__vect__max_df=0.75 \n",
      "[CV]  features__nlp_pipeline__vect__ngram_range=(1, 2), features__nlp_pipeline__vect__max_features=None, features__nlp_pipeline__tfidf__use_idf=True, clf__estimator__n_estimators=100, features__nlp_pipeline__vect__max_df=0.75, total= 7.3min\n",
      "[CV] features__nlp_pipeline__vect__ngram_range=(1, 1), features__nlp_pipeline__vect__max_features=5000, features__nlp_pipeline__tfidf__use_idf=True, clf__estimator__n_estimators=100, features__nlp_pipeline__vect__max_df=0.75 \n",
      "[CV]  features__nlp_pipeline__vect__ngram_range=(1, 1), features__nlp_pipeline__vect__max_features=5000, features__nlp_pipeline__tfidf__use_idf=True, clf__estimator__n_estimators=100, features__nlp_pipeline__vect__max_df=0.75, total= 2.4min\n",
      "[CV] features__nlp_pipeline__vect__ngram_range=(1, 1), features__nlp_pipeline__vect__max_features=5000, features__nlp_pipeline__tfidf__use_idf=True, clf__estimator__n_estimators=100, features__nlp_pipeline__vect__max_df=0.75 \n",
      "[CV]  features__nlp_pipeline__vect__ngram_range=(1, 1), features__nlp_pipeline__vect__max_features=5000, features__nlp_pipeline__tfidf__use_idf=True, clf__estimator__n_estimators=100, features__nlp_pipeline__vect__max_df=0.75, total= 2.4min\n",
      "[CV] features__nlp_pipeline__vect__ngram_range=(1, 1), features__nlp_pipeline__vect__max_features=5000, features__nlp_pipeline__tfidf__use_idf=True, clf__estimator__n_estimators=100, features__nlp_pipeline__vect__max_df=0.75 \n",
      "[CV]  features__nlp_pipeline__vect__ngram_range=(1, 1), features__nlp_pipeline__vect__max_features=5000, features__nlp_pipeline__tfidf__use_idf=True, clf__estimator__n_estimators=100, features__nlp_pipeline__vect__max_df=0.75, total= 2.4min\n",
      "[CV] features__nlp_pipeline__vect__ngram_range=(1, 2), features__nlp_pipeline__vect__max_features=5000, features__nlp_pipeline__tfidf__use_idf=True, clf__estimator__n_estimators=100, features__nlp_pipeline__vect__max_df=0.75 \n",
      "[CV]  features__nlp_pipeline__vect__ngram_range=(1, 2), features__nlp_pipeline__vect__max_features=5000, features__nlp_pipeline__tfidf__use_idf=True, clf__estimator__n_estimators=100, features__nlp_pipeline__vect__max_df=0.75, total= 3.0min\n",
      "[CV] features__nlp_pipeline__vect__ngram_range=(1, 2), features__nlp_pipeline__vect__max_features=5000, features__nlp_pipeline__tfidf__use_idf=True, clf__estimator__n_estimators=100, features__nlp_pipeline__vect__max_df=0.75 \n",
      "[CV]  features__nlp_pipeline__vect__ngram_range=(1, 2), features__nlp_pipeline__vect__max_features=5000, features__nlp_pipeline__tfidf__use_idf=True, clf__estimator__n_estimators=100, features__nlp_pipeline__vect__max_df=0.75, total= 3.0min\n",
      "[CV] features__nlp_pipeline__vect__ngram_range=(1, 2), features__nlp_pipeline__vect__max_features=5000, features__nlp_pipeline__tfidf__use_idf=True, clf__estimator__n_estimators=100, features__nlp_pipeline__vect__max_df=0.75 \n",
      "[CV]  features__nlp_pipeline__vect__ngram_range=(1, 2), features__nlp_pipeline__vect__max_features=5000, features__nlp_pipeline__tfidf__use_idf=True, clf__estimator__n_estimators=100, features__nlp_pipeline__vect__max_df=0.75, total= 3.0min\n",
      "[CV] features__nlp_pipeline__vect__ngram_range=(1, 1), features__nlp_pipeline__vect__max_features=10000, features__nlp_pipeline__tfidf__use_idf=True, clf__estimator__n_estimators=100, features__nlp_pipeline__vect__max_df=0.75 \n",
      "[CV]  features__nlp_pipeline__vect__ngram_range=(1, 1), features__nlp_pipeline__vect__max_features=10000, features__nlp_pipeline__tfidf__use_idf=True, clf__estimator__n_estimators=100, features__nlp_pipeline__vect__max_df=0.75, total= 2.6min\n",
      "[CV] features__nlp_pipeline__vect__ngram_range=(1, 1), features__nlp_pipeline__vect__max_features=10000, features__nlp_pipeline__tfidf__use_idf=True, clf__estimator__n_estimators=100, features__nlp_pipeline__vect__max_df=0.75 \n",
      "[CV]  features__nlp_pipeline__vect__ngram_range=(1, 1), features__nlp_pipeline__vect__max_features=10000, features__nlp_pipeline__tfidf__use_idf=True, clf__estimator__n_estimators=100, features__nlp_pipeline__vect__max_df=0.75, total= 2.6min\n",
      "[CV] features__nlp_pipeline__vect__ngram_range=(1, 1), features__nlp_pipeline__vect__max_features=10000, features__nlp_pipeline__tfidf__use_idf=True, clf__estimator__n_estimators=100, features__nlp_pipeline__vect__max_df=0.75 \n",
      "[CV]  features__nlp_pipeline__vect__ngram_range=(1, 1), features__nlp_pipeline__vect__max_features=10000, features__nlp_pipeline__tfidf__use_idf=True, clf__estimator__n_estimators=100, features__nlp_pipeline__vect__max_df=0.75, total= 2.6min\n",
      "[CV] features__nlp_pipeline__vect__ngram_range=(1, 2), features__nlp_pipeline__vect__max_features=10000, features__nlp_pipeline__tfidf__use_idf=True, clf__estimator__n_estimators=100, features__nlp_pipeline__vect__max_df=0.75 \n",
      "[CV]  features__nlp_pipeline__vect__ngram_range=(1, 2), features__nlp_pipeline__vect__max_features=10000, features__nlp_pipeline__tfidf__use_idf=True, clf__estimator__n_estimators=100, features__nlp_pipeline__vect__max_df=0.75, total= 3.4min\n",
      "[CV] features__nlp_pipeline__vect__ngram_range=(1, 2), features__nlp_pipeline__vect__max_features=10000, features__nlp_pipeline__tfidf__use_idf=True, clf__estimator__n_estimators=100, features__nlp_pipeline__vect__max_df=0.75 \n",
      "[CV]  features__nlp_pipeline__vect__ngram_range=(1, 2), features__nlp_pipeline__vect__max_features=10000, features__nlp_pipeline__tfidf__use_idf=True, clf__estimator__n_estimators=100, features__nlp_pipeline__vect__max_df=0.75, total= 3.3min\n",
      "[CV] features__nlp_pipeline__vect__ngram_range=(1, 2), features__nlp_pipeline__vect__max_features=10000, features__nlp_pipeline__tfidf__use_idf=True, clf__estimator__n_estimators=100, features__nlp_pipeline__vect__max_df=0.75 \n",
      "[CV]  features__nlp_pipeline__vect__ngram_range=(1, 2), features__nlp_pipeline__vect__max_features=10000, features__nlp_pipeline__tfidf__use_idf=True, clf__estimator__n_estimators=100, features__nlp_pipeline__vect__max_df=0.75, total= 3.4min\n",
      "[CV] features__nlp_pipeline__vect__ngram_range=(1, 1), features__nlp_pipeline__vect__max_features=None, features__nlp_pipeline__tfidf__use_idf=True, clf__estimator__n_estimators=100, features__nlp_pipeline__vect__max_df=1.0 \n",
      "[CV]  features__nlp_pipeline__vect__ngram_range=(1, 1), features__nlp_pipeline__vect__max_features=None, features__nlp_pipeline__tfidf__use_idf=True, clf__estimator__n_estimators=100, features__nlp_pipeline__vect__max_df=1.0, total= 3.0min\n",
      "[CV] features__nlp_pipeline__vect__ngram_range=(1, 1), features__nlp_pipeline__vect__max_features=None, features__nlp_pipeline__tfidf__use_idf=True, clf__estimator__n_estimators=100, features__nlp_pipeline__vect__max_df=1.0 \n"
     ]
    },
    {
     "name": "stdout",
     "output_type": "stream",
     "text": [
      "[CV]  features__nlp_pipeline__vect__ngram_range=(1, 1), features__nlp_pipeline__vect__max_features=None, features__nlp_pipeline__tfidf__use_idf=True, clf__estimator__n_estimators=100, features__nlp_pipeline__vect__max_df=1.0, total= 3.0min\n",
      "[CV] features__nlp_pipeline__vect__ngram_range=(1, 1), features__nlp_pipeline__vect__max_features=None, features__nlp_pipeline__tfidf__use_idf=True, clf__estimator__n_estimators=100, features__nlp_pipeline__vect__max_df=1.0 \n",
      "[CV]  features__nlp_pipeline__vect__ngram_range=(1, 1), features__nlp_pipeline__vect__max_features=None, features__nlp_pipeline__tfidf__use_idf=True, clf__estimator__n_estimators=100, features__nlp_pipeline__vect__max_df=1.0, total= 3.0min\n",
      "[CV] features__nlp_pipeline__vect__ngram_range=(1, 2), features__nlp_pipeline__vect__max_features=None, features__nlp_pipeline__tfidf__use_idf=True, clf__estimator__n_estimators=100, features__nlp_pipeline__vect__max_df=1.0 \n",
      "[CV]  features__nlp_pipeline__vect__ngram_range=(1, 2), features__nlp_pipeline__vect__max_features=None, features__nlp_pipeline__tfidf__use_idf=True, clf__estimator__n_estimators=100, features__nlp_pipeline__vect__max_df=1.0, total= 7.4min\n",
      "[CV] features__nlp_pipeline__vect__ngram_range=(1, 2), features__nlp_pipeline__vect__max_features=None, features__nlp_pipeline__tfidf__use_idf=True, clf__estimator__n_estimators=100, features__nlp_pipeline__vect__max_df=1.0 \n",
      "[CV]  features__nlp_pipeline__vect__ngram_range=(1, 2), features__nlp_pipeline__vect__max_features=None, features__nlp_pipeline__tfidf__use_idf=True, clf__estimator__n_estimators=100, features__nlp_pipeline__vect__max_df=1.0, total= 7.4min\n",
      "[CV] features__nlp_pipeline__vect__ngram_range=(1, 2), features__nlp_pipeline__vect__max_features=None, features__nlp_pipeline__tfidf__use_idf=True, clf__estimator__n_estimators=100, features__nlp_pipeline__vect__max_df=1.0 \n",
      "[CV]  features__nlp_pipeline__vect__ngram_range=(1, 2), features__nlp_pipeline__vect__max_features=None, features__nlp_pipeline__tfidf__use_idf=True, clf__estimator__n_estimators=100, features__nlp_pipeline__vect__max_df=1.0, total= 7.4min\n",
      "[CV] features__nlp_pipeline__vect__ngram_range=(1, 1), features__nlp_pipeline__vect__max_features=5000, features__nlp_pipeline__tfidf__use_idf=True, clf__estimator__n_estimators=100, features__nlp_pipeline__vect__max_df=1.0 \n",
      "[CV]  features__nlp_pipeline__vect__ngram_range=(1, 1), features__nlp_pipeline__vect__max_features=5000, features__nlp_pipeline__tfidf__use_idf=True, clf__estimator__n_estimators=100, features__nlp_pipeline__vect__max_df=1.0, total= 2.5min\n",
      "[CV] features__nlp_pipeline__vect__ngram_range=(1, 1), features__nlp_pipeline__vect__max_features=5000, features__nlp_pipeline__tfidf__use_idf=True, clf__estimator__n_estimators=100, features__nlp_pipeline__vect__max_df=1.0 \n",
      "[CV]  features__nlp_pipeline__vect__ngram_range=(1, 1), features__nlp_pipeline__vect__max_features=5000, features__nlp_pipeline__tfidf__use_idf=True, clf__estimator__n_estimators=100, features__nlp_pipeline__vect__max_df=1.0, total= 2.5min\n",
      "[CV] features__nlp_pipeline__vect__ngram_range=(1, 1), features__nlp_pipeline__vect__max_features=5000, features__nlp_pipeline__tfidf__use_idf=True, clf__estimator__n_estimators=100, features__nlp_pipeline__vect__max_df=1.0 \n",
      "[CV]  features__nlp_pipeline__vect__ngram_range=(1, 1), features__nlp_pipeline__vect__max_features=5000, features__nlp_pipeline__tfidf__use_idf=True, clf__estimator__n_estimators=100, features__nlp_pipeline__vect__max_df=1.0, total= 2.5min\n",
      "[CV] features__nlp_pipeline__vect__ngram_range=(1, 2), features__nlp_pipeline__vect__max_features=5000, features__nlp_pipeline__tfidf__use_idf=True, clf__estimator__n_estimators=100, features__nlp_pipeline__vect__max_df=1.0 \n",
      "[CV]  features__nlp_pipeline__vect__ngram_range=(1, 2), features__nlp_pipeline__vect__max_features=5000, features__nlp_pipeline__tfidf__use_idf=True, clf__estimator__n_estimators=100, features__nlp_pipeline__vect__max_df=1.0, total= 3.1min\n",
      "[CV] features__nlp_pipeline__vect__ngram_range=(1, 2), features__nlp_pipeline__vect__max_features=5000, features__nlp_pipeline__tfidf__use_idf=True, clf__estimator__n_estimators=100, features__nlp_pipeline__vect__max_df=1.0 \n",
      "[CV]  features__nlp_pipeline__vect__ngram_range=(1, 2), features__nlp_pipeline__vect__max_features=5000, features__nlp_pipeline__tfidf__use_idf=True, clf__estimator__n_estimators=100, features__nlp_pipeline__vect__max_df=1.0, total= 3.1min\n",
      "[CV] features__nlp_pipeline__vect__ngram_range=(1, 2), features__nlp_pipeline__vect__max_features=5000, features__nlp_pipeline__tfidf__use_idf=True, clf__estimator__n_estimators=100, features__nlp_pipeline__vect__max_df=1.0 \n",
      "[CV]  features__nlp_pipeline__vect__ngram_range=(1, 2), features__nlp_pipeline__vect__max_features=5000, features__nlp_pipeline__tfidf__use_idf=True, clf__estimator__n_estimators=100, features__nlp_pipeline__vect__max_df=1.0, total= 3.1min\n",
      "[CV] features__nlp_pipeline__vect__ngram_range=(1, 1), features__nlp_pipeline__vect__max_features=10000, features__nlp_pipeline__tfidf__use_idf=True, clf__estimator__n_estimators=100, features__nlp_pipeline__vect__max_df=1.0 \n",
      "[CV]  features__nlp_pipeline__vect__ngram_range=(1, 1), features__nlp_pipeline__vect__max_features=10000, features__nlp_pipeline__tfidf__use_idf=True, clf__estimator__n_estimators=100, features__nlp_pipeline__vect__max_df=1.0, total= 2.7min\n",
      "[CV] features__nlp_pipeline__vect__ngram_range=(1, 1), features__nlp_pipeline__vect__max_features=10000, features__nlp_pipeline__tfidf__use_idf=True, clf__estimator__n_estimators=100, features__nlp_pipeline__vect__max_df=1.0 \n",
      "[CV]  features__nlp_pipeline__vect__ngram_range=(1, 1), features__nlp_pipeline__vect__max_features=10000, features__nlp_pipeline__tfidf__use_idf=True, clf__estimator__n_estimators=100, features__nlp_pipeline__vect__max_df=1.0, total= 2.7min\n",
      "[CV] features__nlp_pipeline__vect__ngram_range=(1, 1), features__nlp_pipeline__vect__max_features=10000, features__nlp_pipeline__tfidf__use_idf=True, clf__estimator__n_estimators=100, features__nlp_pipeline__vect__max_df=1.0 \n",
      "[CV]  features__nlp_pipeline__vect__ngram_range=(1, 1), features__nlp_pipeline__vect__max_features=10000, features__nlp_pipeline__tfidf__use_idf=True, clf__estimator__n_estimators=100, features__nlp_pipeline__vect__max_df=1.0, total= 2.7min\n",
      "[CV] features__nlp_pipeline__vect__ngram_range=(1, 2), features__nlp_pipeline__vect__max_features=10000, features__nlp_pipeline__tfidf__use_idf=True, clf__estimator__n_estimators=100, features__nlp_pipeline__vect__max_df=1.0 \n",
      "[CV]  features__nlp_pipeline__vect__ngram_range=(1, 2), features__nlp_pipeline__vect__max_features=10000, features__nlp_pipeline__tfidf__use_idf=True, clf__estimator__n_estimators=100, features__nlp_pipeline__vect__max_df=1.0, total= 3.4min\n",
      "[CV] features__nlp_pipeline__vect__ngram_range=(1, 2), features__nlp_pipeline__vect__max_features=10000, features__nlp_pipeline__tfidf__use_idf=True, clf__estimator__n_estimators=100, features__nlp_pipeline__vect__max_df=1.0 \n",
      "[CV]  features__nlp_pipeline__vect__ngram_range=(1, 2), features__nlp_pipeline__vect__max_features=10000, features__nlp_pipeline__tfidf__use_idf=True, clf__estimator__n_estimators=100, features__nlp_pipeline__vect__max_df=1.0, total= 3.4min\n",
      "[CV] features__nlp_pipeline__vect__ngram_range=(1, 2), features__nlp_pipeline__vect__max_features=10000, features__nlp_pipeline__tfidf__use_idf=True, clf__estimator__n_estimators=100, features__nlp_pipeline__vect__max_df=1.0 \n",
      "[CV]  features__nlp_pipeline__vect__ngram_range=(1, 2), features__nlp_pipeline__vect__max_features=10000, features__nlp_pipeline__tfidf__use_idf=True, clf__estimator__n_estimators=100, features__nlp_pipeline__vect__max_df=1.0, total= 3.5min\n",
      "[CV] features__nlp_pipeline__vect__ngram_range=(1, 1), features__nlp_pipeline__vect__max_features=None, features__nlp_pipeline__tfidf__use_idf=False, clf__estimator__n_estimators=100, features__nlp_pipeline__vect__max_df=0.5 \n",
      "[CV]  features__nlp_pipeline__vect__ngram_range=(1, 1), features__nlp_pipeline__vect__max_features=None, features__nlp_pipeline__tfidf__use_idf=False, clf__estimator__n_estimators=100, features__nlp_pipeline__vect__max_df=0.5, total= 2.3min\n",
      "[CV] features__nlp_pipeline__vect__ngram_range=(1, 1), features__nlp_pipeline__vect__max_features=None, features__nlp_pipeline__tfidf__use_idf=False, clf__estimator__n_estimators=100, features__nlp_pipeline__vect__max_df=0.5 \n"
     ]
    },
    {
     "name": "stdout",
     "output_type": "stream",
     "text": [
      "[CV]  features__nlp_pipeline__vect__ngram_range=(1, 1), features__nlp_pipeline__vect__max_features=None, features__nlp_pipeline__tfidf__use_idf=False, clf__estimator__n_estimators=100, features__nlp_pipeline__vect__max_df=0.5, total= 2.3min\n",
      "[CV] features__nlp_pipeline__vect__ngram_range=(1, 1), features__nlp_pipeline__vect__max_features=None, features__nlp_pipeline__tfidf__use_idf=False, clf__estimator__n_estimators=100, features__nlp_pipeline__vect__max_df=0.5 \n",
      "[CV]  features__nlp_pipeline__vect__ngram_range=(1, 1), features__nlp_pipeline__vect__max_features=None, features__nlp_pipeline__tfidf__use_idf=False, clf__estimator__n_estimators=100, features__nlp_pipeline__vect__max_df=0.5, total= 2.3min\n",
      "[CV] features__nlp_pipeline__vect__ngram_range=(1, 2), features__nlp_pipeline__vect__max_features=None, features__nlp_pipeline__tfidf__use_idf=False, clf__estimator__n_estimators=100, features__nlp_pipeline__vect__max_df=0.5 \n",
      "[CV]  features__nlp_pipeline__vect__ngram_range=(1, 2), features__nlp_pipeline__vect__max_features=None, features__nlp_pipeline__tfidf__use_idf=False, clf__estimator__n_estimators=100, features__nlp_pipeline__vect__max_df=0.5, total= 6.7min\n",
      "[CV] features__nlp_pipeline__vect__ngram_range=(1, 2), features__nlp_pipeline__vect__max_features=None, features__nlp_pipeline__tfidf__use_idf=False, clf__estimator__n_estimators=100, features__nlp_pipeline__vect__max_df=0.5 \n",
      "[CV]  features__nlp_pipeline__vect__ngram_range=(1, 2), features__nlp_pipeline__vect__max_features=None, features__nlp_pipeline__tfidf__use_idf=False, clf__estimator__n_estimators=100, features__nlp_pipeline__vect__max_df=0.5, total= 6.7min\n",
      "[CV] features__nlp_pipeline__vect__ngram_range=(1, 2), features__nlp_pipeline__vect__max_features=None, features__nlp_pipeline__tfidf__use_idf=False, clf__estimator__n_estimators=100, features__nlp_pipeline__vect__max_df=0.5 \n",
      "[CV]  features__nlp_pipeline__vect__ngram_range=(1, 2), features__nlp_pipeline__vect__max_features=None, features__nlp_pipeline__tfidf__use_idf=False, clf__estimator__n_estimators=100, features__nlp_pipeline__vect__max_df=0.5, total= 6.7min\n",
      "[CV] features__nlp_pipeline__vect__ngram_range=(1, 1), features__nlp_pipeline__vect__max_features=5000, features__nlp_pipeline__tfidf__use_idf=False, clf__estimator__n_estimators=100, features__nlp_pipeline__vect__max_df=0.5 \n",
      "[CV]  features__nlp_pipeline__vect__ngram_range=(1, 1), features__nlp_pipeline__vect__max_features=5000, features__nlp_pipeline__tfidf__use_idf=False, clf__estimator__n_estimators=100, features__nlp_pipeline__vect__max_df=0.5, total= 1.8min\n",
      "[CV] features__nlp_pipeline__vect__ngram_range=(1, 1), features__nlp_pipeline__vect__max_features=5000, features__nlp_pipeline__tfidf__use_idf=False, clf__estimator__n_estimators=100, features__nlp_pipeline__vect__max_df=0.5 \n",
      "[CV]  features__nlp_pipeline__vect__ngram_range=(1, 1), features__nlp_pipeline__vect__max_features=5000, features__nlp_pipeline__tfidf__use_idf=False, clf__estimator__n_estimators=100, features__nlp_pipeline__vect__max_df=0.5, total= 1.8min\n",
      "[CV] features__nlp_pipeline__vect__ngram_range=(1, 1), features__nlp_pipeline__vect__max_features=5000, features__nlp_pipeline__tfidf__use_idf=False, clf__estimator__n_estimators=100, features__nlp_pipeline__vect__max_df=0.5 \n",
      "[CV]  features__nlp_pipeline__vect__ngram_range=(1, 1), features__nlp_pipeline__vect__max_features=5000, features__nlp_pipeline__tfidf__use_idf=False, clf__estimator__n_estimators=100, features__nlp_pipeline__vect__max_df=0.5, total= 1.8min\n",
      "[CV] features__nlp_pipeline__vect__ngram_range=(1, 2), features__nlp_pipeline__vect__max_features=5000, features__nlp_pipeline__tfidf__use_idf=False, clf__estimator__n_estimators=100, features__nlp_pipeline__vect__max_df=0.5 \n",
      "[CV]  features__nlp_pipeline__vect__ngram_range=(1, 2), features__nlp_pipeline__vect__max_features=5000, features__nlp_pipeline__tfidf__use_idf=False, clf__estimator__n_estimators=100, features__nlp_pipeline__vect__max_df=0.5, total= 2.4min\n",
      "[CV] features__nlp_pipeline__vect__ngram_range=(1, 2), features__nlp_pipeline__vect__max_features=5000, features__nlp_pipeline__tfidf__use_idf=False, clf__estimator__n_estimators=100, features__nlp_pipeline__vect__max_df=0.5 \n",
      "[CV]  features__nlp_pipeline__vect__ngram_range=(1, 2), features__nlp_pipeline__vect__max_features=5000, features__nlp_pipeline__tfidf__use_idf=False, clf__estimator__n_estimators=100, features__nlp_pipeline__vect__max_df=0.5, total= 2.4min\n",
      "[CV] features__nlp_pipeline__vect__ngram_range=(1, 2), features__nlp_pipeline__vect__max_features=5000, features__nlp_pipeline__tfidf__use_idf=False, clf__estimator__n_estimators=100, features__nlp_pipeline__vect__max_df=0.5 \n",
      "[CV]  features__nlp_pipeline__vect__ngram_range=(1, 2), features__nlp_pipeline__vect__max_features=5000, features__nlp_pipeline__tfidf__use_idf=False, clf__estimator__n_estimators=100, features__nlp_pipeline__vect__max_df=0.5, total= 2.4min\n",
      "[CV] features__nlp_pipeline__vect__ngram_range=(1, 1), features__nlp_pipeline__vect__max_features=10000, features__nlp_pipeline__tfidf__use_idf=False, clf__estimator__n_estimators=100, features__nlp_pipeline__vect__max_df=0.5 \n",
      "[CV]  features__nlp_pipeline__vect__ngram_range=(1, 1), features__nlp_pipeline__vect__max_features=10000, features__nlp_pipeline__tfidf__use_idf=False, clf__estimator__n_estimators=100, features__nlp_pipeline__vect__max_df=0.5, total= 2.0min\n",
      "[CV] features__nlp_pipeline__vect__ngram_range=(1, 1), features__nlp_pipeline__vect__max_features=10000, features__nlp_pipeline__tfidf__use_idf=False, clf__estimator__n_estimators=100, features__nlp_pipeline__vect__max_df=0.5 \n",
      "[CV]  features__nlp_pipeline__vect__ngram_range=(1, 1), features__nlp_pipeline__vect__max_features=10000, features__nlp_pipeline__tfidf__use_idf=False, clf__estimator__n_estimators=100, features__nlp_pipeline__vect__max_df=0.5, total= 2.0min\n",
      "[CV] features__nlp_pipeline__vect__ngram_range=(1, 1), features__nlp_pipeline__vect__max_features=10000, features__nlp_pipeline__tfidf__use_idf=False, clf__estimator__n_estimators=100, features__nlp_pipeline__vect__max_df=0.5 \n",
      "[CV]  features__nlp_pipeline__vect__ngram_range=(1, 1), features__nlp_pipeline__vect__max_features=10000, features__nlp_pipeline__tfidf__use_idf=False, clf__estimator__n_estimators=100, features__nlp_pipeline__vect__max_df=0.5, total= 2.0min\n",
      "[CV] features__nlp_pipeline__vect__ngram_range=(1, 2), features__nlp_pipeline__vect__max_features=10000, features__nlp_pipeline__tfidf__use_idf=False, clf__estimator__n_estimators=100, features__nlp_pipeline__vect__max_df=0.5 \n",
      "[CV]  features__nlp_pipeline__vect__ngram_range=(1, 2), features__nlp_pipeline__vect__max_features=10000, features__nlp_pipeline__tfidf__use_idf=False, clf__estimator__n_estimators=100, features__nlp_pipeline__vect__max_df=0.5, total= 2.7min\n",
      "[CV] features__nlp_pipeline__vect__ngram_range=(1, 2), features__nlp_pipeline__vect__max_features=10000, features__nlp_pipeline__tfidf__use_idf=False, clf__estimator__n_estimators=100, features__nlp_pipeline__vect__max_df=0.5 \n",
      "[CV]  features__nlp_pipeline__vect__ngram_range=(1, 2), features__nlp_pipeline__vect__max_features=10000, features__nlp_pipeline__tfidf__use_idf=False, clf__estimator__n_estimators=100, features__nlp_pipeline__vect__max_df=0.5, total= 2.7min\n",
      "[CV] features__nlp_pipeline__vect__ngram_range=(1, 2), features__nlp_pipeline__vect__max_features=10000, features__nlp_pipeline__tfidf__use_idf=False, clf__estimator__n_estimators=100, features__nlp_pipeline__vect__max_df=0.5 \n",
      "[CV]  features__nlp_pipeline__vect__ngram_range=(1, 2), features__nlp_pipeline__vect__max_features=10000, features__nlp_pipeline__tfidf__use_idf=False, clf__estimator__n_estimators=100, features__nlp_pipeline__vect__max_df=0.5, total= 2.7min\n",
      "[CV] features__nlp_pipeline__vect__ngram_range=(1, 1), features__nlp_pipeline__vect__max_features=None, features__nlp_pipeline__tfidf__use_idf=False, clf__estimator__n_estimators=100, features__nlp_pipeline__vect__max_df=0.75 \n",
      "[CV]  features__nlp_pipeline__vect__ngram_range=(1, 1), features__nlp_pipeline__vect__max_features=None, features__nlp_pipeline__tfidf__use_idf=False, clf__estimator__n_estimators=100, features__nlp_pipeline__vect__max_df=0.75, total= 2.4min\n",
      "[CV] features__nlp_pipeline__vect__ngram_range=(1, 1), features__nlp_pipeline__vect__max_features=None, features__nlp_pipeline__tfidf__use_idf=False, clf__estimator__n_estimators=100, features__nlp_pipeline__vect__max_df=0.75 \n"
     ]
    },
    {
     "name": "stdout",
     "output_type": "stream",
     "text": [
      "[CV]  features__nlp_pipeline__vect__ngram_range=(1, 1), features__nlp_pipeline__vect__max_features=None, features__nlp_pipeline__tfidf__use_idf=False, clf__estimator__n_estimators=100, features__nlp_pipeline__vect__max_df=0.75, total= 2.4min\n",
      "[CV] features__nlp_pipeline__vect__ngram_range=(1, 1), features__nlp_pipeline__vect__max_features=None, features__nlp_pipeline__tfidf__use_idf=False, clf__estimator__n_estimators=100, features__nlp_pipeline__vect__max_df=0.75 \n",
      "[CV]  features__nlp_pipeline__vect__ngram_range=(1, 1), features__nlp_pipeline__vect__max_features=None, features__nlp_pipeline__tfidf__use_idf=False, clf__estimator__n_estimators=100, features__nlp_pipeline__vect__max_df=0.75, total= 2.4min\n",
      "[CV] features__nlp_pipeline__vect__ngram_range=(1, 2), features__nlp_pipeline__vect__max_features=None, features__nlp_pipeline__tfidf__use_idf=False, clf__estimator__n_estimators=100, features__nlp_pipeline__vect__max_df=0.75 \n",
      "[CV]  features__nlp_pipeline__vect__ngram_range=(1, 2), features__nlp_pipeline__vect__max_features=None, features__nlp_pipeline__tfidf__use_idf=False, clf__estimator__n_estimators=100, features__nlp_pipeline__vect__max_df=0.75, total= 6.8min\n",
      "[CV] features__nlp_pipeline__vect__ngram_range=(1, 2), features__nlp_pipeline__vect__max_features=None, features__nlp_pipeline__tfidf__use_idf=False, clf__estimator__n_estimators=100, features__nlp_pipeline__vect__max_df=0.75 \n",
      "[CV]  features__nlp_pipeline__vect__ngram_range=(1, 2), features__nlp_pipeline__vect__max_features=None, features__nlp_pipeline__tfidf__use_idf=False, clf__estimator__n_estimators=100, features__nlp_pipeline__vect__max_df=0.75, total= 6.7min\n",
      "[CV] features__nlp_pipeline__vect__ngram_range=(1, 2), features__nlp_pipeline__vect__max_features=None, features__nlp_pipeline__tfidf__use_idf=False, clf__estimator__n_estimators=100, features__nlp_pipeline__vect__max_df=0.75 \n",
      "[CV]  features__nlp_pipeline__vect__ngram_range=(1, 2), features__nlp_pipeline__vect__max_features=None, features__nlp_pipeline__tfidf__use_idf=False, clf__estimator__n_estimators=100, features__nlp_pipeline__vect__max_df=0.75, total= 6.8min\n",
      "[CV] features__nlp_pipeline__vect__ngram_range=(1, 1), features__nlp_pipeline__vect__max_features=5000, features__nlp_pipeline__tfidf__use_idf=False, clf__estimator__n_estimators=100, features__nlp_pipeline__vect__max_df=0.75 \n",
      "[CV]  features__nlp_pipeline__vect__ngram_range=(1, 1), features__nlp_pipeline__vect__max_features=5000, features__nlp_pipeline__tfidf__use_idf=False, clf__estimator__n_estimators=100, features__nlp_pipeline__vect__max_df=0.75, total= 2.0min\n",
      "[CV] features__nlp_pipeline__vect__ngram_range=(1, 1), features__nlp_pipeline__vect__max_features=5000, features__nlp_pipeline__tfidf__use_idf=False, clf__estimator__n_estimators=100, features__nlp_pipeline__vect__max_df=0.75 \n",
      "[CV]  features__nlp_pipeline__vect__ngram_range=(1, 1), features__nlp_pipeline__vect__max_features=5000, features__nlp_pipeline__tfidf__use_idf=False, clf__estimator__n_estimators=100, features__nlp_pipeline__vect__max_df=0.75, total= 2.0min\n",
      "[CV] features__nlp_pipeline__vect__ngram_range=(1, 1), features__nlp_pipeline__vect__max_features=5000, features__nlp_pipeline__tfidf__use_idf=False, clf__estimator__n_estimators=100, features__nlp_pipeline__vect__max_df=0.75 \n",
      "[CV]  features__nlp_pipeline__vect__ngram_range=(1, 1), features__nlp_pipeline__vect__max_features=5000, features__nlp_pipeline__tfidf__use_idf=False, clf__estimator__n_estimators=100, features__nlp_pipeline__vect__max_df=0.75, total= 2.0min\n",
      "[CV] features__nlp_pipeline__vect__ngram_range=(1, 2), features__nlp_pipeline__vect__max_features=5000, features__nlp_pipeline__tfidf__use_idf=False, clf__estimator__n_estimators=100, features__nlp_pipeline__vect__max_df=0.75 \n",
      "[CV]  features__nlp_pipeline__vect__ngram_range=(1, 2), features__nlp_pipeline__vect__max_features=5000, features__nlp_pipeline__tfidf__use_idf=False, clf__estimator__n_estimators=100, features__nlp_pipeline__vect__max_df=0.75, total= 2.5min\n",
      "[CV] features__nlp_pipeline__vect__ngram_range=(1, 2), features__nlp_pipeline__vect__max_features=5000, features__nlp_pipeline__tfidf__use_idf=False, clf__estimator__n_estimators=100, features__nlp_pipeline__vect__max_df=0.75 \n",
      "[CV]  features__nlp_pipeline__vect__ngram_range=(1, 2), features__nlp_pipeline__vect__max_features=5000, features__nlp_pipeline__tfidf__use_idf=False, clf__estimator__n_estimators=100, features__nlp_pipeline__vect__max_df=0.75, total= 2.5min\n",
      "[CV] features__nlp_pipeline__vect__ngram_range=(1, 2), features__nlp_pipeline__vect__max_features=5000, features__nlp_pipeline__tfidf__use_idf=False, clf__estimator__n_estimators=100, features__nlp_pipeline__vect__max_df=0.75 \n",
      "[CV]  features__nlp_pipeline__vect__ngram_range=(1, 2), features__nlp_pipeline__vect__max_features=5000, features__nlp_pipeline__tfidf__use_idf=False, clf__estimator__n_estimators=100, features__nlp_pipeline__vect__max_df=0.75, total= 2.5min\n",
      "[CV] features__nlp_pipeline__vect__ngram_range=(1, 1), features__nlp_pipeline__vect__max_features=10000, features__nlp_pipeline__tfidf__use_idf=False, clf__estimator__n_estimators=100, features__nlp_pipeline__vect__max_df=0.75 \n",
      "[CV]  features__nlp_pipeline__vect__ngram_range=(1, 1), features__nlp_pipeline__vect__max_features=10000, features__nlp_pipeline__tfidf__use_idf=False, clf__estimator__n_estimators=100, features__nlp_pipeline__vect__max_df=0.75, total= 2.1min\n",
      "[CV] features__nlp_pipeline__vect__ngram_range=(1, 1), features__nlp_pipeline__vect__max_features=10000, features__nlp_pipeline__tfidf__use_idf=False, clf__estimator__n_estimators=100, features__nlp_pipeline__vect__max_df=0.75 \n",
      "[CV]  features__nlp_pipeline__vect__ngram_range=(1, 1), features__nlp_pipeline__vect__max_features=10000, features__nlp_pipeline__tfidf__use_idf=False, clf__estimator__n_estimators=100, features__nlp_pipeline__vect__max_df=0.75, total= 2.1min\n",
      "[CV] features__nlp_pipeline__vect__ngram_range=(1, 1), features__nlp_pipeline__vect__max_features=10000, features__nlp_pipeline__tfidf__use_idf=False, clf__estimator__n_estimators=100, features__nlp_pipeline__vect__max_df=0.75 \n",
      "[CV]  features__nlp_pipeline__vect__ngram_range=(1, 1), features__nlp_pipeline__vect__max_features=10000, features__nlp_pipeline__tfidf__use_idf=False, clf__estimator__n_estimators=100, features__nlp_pipeline__vect__max_df=0.75, total= 2.1min\n",
      "[CV] features__nlp_pipeline__vect__ngram_range=(1, 2), features__nlp_pipeline__vect__max_features=10000, features__nlp_pipeline__tfidf__use_idf=False, clf__estimator__n_estimators=100, features__nlp_pipeline__vect__max_df=0.75 \n",
      "[CV]  features__nlp_pipeline__vect__ngram_range=(1, 2), features__nlp_pipeline__vect__max_features=10000, features__nlp_pipeline__tfidf__use_idf=False, clf__estimator__n_estimators=100, features__nlp_pipeline__vect__max_df=0.75, total= 2.8min\n",
      "[CV] features__nlp_pipeline__vect__ngram_range=(1, 2), features__nlp_pipeline__vect__max_features=10000, features__nlp_pipeline__tfidf__use_idf=False, clf__estimator__n_estimators=100, features__nlp_pipeline__vect__max_df=0.75 \n",
      "[CV]  features__nlp_pipeline__vect__ngram_range=(1, 2), features__nlp_pipeline__vect__max_features=10000, features__nlp_pipeline__tfidf__use_idf=False, clf__estimator__n_estimators=100, features__nlp_pipeline__vect__max_df=0.75, total= 2.8min\n",
      "[CV] features__nlp_pipeline__vect__ngram_range=(1, 2), features__nlp_pipeline__vect__max_features=10000, features__nlp_pipeline__tfidf__use_idf=False, clf__estimator__n_estimators=100, features__nlp_pipeline__vect__max_df=0.75 \n",
      "[CV]  features__nlp_pipeline__vect__ngram_range=(1, 2), features__nlp_pipeline__vect__max_features=10000, features__nlp_pipeline__tfidf__use_idf=False, clf__estimator__n_estimators=100, features__nlp_pipeline__vect__max_df=0.75, total= 2.9min\n",
      "[CV] features__nlp_pipeline__vect__ngram_range=(1, 1), features__nlp_pipeline__vect__max_features=None, features__nlp_pipeline__tfidf__use_idf=False, clf__estimator__n_estimators=100, features__nlp_pipeline__vect__max_df=1.0 \n",
      "[CV]  features__nlp_pipeline__vect__ngram_range=(1, 1), features__nlp_pipeline__vect__max_features=None, features__nlp_pipeline__tfidf__use_idf=False, clf__estimator__n_estimators=100, features__nlp_pipeline__vect__max_df=1.0, total= 2.5min\n",
      "[CV] features__nlp_pipeline__vect__ngram_range=(1, 1), features__nlp_pipeline__vect__max_features=None, features__nlp_pipeline__tfidf__use_idf=False, clf__estimator__n_estimators=100, features__nlp_pipeline__vect__max_df=1.0 \n"
     ]
    },
    {
     "name": "stdout",
     "output_type": "stream",
     "text": [
      "[CV]  features__nlp_pipeline__vect__ngram_range=(1, 1), features__nlp_pipeline__vect__max_features=None, features__nlp_pipeline__tfidf__use_idf=False, clf__estimator__n_estimators=100, features__nlp_pipeline__vect__max_df=1.0, total= 2.4min\n",
      "[CV] features__nlp_pipeline__vect__ngram_range=(1, 1), features__nlp_pipeline__vect__max_features=None, features__nlp_pipeline__tfidf__use_idf=False, clf__estimator__n_estimators=100, features__nlp_pipeline__vect__max_df=1.0 \n",
      "[CV]  features__nlp_pipeline__vect__ngram_range=(1, 1), features__nlp_pipeline__vect__max_features=None, features__nlp_pipeline__tfidf__use_idf=False, clf__estimator__n_estimators=100, features__nlp_pipeline__vect__max_df=1.0, total= 2.5min\n",
      "[CV] features__nlp_pipeline__vect__ngram_range=(1, 2), features__nlp_pipeline__vect__max_features=None, features__nlp_pipeline__tfidf__use_idf=False, clf__estimator__n_estimators=100, features__nlp_pipeline__vect__max_df=1.0 \n",
      "[CV]  features__nlp_pipeline__vect__ngram_range=(1, 2), features__nlp_pipeline__vect__max_features=None, features__nlp_pipeline__tfidf__use_idf=False, clf__estimator__n_estimators=100, features__nlp_pipeline__vect__max_df=1.0, total= 6.7min\n",
      "[CV] features__nlp_pipeline__vect__ngram_range=(1, 2), features__nlp_pipeline__vect__max_features=None, features__nlp_pipeline__tfidf__use_idf=False, clf__estimator__n_estimators=100, features__nlp_pipeline__vect__max_df=1.0 \n",
      "[CV]  features__nlp_pipeline__vect__ngram_range=(1, 2), features__nlp_pipeline__vect__max_features=None, features__nlp_pipeline__tfidf__use_idf=False, clf__estimator__n_estimators=100, features__nlp_pipeline__vect__max_df=1.0, total= 6.7min\n",
      "[CV] features__nlp_pipeline__vect__ngram_range=(1, 2), features__nlp_pipeline__vect__max_features=None, features__nlp_pipeline__tfidf__use_idf=False, clf__estimator__n_estimators=100, features__nlp_pipeline__vect__max_df=1.0 \n",
      "[CV]  features__nlp_pipeline__vect__ngram_range=(1, 2), features__nlp_pipeline__vect__max_features=None, features__nlp_pipeline__tfidf__use_idf=False, clf__estimator__n_estimators=100, features__nlp_pipeline__vect__max_df=1.0, total= 6.7min\n",
      "[CV] features__nlp_pipeline__vect__ngram_range=(1, 1), features__nlp_pipeline__vect__max_features=5000, features__nlp_pipeline__tfidf__use_idf=False, clf__estimator__n_estimators=100, features__nlp_pipeline__vect__max_df=1.0 \n",
      "[CV]  features__nlp_pipeline__vect__ngram_range=(1, 1), features__nlp_pipeline__vect__max_features=5000, features__nlp_pipeline__tfidf__use_idf=False, clf__estimator__n_estimators=100, features__nlp_pipeline__vect__max_df=1.0, total= 2.0min\n",
      "[CV] features__nlp_pipeline__vect__ngram_range=(1, 1), features__nlp_pipeline__vect__max_features=5000, features__nlp_pipeline__tfidf__use_idf=False, clf__estimator__n_estimators=100, features__nlp_pipeline__vect__max_df=1.0 \n",
      "[CV]  features__nlp_pipeline__vect__ngram_range=(1, 1), features__nlp_pipeline__vect__max_features=5000, features__nlp_pipeline__tfidf__use_idf=False, clf__estimator__n_estimators=100, features__nlp_pipeline__vect__max_df=1.0, total= 2.0min\n",
      "[CV] features__nlp_pipeline__vect__ngram_range=(1, 1), features__nlp_pipeline__vect__max_features=5000, features__nlp_pipeline__tfidf__use_idf=False, clf__estimator__n_estimators=100, features__nlp_pipeline__vect__max_df=1.0 \n",
      "[CV]  features__nlp_pipeline__vect__ngram_range=(1, 1), features__nlp_pipeline__vect__max_features=5000, features__nlp_pipeline__tfidf__use_idf=False, clf__estimator__n_estimators=100, features__nlp_pipeline__vect__max_df=1.0, total= 2.0min\n",
      "[CV] features__nlp_pipeline__vect__ngram_range=(1, 2), features__nlp_pipeline__vect__max_features=5000, features__nlp_pipeline__tfidf__use_idf=False, clf__estimator__n_estimators=100, features__nlp_pipeline__vect__max_df=1.0 \n",
      "[CV]  features__nlp_pipeline__vect__ngram_range=(1, 2), features__nlp_pipeline__vect__max_features=5000, features__nlp_pipeline__tfidf__use_idf=False, clf__estimator__n_estimators=100, features__nlp_pipeline__vect__max_df=1.0, total= 2.5min\n",
      "[CV] features__nlp_pipeline__vect__ngram_range=(1, 2), features__nlp_pipeline__vect__max_features=5000, features__nlp_pipeline__tfidf__use_idf=False, clf__estimator__n_estimators=100, features__nlp_pipeline__vect__max_df=1.0 \n",
      "[CV]  features__nlp_pipeline__vect__ngram_range=(1, 2), features__nlp_pipeline__vect__max_features=5000, features__nlp_pipeline__tfidf__use_idf=False, clf__estimator__n_estimators=100, features__nlp_pipeline__vect__max_df=1.0, total= 2.5min\n",
      "[CV] features__nlp_pipeline__vect__ngram_range=(1, 2), features__nlp_pipeline__vect__max_features=5000, features__nlp_pipeline__tfidf__use_idf=False, clf__estimator__n_estimators=100, features__nlp_pipeline__vect__max_df=1.0 \n",
      "[CV]  features__nlp_pipeline__vect__ngram_range=(1, 2), features__nlp_pipeline__vect__max_features=5000, features__nlp_pipeline__tfidf__use_idf=False, clf__estimator__n_estimators=100, features__nlp_pipeline__vect__max_df=1.0, total= 2.5min\n",
      "[CV] features__nlp_pipeline__vect__ngram_range=(1, 1), features__nlp_pipeline__vect__max_features=10000, features__nlp_pipeline__tfidf__use_idf=False, clf__estimator__n_estimators=100, features__nlp_pipeline__vect__max_df=1.0 \n",
      "[CV]  features__nlp_pipeline__vect__ngram_range=(1, 1), features__nlp_pipeline__vect__max_features=10000, features__nlp_pipeline__tfidf__use_idf=False, clf__estimator__n_estimators=100, features__nlp_pipeline__vect__max_df=1.0, total= 2.3min\n",
      "[CV] features__nlp_pipeline__vect__ngram_range=(1, 1), features__nlp_pipeline__vect__max_features=10000, features__nlp_pipeline__tfidf__use_idf=False, clf__estimator__n_estimators=100, features__nlp_pipeline__vect__max_df=1.0 \n",
      "[CV]  features__nlp_pipeline__vect__ngram_range=(1, 1), features__nlp_pipeline__vect__max_features=10000, features__nlp_pipeline__tfidf__use_idf=False, clf__estimator__n_estimators=100, features__nlp_pipeline__vect__max_df=1.0, total= 2.1min\n",
      "[CV] features__nlp_pipeline__vect__ngram_range=(1, 1), features__nlp_pipeline__vect__max_features=10000, features__nlp_pipeline__tfidf__use_idf=False, clf__estimator__n_estimators=100, features__nlp_pipeline__vect__max_df=1.0 \n",
      "[CV]  features__nlp_pipeline__vect__ngram_range=(1, 1), features__nlp_pipeline__vect__max_features=10000, features__nlp_pipeline__tfidf__use_idf=False, clf__estimator__n_estimators=100, features__nlp_pipeline__vect__max_df=1.0, total= 2.2min\n",
      "[CV] features__nlp_pipeline__vect__ngram_range=(1, 2), features__nlp_pipeline__vect__max_features=10000, features__nlp_pipeline__tfidf__use_idf=False, clf__estimator__n_estimators=100, features__nlp_pipeline__vect__max_df=1.0 \n",
      "[CV]  features__nlp_pipeline__vect__ngram_range=(1, 2), features__nlp_pipeline__vect__max_features=10000, features__nlp_pipeline__tfidf__use_idf=False, clf__estimator__n_estimators=100, features__nlp_pipeline__vect__max_df=1.0, total= 2.9min\n",
      "[CV] features__nlp_pipeline__vect__ngram_range=(1, 2), features__nlp_pipeline__vect__max_features=10000, features__nlp_pipeline__tfidf__use_idf=False, clf__estimator__n_estimators=100, features__nlp_pipeline__vect__max_df=1.0 \n",
      "[CV]  features__nlp_pipeline__vect__ngram_range=(1, 2), features__nlp_pipeline__vect__max_features=10000, features__nlp_pipeline__tfidf__use_idf=False, clf__estimator__n_estimators=100, features__nlp_pipeline__vect__max_df=1.0, total= 2.9min\n",
      "[CV] features__nlp_pipeline__vect__ngram_range=(1, 2), features__nlp_pipeline__vect__max_features=10000, features__nlp_pipeline__tfidf__use_idf=False, clf__estimator__n_estimators=100, features__nlp_pipeline__vect__max_df=1.0 \n",
      "[CV]  features__nlp_pipeline__vect__ngram_range=(1, 2), features__nlp_pipeline__vect__max_features=10000, features__nlp_pipeline__tfidf__use_idf=False, clf__estimator__n_estimators=100, features__nlp_pipeline__vect__max_df=1.0, total= 2.9min\n",
      "[CV] features__nlp_pipeline__vect__ngram_range=(1, 1), features__nlp_pipeline__vect__max_features=None, features__nlp_pipeline__tfidf__use_idf=True, clf__estimator__n_estimators=200, features__nlp_pipeline__vect__max_df=0.5 \n",
      "[CV]  features__nlp_pipeline__vect__ngram_range=(1, 1), features__nlp_pipeline__vect__max_features=None, features__nlp_pipeline__tfidf__use_idf=True, clf__estimator__n_estimators=200, features__nlp_pipeline__vect__max_df=0.5, total= 5.3min\n",
      "[CV] features__nlp_pipeline__vect__ngram_range=(1, 1), features__nlp_pipeline__vect__max_features=None, features__nlp_pipeline__tfidf__use_idf=True, clf__estimator__n_estimators=200, features__nlp_pipeline__vect__max_df=0.5 \n"
     ]
    },
    {
     "name": "stdout",
     "output_type": "stream",
     "text": [
      "[CV]  features__nlp_pipeline__vect__ngram_range=(1, 1), features__nlp_pipeline__vect__max_features=None, features__nlp_pipeline__tfidf__use_idf=True, clf__estimator__n_estimators=200, features__nlp_pipeline__vect__max_df=0.5, total= 5.3min\n",
      "[CV] features__nlp_pipeline__vect__ngram_range=(1, 1), features__nlp_pipeline__vect__max_features=None, features__nlp_pipeline__tfidf__use_idf=True, clf__estimator__n_estimators=200, features__nlp_pipeline__vect__max_df=0.5 \n",
      "[CV]  features__nlp_pipeline__vect__ngram_range=(1, 1), features__nlp_pipeline__vect__max_features=None, features__nlp_pipeline__tfidf__use_idf=True, clf__estimator__n_estimators=200, features__nlp_pipeline__vect__max_df=0.5, total= 5.3min\n",
      "[CV] features__nlp_pipeline__vect__ngram_range=(1, 2), features__nlp_pipeline__vect__max_features=None, features__nlp_pipeline__tfidf__use_idf=True, clf__estimator__n_estimators=200, features__nlp_pipeline__vect__max_df=0.5 \n",
      "[CV]  features__nlp_pipeline__vect__ngram_range=(1, 2), features__nlp_pipeline__vect__max_features=None, features__nlp_pipeline__tfidf__use_idf=True, clf__estimator__n_estimators=200, features__nlp_pipeline__vect__max_df=0.5, total=14.1min\n",
      "[CV] features__nlp_pipeline__vect__ngram_range=(1, 2), features__nlp_pipeline__vect__max_features=None, features__nlp_pipeline__tfidf__use_idf=True, clf__estimator__n_estimators=200, features__nlp_pipeline__vect__max_df=0.5 \n",
      "[CV]  features__nlp_pipeline__vect__ngram_range=(1, 2), features__nlp_pipeline__vect__max_features=None, features__nlp_pipeline__tfidf__use_idf=True, clf__estimator__n_estimators=200, features__nlp_pipeline__vect__max_df=0.5, total=14.0min\n",
      "[CV] features__nlp_pipeline__vect__ngram_range=(1, 2), features__nlp_pipeline__vect__max_features=None, features__nlp_pipeline__tfidf__use_idf=True, clf__estimator__n_estimators=200, features__nlp_pipeline__vect__max_df=0.5 \n",
      "[CV]  features__nlp_pipeline__vect__ngram_range=(1, 2), features__nlp_pipeline__vect__max_features=None, features__nlp_pipeline__tfidf__use_idf=True, clf__estimator__n_estimators=200, features__nlp_pipeline__vect__max_df=0.5, total=14.0min\n",
      "[CV] features__nlp_pipeline__vect__ngram_range=(1, 1), features__nlp_pipeline__vect__max_features=5000, features__nlp_pipeline__tfidf__use_idf=True, clf__estimator__n_estimators=200, features__nlp_pipeline__vect__max_df=0.5 \n",
      "[CV]  features__nlp_pipeline__vect__ngram_range=(1, 1), features__nlp_pipeline__vect__max_features=5000, features__nlp_pipeline__tfidf__use_idf=True, clf__estimator__n_estimators=200, features__nlp_pipeline__vect__max_df=0.5, total= 4.4min\n",
      "[CV] features__nlp_pipeline__vect__ngram_range=(1, 1), features__nlp_pipeline__vect__max_features=5000, features__nlp_pipeline__tfidf__use_idf=True, clf__estimator__n_estimators=200, features__nlp_pipeline__vect__max_df=0.5 \n",
      "[CV]  features__nlp_pipeline__vect__ngram_range=(1, 1), features__nlp_pipeline__vect__max_features=5000, features__nlp_pipeline__tfidf__use_idf=True, clf__estimator__n_estimators=200, features__nlp_pipeline__vect__max_df=0.5, total= 4.4min\n",
      "[CV] features__nlp_pipeline__vect__ngram_range=(1, 1), features__nlp_pipeline__vect__max_features=5000, features__nlp_pipeline__tfidf__use_idf=True, clf__estimator__n_estimators=200, features__nlp_pipeline__vect__max_df=0.5 \n",
      "[CV]  features__nlp_pipeline__vect__ngram_range=(1, 1), features__nlp_pipeline__vect__max_features=5000, features__nlp_pipeline__tfidf__use_idf=True, clf__estimator__n_estimators=200, features__nlp_pipeline__vect__max_df=0.5, total= 4.4min\n",
      "[CV] features__nlp_pipeline__vect__ngram_range=(1, 2), features__nlp_pipeline__vect__max_features=5000, features__nlp_pipeline__tfidf__use_idf=True, clf__estimator__n_estimators=200, features__nlp_pipeline__vect__max_df=0.5 \n",
      "[CV]  features__nlp_pipeline__vect__ngram_range=(1, 2), features__nlp_pipeline__vect__max_features=5000, features__nlp_pipeline__tfidf__use_idf=True, clf__estimator__n_estimators=200, features__nlp_pipeline__vect__max_df=0.5, total= 5.6min\n",
      "[CV] features__nlp_pipeline__vect__ngram_range=(1, 2), features__nlp_pipeline__vect__max_features=5000, features__nlp_pipeline__tfidf__use_idf=True, clf__estimator__n_estimators=200, features__nlp_pipeline__vect__max_df=0.5 \n",
      "[CV]  features__nlp_pipeline__vect__ngram_range=(1, 2), features__nlp_pipeline__vect__max_features=5000, features__nlp_pipeline__tfidf__use_idf=True, clf__estimator__n_estimators=200, features__nlp_pipeline__vect__max_df=0.5, total= 5.5min\n",
      "[CV] features__nlp_pipeline__vect__ngram_range=(1, 2), features__nlp_pipeline__vect__max_features=5000, features__nlp_pipeline__tfidf__use_idf=True, clf__estimator__n_estimators=200, features__nlp_pipeline__vect__max_df=0.5 \n",
      "[CV]  features__nlp_pipeline__vect__ngram_range=(1, 2), features__nlp_pipeline__vect__max_features=5000, features__nlp_pipeline__tfidf__use_idf=True, clf__estimator__n_estimators=200, features__nlp_pipeline__vect__max_df=0.5, total= 5.6min\n",
      "[CV] features__nlp_pipeline__vect__ngram_range=(1, 1), features__nlp_pipeline__vect__max_features=10000, features__nlp_pipeline__tfidf__use_idf=True, clf__estimator__n_estimators=200, features__nlp_pipeline__vect__max_df=0.5 \n",
      "[CV]  features__nlp_pipeline__vect__ngram_range=(1, 1), features__nlp_pipeline__vect__max_features=10000, features__nlp_pipeline__tfidf__use_idf=True, clf__estimator__n_estimators=200, features__nlp_pipeline__vect__max_df=0.5, total= 4.7min\n",
      "[CV] features__nlp_pipeline__vect__ngram_range=(1, 1), features__nlp_pipeline__vect__max_features=10000, features__nlp_pipeline__tfidf__use_idf=True, clf__estimator__n_estimators=200, features__nlp_pipeline__vect__max_df=0.5 \n",
      "[CV]  features__nlp_pipeline__vect__ngram_range=(1, 1), features__nlp_pipeline__vect__max_features=10000, features__nlp_pipeline__tfidf__use_idf=True, clf__estimator__n_estimators=200, features__nlp_pipeline__vect__max_df=0.5, total= 4.7min\n",
      "[CV] features__nlp_pipeline__vect__ngram_range=(1, 1), features__nlp_pipeline__vect__max_features=10000, features__nlp_pipeline__tfidf__use_idf=True, clf__estimator__n_estimators=200, features__nlp_pipeline__vect__max_df=0.5 \n",
      "[CV]  features__nlp_pipeline__vect__ngram_range=(1, 1), features__nlp_pipeline__vect__max_features=10000, features__nlp_pipeline__tfidf__use_idf=True, clf__estimator__n_estimators=200, features__nlp_pipeline__vect__max_df=0.5, total= 4.7min\n",
      "[CV] features__nlp_pipeline__vect__ngram_range=(1, 2), features__nlp_pipeline__vect__max_features=10000, features__nlp_pipeline__tfidf__use_idf=True, clf__estimator__n_estimators=200, features__nlp_pipeline__vect__max_df=0.5 \n",
      "[CV]  features__nlp_pipeline__vect__ngram_range=(1, 2), features__nlp_pipeline__vect__max_features=10000, features__nlp_pipeline__tfidf__use_idf=True, clf__estimator__n_estimators=200, features__nlp_pipeline__vect__max_df=0.5, total= 6.2min\n",
      "[CV] features__nlp_pipeline__vect__ngram_range=(1, 2), features__nlp_pipeline__vect__max_features=10000, features__nlp_pipeline__tfidf__use_idf=True, clf__estimator__n_estimators=200, features__nlp_pipeline__vect__max_df=0.5 \n",
      "[CV]  features__nlp_pipeline__vect__ngram_range=(1, 2), features__nlp_pipeline__vect__max_features=10000, features__nlp_pipeline__tfidf__use_idf=True, clf__estimator__n_estimators=200, features__nlp_pipeline__vect__max_df=0.5, total= 6.2min\n",
      "[CV] features__nlp_pipeline__vect__ngram_range=(1, 2), features__nlp_pipeline__vect__max_features=10000, features__nlp_pipeline__tfidf__use_idf=True, clf__estimator__n_estimators=200, features__nlp_pipeline__vect__max_df=0.5 \n",
      "[CV]  features__nlp_pipeline__vect__ngram_range=(1, 2), features__nlp_pipeline__vect__max_features=10000, features__nlp_pipeline__tfidf__use_idf=True, clf__estimator__n_estimators=200, features__nlp_pipeline__vect__max_df=0.5, total= 6.2min\n",
      "[CV] features__nlp_pipeline__vect__ngram_range=(1, 1), features__nlp_pipeline__vect__max_features=None, features__nlp_pipeline__tfidf__use_idf=True, clf__estimator__n_estimators=200, features__nlp_pipeline__vect__max_df=0.75 \n",
      "[CV]  features__nlp_pipeline__vect__ngram_range=(1, 1), features__nlp_pipeline__vect__max_features=None, features__nlp_pipeline__tfidf__use_idf=True, clf__estimator__n_estimators=200, features__nlp_pipeline__vect__max_df=0.75, total= 5.5min\n",
      "[CV] features__nlp_pipeline__vect__ngram_range=(1, 1), features__nlp_pipeline__vect__max_features=None, features__nlp_pipeline__tfidf__use_idf=True, clf__estimator__n_estimators=200, features__nlp_pipeline__vect__max_df=0.75 \n"
     ]
    },
    {
     "name": "stdout",
     "output_type": "stream",
     "text": [
      "[CV]  features__nlp_pipeline__vect__ngram_range=(1, 1), features__nlp_pipeline__vect__max_features=None, features__nlp_pipeline__tfidf__use_idf=True, clf__estimator__n_estimators=200, features__nlp_pipeline__vect__max_df=0.75, total= 5.5min\n",
      "[CV] features__nlp_pipeline__vect__ngram_range=(1, 1), features__nlp_pipeline__vect__max_features=None, features__nlp_pipeline__tfidf__use_idf=True, clf__estimator__n_estimators=200, features__nlp_pipeline__vect__max_df=0.75 \n",
      "[CV]  features__nlp_pipeline__vect__ngram_range=(1, 1), features__nlp_pipeline__vect__max_features=None, features__nlp_pipeline__tfidf__use_idf=True, clf__estimator__n_estimators=200, features__nlp_pipeline__vect__max_df=0.75, total= 5.8min\n",
      "[CV] features__nlp_pipeline__vect__ngram_range=(1, 2), features__nlp_pipeline__vect__max_features=None, features__nlp_pipeline__tfidf__use_idf=True, clf__estimator__n_estimators=200, features__nlp_pipeline__vect__max_df=0.75 \n",
      "[CV]  features__nlp_pipeline__vect__ngram_range=(1, 2), features__nlp_pipeline__vect__max_features=None, features__nlp_pipeline__tfidf__use_idf=True, clf__estimator__n_estimators=200, features__nlp_pipeline__vect__max_df=0.75, total=14.2min\n",
      "[CV] features__nlp_pipeline__vect__ngram_range=(1, 2), features__nlp_pipeline__vect__max_features=None, features__nlp_pipeline__tfidf__use_idf=True, clf__estimator__n_estimators=200, features__nlp_pipeline__vect__max_df=0.75 \n",
      "[CV]  features__nlp_pipeline__vect__ngram_range=(1, 2), features__nlp_pipeline__vect__max_features=None, features__nlp_pipeline__tfidf__use_idf=True, clf__estimator__n_estimators=200, features__nlp_pipeline__vect__max_df=0.75, total=14.2min\n",
      "[CV] features__nlp_pipeline__vect__ngram_range=(1, 2), features__nlp_pipeline__vect__max_features=None, features__nlp_pipeline__tfidf__use_idf=True, clf__estimator__n_estimators=200, features__nlp_pipeline__vect__max_df=0.75 \n",
      "[CV]  features__nlp_pipeline__vect__ngram_range=(1, 2), features__nlp_pipeline__vect__max_features=None, features__nlp_pipeline__tfidf__use_idf=True, clf__estimator__n_estimators=200, features__nlp_pipeline__vect__max_df=0.75, total=14.4min\n",
      "[CV] features__nlp_pipeline__vect__ngram_range=(1, 1), features__nlp_pipeline__vect__max_features=5000, features__nlp_pipeline__tfidf__use_idf=True, clf__estimator__n_estimators=200, features__nlp_pipeline__vect__max_df=0.75 \n",
      "[CV]  features__nlp_pipeline__vect__ngram_range=(1, 1), features__nlp_pipeline__vect__max_features=5000, features__nlp_pipeline__tfidf__use_idf=True, clf__estimator__n_estimators=200, features__nlp_pipeline__vect__max_df=0.75, total= 4.6min\n",
      "[CV] features__nlp_pipeline__vect__ngram_range=(1, 1), features__nlp_pipeline__vect__max_features=5000, features__nlp_pipeline__tfidf__use_idf=True, clf__estimator__n_estimators=200, features__nlp_pipeline__vect__max_df=0.75 \n",
      "[CV]  features__nlp_pipeline__vect__ngram_range=(1, 1), features__nlp_pipeline__vect__max_features=5000, features__nlp_pipeline__tfidf__use_idf=True, clf__estimator__n_estimators=200, features__nlp_pipeline__vect__max_df=0.75, total= 4.6min\n",
      "[CV] features__nlp_pipeline__vect__ngram_range=(1, 1), features__nlp_pipeline__vect__max_features=5000, features__nlp_pipeline__tfidf__use_idf=True, clf__estimator__n_estimators=200, features__nlp_pipeline__vect__max_df=0.75 \n",
      "[CV]  features__nlp_pipeline__vect__ngram_range=(1, 1), features__nlp_pipeline__vect__max_features=5000, features__nlp_pipeline__tfidf__use_idf=True, clf__estimator__n_estimators=200, features__nlp_pipeline__vect__max_df=0.75, total= 4.6min\n",
      "[CV] features__nlp_pipeline__vect__ngram_range=(1, 2), features__nlp_pipeline__vect__max_features=5000, features__nlp_pipeline__tfidf__use_idf=True, clf__estimator__n_estimators=200, features__nlp_pipeline__vect__max_df=0.75 \n",
      "[CV]  features__nlp_pipeline__vect__ngram_range=(1, 2), features__nlp_pipeline__vect__max_features=5000, features__nlp_pipeline__tfidf__use_idf=True, clf__estimator__n_estimators=200, features__nlp_pipeline__vect__max_df=0.75, total= 5.8min\n",
      "[CV] features__nlp_pipeline__vect__ngram_range=(1, 2), features__nlp_pipeline__vect__max_features=5000, features__nlp_pipeline__tfidf__use_idf=True, clf__estimator__n_estimators=200, features__nlp_pipeline__vect__max_df=0.75 \n",
      "[CV]  features__nlp_pipeline__vect__ngram_range=(1, 2), features__nlp_pipeline__vect__max_features=5000, features__nlp_pipeline__tfidf__use_idf=True, clf__estimator__n_estimators=200, features__nlp_pipeline__vect__max_df=0.75, total= 5.8min\n",
      "[CV] features__nlp_pipeline__vect__ngram_range=(1, 2), features__nlp_pipeline__vect__max_features=5000, features__nlp_pipeline__tfidf__use_idf=True, clf__estimator__n_estimators=200, features__nlp_pipeline__vect__max_df=0.75 \n",
      "[CV]  features__nlp_pipeline__vect__ngram_range=(1, 2), features__nlp_pipeline__vect__max_features=5000, features__nlp_pipeline__tfidf__use_idf=True, clf__estimator__n_estimators=200, features__nlp_pipeline__vect__max_df=0.75, total= 5.8min\n",
      "[CV] features__nlp_pipeline__vect__ngram_range=(1, 1), features__nlp_pipeline__vect__max_features=10000, features__nlp_pipeline__tfidf__use_idf=True, clf__estimator__n_estimators=200, features__nlp_pipeline__vect__max_df=0.75 \n",
      "[CV]  features__nlp_pipeline__vect__ngram_range=(1, 1), features__nlp_pipeline__vect__max_features=10000, features__nlp_pipeline__tfidf__use_idf=True, clf__estimator__n_estimators=200, features__nlp_pipeline__vect__max_df=0.75, total= 4.9min\n",
      "[CV] features__nlp_pipeline__vect__ngram_range=(1, 1), features__nlp_pipeline__vect__max_features=10000, features__nlp_pipeline__tfidf__use_idf=True, clf__estimator__n_estimators=200, features__nlp_pipeline__vect__max_df=0.75 \n",
      "[CV]  features__nlp_pipeline__vect__ngram_range=(1, 1), features__nlp_pipeline__vect__max_features=10000, features__nlp_pipeline__tfidf__use_idf=True, clf__estimator__n_estimators=200, features__nlp_pipeline__vect__max_df=0.75, total= 4.9min\n",
      "[CV] features__nlp_pipeline__vect__ngram_range=(1, 1), features__nlp_pipeline__vect__max_features=10000, features__nlp_pipeline__tfidf__use_idf=True, clf__estimator__n_estimators=200, features__nlp_pipeline__vect__max_df=0.75 \n",
      "[CV]  features__nlp_pipeline__vect__ngram_range=(1, 1), features__nlp_pipeline__vect__max_features=10000, features__nlp_pipeline__tfidf__use_idf=True, clf__estimator__n_estimators=200, features__nlp_pipeline__vect__max_df=0.75, total= 4.9min\n",
      "[CV] features__nlp_pipeline__vect__ngram_range=(1, 2), features__nlp_pipeline__vect__max_features=10000, features__nlp_pipeline__tfidf__use_idf=True, clf__estimator__n_estimators=200, features__nlp_pipeline__vect__max_df=0.75 \n",
      "[CV]  features__nlp_pipeline__vect__ngram_range=(1, 2), features__nlp_pipeline__vect__max_features=10000, features__nlp_pipeline__tfidf__use_idf=True, clf__estimator__n_estimators=200, features__nlp_pipeline__vect__max_df=0.75, total= 6.5min\n",
      "[CV] features__nlp_pipeline__vect__ngram_range=(1, 2), features__nlp_pipeline__vect__max_features=10000, features__nlp_pipeline__tfidf__use_idf=True, clf__estimator__n_estimators=200, features__nlp_pipeline__vect__max_df=0.75 \n",
      "[CV]  features__nlp_pipeline__vect__ngram_range=(1, 2), features__nlp_pipeline__vect__max_features=10000, features__nlp_pipeline__tfidf__use_idf=True, clf__estimator__n_estimators=200, features__nlp_pipeline__vect__max_df=0.75, total= 6.4min\n",
      "[CV] features__nlp_pipeline__vect__ngram_range=(1, 2), features__nlp_pipeline__vect__max_features=10000, features__nlp_pipeline__tfidf__use_idf=True, clf__estimator__n_estimators=200, features__nlp_pipeline__vect__max_df=0.75 \n",
      "[CV]  features__nlp_pipeline__vect__ngram_range=(1, 2), features__nlp_pipeline__vect__max_features=10000, features__nlp_pipeline__tfidf__use_idf=True, clf__estimator__n_estimators=200, features__nlp_pipeline__vect__max_df=0.75, total= 6.5min\n",
      "[CV] features__nlp_pipeline__vect__ngram_range=(1, 1), features__nlp_pipeline__vect__max_features=None, features__nlp_pipeline__tfidf__use_idf=True, clf__estimator__n_estimators=200, features__nlp_pipeline__vect__max_df=1.0 \n",
      "[CV]  features__nlp_pipeline__vect__ngram_range=(1, 1), features__nlp_pipeline__vect__max_features=None, features__nlp_pipeline__tfidf__use_idf=True, clf__estimator__n_estimators=200, features__nlp_pipeline__vect__max_df=1.0, total= 5.7min\n",
      "[CV] features__nlp_pipeline__vect__ngram_range=(1, 1), features__nlp_pipeline__vect__max_features=None, features__nlp_pipeline__tfidf__use_idf=True, clf__estimator__n_estimators=200, features__nlp_pipeline__vect__max_df=1.0 \n"
     ]
    },
    {
     "name": "stdout",
     "output_type": "stream",
     "text": [
      "[CV]  features__nlp_pipeline__vect__ngram_range=(1, 1), features__nlp_pipeline__vect__max_features=None, features__nlp_pipeline__tfidf__use_idf=True, clf__estimator__n_estimators=200, features__nlp_pipeline__vect__max_df=1.0, total= 5.7min\n",
      "[CV] features__nlp_pipeline__vect__ngram_range=(1, 1), features__nlp_pipeline__vect__max_features=None, features__nlp_pipeline__tfidf__use_idf=True, clf__estimator__n_estimators=200, features__nlp_pipeline__vect__max_df=1.0 \n",
      "[CV]  features__nlp_pipeline__vect__ngram_range=(1, 1), features__nlp_pipeline__vect__max_features=None, features__nlp_pipeline__tfidf__use_idf=True, clf__estimator__n_estimators=200, features__nlp_pipeline__vect__max_df=1.0, total= 5.7min\n",
      "[CV] features__nlp_pipeline__vect__ngram_range=(1, 2), features__nlp_pipeline__vect__max_features=None, features__nlp_pipeline__tfidf__use_idf=True, clf__estimator__n_estimators=200, features__nlp_pipeline__vect__max_df=1.0 \n",
      "[CV]  features__nlp_pipeline__vect__ngram_range=(1, 2), features__nlp_pipeline__vect__max_features=None, features__nlp_pipeline__tfidf__use_idf=True, clf__estimator__n_estimators=200, features__nlp_pipeline__vect__max_df=1.0, total=14.7min\n",
      "[CV] features__nlp_pipeline__vect__ngram_range=(1, 2), features__nlp_pipeline__vect__max_features=None, features__nlp_pipeline__tfidf__use_idf=True, clf__estimator__n_estimators=200, features__nlp_pipeline__vect__max_df=1.0 \n",
      "[CV]  features__nlp_pipeline__vect__ngram_range=(1, 2), features__nlp_pipeline__vect__max_features=None, features__nlp_pipeline__tfidf__use_idf=True, clf__estimator__n_estimators=200, features__nlp_pipeline__vect__max_df=1.0, total=15.1min\n",
      "[CV] features__nlp_pipeline__vect__ngram_range=(1, 2), features__nlp_pipeline__vect__max_features=None, features__nlp_pipeline__tfidf__use_idf=True, clf__estimator__n_estimators=200, features__nlp_pipeline__vect__max_df=1.0 \n",
      "[CV]  features__nlp_pipeline__vect__ngram_range=(1, 2), features__nlp_pipeline__vect__max_features=None, features__nlp_pipeline__tfidf__use_idf=True, clf__estimator__n_estimators=200, features__nlp_pipeline__vect__max_df=1.0, total=14.8min\n",
      "[CV] features__nlp_pipeline__vect__ngram_range=(1, 1), features__nlp_pipeline__vect__max_features=5000, features__nlp_pipeline__tfidf__use_idf=True, clf__estimator__n_estimators=200, features__nlp_pipeline__vect__max_df=1.0 \n",
      "[CV]  features__nlp_pipeline__vect__ngram_range=(1, 1), features__nlp_pipeline__vect__max_features=5000, features__nlp_pipeline__tfidf__use_idf=True, clf__estimator__n_estimators=200, features__nlp_pipeline__vect__max_df=1.0, total= 4.8min\n",
      "[CV] features__nlp_pipeline__vect__ngram_range=(1, 1), features__nlp_pipeline__vect__max_features=5000, features__nlp_pipeline__tfidf__use_idf=True, clf__estimator__n_estimators=200, features__nlp_pipeline__vect__max_df=1.0 \n",
      "[CV]  features__nlp_pipeline__vect__ngram_range=(1, 1), features__nlp_pipeline__vect__max_features=5000, features__nlp_pipeline__tfidf__use_idf=True, clf__estimator__n_estimators=200, features__nlp_pipeline__vect__max_df=1.0, total= 4.8min\n",
      "[CV] features__nlp_pipeline__vect__ngram_range=(1, 1), features__nlp_pipeline__vect__max_features=5000, features__nlp_pipeline__tfidf__use_idf=True, clf__estimator__n_estimators=200, features__nlp_pipeline__vect__max_df=1.0 \n",
      "[CV]  features__nlp_pipeline__vect__ngram_range=(1, 1), features__nlp_pipeline__vect__max_features=5000, features__nlp_pipeline__tfidf__use_idf=True, clf__estimator__n_estimators=200, features__nlp_pipeline__vect__max_df=1.0, total= 4.8min\n",
      "[CV] features__nlp_pipeline__vect__ngram_range=(1, 2), features__nlp_pipeline__vect__max_features=5000, features__nlp_pipeline__tfidf__use_idf=True, clf__estimator__n_estimators=200, features__nlp_pipeline__vect__max_df=1.0 \n",
      "[CV]  features__nlp_pipeline__vect__ngram_range=(1, 2), features__nlp_pipeline__vect__max_features=5000, features__nlp_pipeline__tfidf__use_idf=True, clf__estimator__n_estimators=200, features__nlp_pipeline__vect__max_df=1.0, total= 6.0min\n",
      "[CV] features__nlp_pipeline__vect__ngram_range=(1, 2), features__nlp_pipeline__vect__max_features=5000, features__nlp_pipeline__tfidf__use_idf=True, clf__estimator__n_estimators=200, features__nlp_pipeline__vect__max_df=1.0 \n",
      "[CV]  features__nlp_pipeline__vect__ngram_range=(1, 2), features__nlp_pipeline__vect__max_features=5000, features__nlp_pipeline__tfidf__use_idf=True, clf__estimator__n_estimators=200, features__nlp_pipeline__vect__max_df=1.0, total= 6.0min\n",
      "[CV] features__nlp_pipeline__vect__ngram_range=(1, 2), features__nlp_pipeline__vect__max_features=5000, features__nlp_pipeline__tfidf__use_idf=True, clf__estimator__n_estimators=200, features__nlp_pipeline__vect__max_df=1.0 \n",
      "[CV]  features__nlp_pipeline__vect__ngram_range=(1, 2), features__nlp_pipeline__vect__max_features=5000, features__nlp_pipeline__tfidf__use_idf=True, clf__estimator__n_estimators=200, features__nlp_pipeline__vect__max_df=1.0, total= 6.0min\n",
      "[CV] features__nlp_pipeline__vect__ngram_range=(1, 1), features__nlp_pipeline__vect__max_features=10000, features__nlp_pipeline__tfidf__use_idf=True, clf__estimator__n_estimators=200, features__nlp_pipeline__vect__max_df=1.0 \n",
      "[CV]  features__nlp_pipeline__vect__ngram_range=(1, 1), features__nlp_pipeline__vect__max_features=10000, features__nlp_pipeline__tfidf__use_idf=True, clf__estimator__n_estimators=200, features__nlp_pipeline__vect__max_df=1.0, total= 5.1min\n",
      "[CV] features__nlp_pipeline__vect__ngram_range=(1, 1), features__nlp_pipeline__vect__max_features=10000, features__nlp_pipeline__tfidf__use_idf=True, clf__estimator__n_estimators=200, features__nlp_pipeline__vect__max_df=1.0 \n",
      "[CV]  features__nlp_pipeline__vect__ngram_range=(1, 1), features__nlp_pipeline__vect__max_features=10000, features__nlp_pipeline__tfidf__use_idf=True, clf__estimator__n_estimators=200, features__nlp_pipeline__vect__max_df=1.0, total= 5.1min\n",
      "[CV] features__nlp_pipeline__vect__ngram_range=(1, 1), features__nlp_pipeline__vect__max_features=10000, features__nlp_pipeline__tfidf__use_idf=True, clf__estimator__n_estimators=200, features__nlp_pipeline__vect__max_df=1.0 \n",
      "[CV]  features__nlp_pipeline__vect__ngram_range=(1, 1), features__nlp_pipeline__vect__max_features=10000, features__nlp_pipeline__tfidf__use_idf=True, clf__estimator__n_estimators=200, features__nlp_pipeline__vect__max_df=1.0, total= 5.2min\n",
      "[CV] features__nlp_pipeline__vect__ngram_range=(1, 2), features__nlp_pipeline__vect__max_features=10000, features__nlp_pipeline__tfidf__use_idf=True, clf__estimator__n_estimators=200, features__nlp_pipeline__vect__max_df=1.0 \n",
      "[CV]  features__nlp_pipeline__vect__ngram_range=(1, 2), features__nlp_pipeline__vect__max_features=10000, features__nlp_pipeline__tfidf__use_idf=True, clf__estimator__n_estimators=200, features__nlp_pipeline__vect__max_df=1.0, total= 6.7min\n",
      "[CV] features__nlp_pipeline__vect__ngram_range=(1, 2), features__nlp_pipeline__vect__max_features=10000, features__nlp_pipeline__tfidf__use_idf=True, clf__estimator__n_estimators=200, features__nlp_pipeline__vect__max_df=1.0 \n",
      "[CV]  features__nlp_pipeline__vect__ngram_range=(1, 2), features__nlp_pipeline__vect__max_features=10000, features__nlp_pipeline__tfidf__use_idf=True, clf__estimator__n_estimators=200, features__nlp_pipeline__vect__max_df=1.0, total= 6.6min\n",
      "[CV] features__nlp_pipeline__vect__ngram_range=(1, 2), features__nlp_pipeline__vect__max_features=10000, features__nlp_pipeline__tfidf__use_idf=True, clf__estimator__n_estimators=200, features__nlp_pipeline__vect__max_df=1.0 \n",
      "[CV]  features__nlp_pipeline__vect__ngram_range=(1, 2), features__nlp_pipeline__vect__max_features=10000, features__nlp_pipeline__tfidf__use_idf=True, clf__estimator__n_estimators=200, features__nlp_pipeline__vect__max_df=1.0, total= 6.7min\n",
      "[CV] features__nlp_pipeline__vect__ngram_range=(1, 1), features__nlp_pipeline__vect__max_features=None, features__nlp_pipeline__tfidf__use_idf=False, clf__estimator__n_estimators=200, features__nlp_pipeline__vect__max_df=0.5 \n",
      "[CV]  features__nlp_pipeline__vect__ngram_range=(1, 1), features__nlp_pipeline__vect__max_features=None, features__nlp_pipeline__tfidf__use_idf=False, clf__estimator__n_estimators=200, features__nlp_pipeline__vect__max_df=0.5, total= 4.4min\n",
      "[CV] features__nlp_pipeline__vect__ngram_range=(1, 1), features__nlp_pipeline__vect__max_features=None, features__nlp_pipeline__tfidf__use_idf=False, clf__estimator__n_estimators=200, features__nlp_pipeline__vect__max_df=0.5 \n"
     ]
    },
    {
     "name": "stdout",
     "output_type": "stream",
     "text": [
      "[CV]  features__nlp_pipeline__vect__ngram_range=(1, 1), features__nlp_pipeline__vect__max_features=None, features__nlp_pipeline__tfidf__use_idf=False, clf__estimator__n_estimators=200, features__nlp_pipeline__vect__max_df=0.5, total= 4.4min\n",
      "[CV] features__nlp_pipeline__vect__ngram_range=(1, 1), features__nlp_pipeline__vect__max_features=None, features__nlp_pipeline__tfidf__use_idf=False, clf__estimator__n_estimators=200, features__nlp_pipeline__vect__max_df=0.5 \n",
      "[CV]  features__nlp_pipeline__vect__ngram_range=(1, 1), features__nlp_pipeline__vect__max_features=None, features__nlp_pipeline__tfidf__use_idf=False, clf__estimator__n_estimators=200, features__nlp_pipeline__vect__max_df=0.5, total= 4.4min\n",
      "[CV] features__nlp_pipeline__vect__ngram_range=(1, 2), features__nlp_pipeline__vect__max_features=None, features__nlp_pipeline__tfidf__use_idf=False, clf__estimator__n_estimators=200, features__nlp_pipeline__vect__max_df=0.5 \n",
      "[CV]  features__nlp_pipeline__vect__ngram_range=(1, 2), features__nlp_pipeline__vect__max_features=None, features__nlp_pipeline__tfidf__use_idf=False, clf__estimator__n_estimators=200, features__nlp_pipeline__vect__max_df=0.5, total=13.3min\n",
      "[CV] features__nlp_pipeline__vect__ngram_range=(1, 2), features__nlp_pipeline__vect__max_features=None, features__nlp_pipeline__tfidf__use_idf=False, clf__estimator__n_estimators=200, features__nlp_pipeline__vect__max_df=0.5 \n",
      "[CV]  features__nlp_pipeline__vect__ngram_range=(1, 2), features__nlp_pipeline__vect__max_features=None, features__nlp_pipeline__tfidf__use_idf=False, clf__estimator__n_estimators=200, features__nlp_pipeline__vect__max_df=0.5, total=13.3min\n",
      "[CV] features__nlp_pipeline__vect__ngram_range=(1, 2), features__nlp_pipeline__vect__max_features=None, features__nlp_pipeline__tfidf__use_idf=False, clf__estimator__n_estimators=200, features__nlp_pipeline__vect__max_df=0.5 \n",
      "[CV]  features__nlp_pipeline__vect__ngram_range=(1, 2), features__nlp_pipeline__vect__max_features=None, features__nlp_pipeline__tfidf__use_idf=False, clf__estimator__n_estimators=200, features__nlp_pipeline__vect__max_df=0.5, total=13.3min\n",
      "[CV] features__nlp_pipeline__vect__ngram_range=(1, 1), features__nlp_pipeline__vect__max_features=5000, features__nlp_pipeline__tfidf__use_idf=False, clf__estimator__n_estimators=200, features__nlp_pipeline__vect__max_df=0.5 \n",
      "[CV]  features__nlp_pipeline__vect__ngram_range=(1, 1), features__nlp_pipeline__vect__max_features=5000, features__nlp_pipeline__tfidf__use_idf=False, clf__estimator__n_estimators=200, features__nlp_pipeline__vect__max_df=0.5, total= 3.5min\n",
      "[CV] features__nlp_pipeline__vect__ngram_range=(1, 1), features__nlp_pipeline__vect__max_features=5000, features__nlp_pipeline__tfidf__use_idf=False, clf__estimator__n_estimators=200, features__nlp_pipeline__vect__max_df=0.5 \n",
      "[CV]  features__nlp_pipeline__vect__ngram_range=(1, 1), features__nlp_pipeline__vect__max_features=5000, features__nlp_pipeline__tfidf__use_idf=False, clf__estimator__n_estimators=200, features__nlp_pipeline__vect__max_df=0.5, total= 3.5min\n",
      "[CV] features__nlp_pipeline__vect__ngram_range=(1, 1), features__nlp_pipeline__vect__max_features=5000, features__nlp_pipeline__tfidf__use_idf=False, clf__estimator__n_estimators=200, features__nlp_pipeline__vect__max_df=0.5 \n",
      "[CV]  features__nlp_pipeline__vect__ngram_range=(1, 1), features__nlp_pipeline__vect__max_features=5000, features__nlp_pipeline__tfidf__use_idf=False, clf__estimator__n_estimators=200, features__nlp_pipeline__vect__max_df=0.5, total= 3.5min\n",
      "[CV] features__nlp_pipeline__vect__ngram_range=(1, 2), features__nlp_pipeline__vect__max_features=5000, features__nlp_pipeline__tfidf__use_idf=False, clf__estimator__n_estimators=200, features__nlp_pipeline__vect__max_df=0.5 \n",
      "[CV]  features__nlp_pipeline__vect__ngram_range=(1, 2), features__nlp_pipeline__vect__max_features=5000, features__nlp_pipeline__tfidf__use_idf=False, clf__estimator__n_estimators=200, features__nlp_pipeline__vect__max_df=0.5, total= 4.6min\n",
      "[CV] features__nlp_pipeline__vect__ngram_range=(1, 2), features__nlp_pipeline__vect__max_features=5000, features__nlp_pipeline__tfidf__use_idf=False, clf__estimator__n_estimators=200, features__nlp_pipeline__vect__max_df=0.5 \n",
      "[CV]  features__nlp_pipeline__vect__ngram_range=(1, 2), features__nlp_pipeline__vect__max_features=5000, features__nlp_pipeline__tfidf__use_idf=False, clf__estimator__n_estimators=200, features__nlp_pipeline__vect__max_df=0.5, total= 4.5min\n",
      "[CV] features__nlp_pipeline__vect__ngram_range=(1, 2), features__nlp_pipeline__vect__max_features=5000, features__nlp_pipeline__tfidf__use_idf=False, clf__estimator__n_estimators=200, features__nlp_pipeline__vect__max_df=0.5 \n",
      "[CV]  features__nlp_pipeline__vect__ngram_range=(1, 2), features__nlp_pipeline__vect__max_features=5000, features__nlp_pipeline__tfidf__use_idf=False, clf__estimator__n_estimators=200, features__nlp_pipeline__vect__max_df=0.5, total= 4.6min\n",
      "[CV] features__nlp_pipeline__vect__ngram_range=(1, 1), features__nlp_pipeline__vect__max_features=10000, features__nlp_pipeline__tfidf__use_idf=False, clf__estimator__n_estimators=200, features__nlp_pipeline__vect__max_df=0.5 \n",
      "[CV]  features__nlp_pipeline__vect__ngram_range=(1, 1), features__nlp_pipeline__vect__max_features=10000, features__nlp_pipeline__tfidf__use_idf=False, clf__estimator__n_estimators=200, features__nlp_pipeline__vect__max_df=0.5, total= 3.8min\n",
      "[CV] features__nlp_pipeline__vect__ngram_range=(1, 1), features__nlp_pipeline__vect__max_features=10000, features__nlp_pipeline__tfidf__use_idf=False, clf__estimator__n_estimators=200, features__nlp_pipeline__vect__max_df=0.5 \n",
      "[CV]  features__nlp_pipeline__vect__ngram_range=(1, 1), features__nlp_pipeline__vect__max_features=10000, features__nlp_pipeline__tfidf__use_idf=False, clf__estimator__n_estimators=200, features__nlp_pipeline__vect__max_df=0.5, total= 3.8min\n",
      "[CV] features__nlp_pipeline__vect__ngram_range=(1, 1), features__nlp_pipeline__vect__max_features=10000, features__nlp_pipeline__tfidf__use_idf=False, clf__estimator__n_estimators=200, features__nlp_pipeline__vect__max_df=0.5 \n",
      "[CV]  features__nlp_pipeline__vect__ngram_range=(1, 1), features__nlp_pipeline__vect__max_features=10000, features__nlp_pipeline__tfidf__use_idf=False, clf__estimator__n_estimators=200, features__nlp_pipeline__vect__max_df=0.5, total= 3.8min\n",
      "[CV] features__nlp_pipeline__vect__ngram_range=(1, 2), features__nlp_pipeline__vect__max_features=10000, features__nlp_pipeline__tfidf__use_idf=False, clf__estimator__n_estimators=200, features__nlp_pipeline__vect__max_df=0.5 \n",
      "[CV]  features__nlp_pipeline__vect__ngram_range=(1, 2), features__nlp_pipeline__vect__max_features=10000, features__nlp_pipeline__tfidf__use_idf=False, clf__estimator__n_estimators=200, features__nlp_pipeline__vect__max_df=0.5, total= 5.2min\n",
      "[CV] features__nlp_pipeline__vect__ngram_range=(1, 2), features__nlp_pipeline__vect__max_features=10000, features__nlp_pipeline__tfidf__use_idf=False, clf__estimator__n_estimators=200, features__nlp_pipeline__vect__max_df=0.5 \n",
      "[CV]  features__nlp_pipeline__vect__ngram_range=(1, 2), features__nlp_pipeline__vect__max_features=10000, features__nlp_pipeline__tfidf__use_idf=False, clf__estimator__n_estimators=200, features__nlp_pipeline__vect__max_df=0.5, total= 5.2min\n",
      "[CV] features__nlp_pipeline__vect__ngram_range=(1, 2), features__nlp_pipeline__vect__max_features=10000, features__nlp_pipeline__tfidf__use_idf=False, clf__estimator__n_estimators=200, features__nlp_pipeline__vect__max_df=0.5 \n",
      "[CV]  features__nlp_pipeline__vect__ngram_range=(1, 2), features__nlp_pipeline__vect__max_features=10000, features__nlp_pipeline__tfidf__use_idf=False, clf__estimator__n_estimators=200, features__nlp_pipeline__vect__max_df=0.5, total= 5.3min\n",
      "[CV] features__nlp_pipeline__vect__ngram_range=(1, 1), features__nlp_pipeline__vect__max_features=None, features__nlp_pipeline__tfidf__use_idf=False, clf__estimator__n_estimators=200, features__nlp_pipeline__vect__max_df=0.75 \n",
      "[CV]  features__nlp_pipeline__vect__ngram_range=(1, 1), features__nlp_pipeline__vect__max_features=None, features__nlp_pipeline__tfidf__use_idf=False, clf__estimator__n_estimators=200, features__nlp_pipeline__vect__max_df=0.75, total= 4.6min\n",
      "[CV] features__nlp_pipeline__vect__ngram_range=(1, 1), features__nlp_pipeline__vect__max_features=None, features__nlp_pipeline__tfidf__use_idf=False, clf__estimator__n_estimators=200, features__nlp_pipeline__vect__max_df=0.75 \n"
     ]
    },
    {
     "name": "stdout",
     "output_type": "stream",
     "text": [
      "[CV]  features__nlp_pipeline__vect__ngram_range=(1, 1), features__nlp_pipeline__vect__max_features=None, features__nlp_pipeline__tfidf__use_idf=False, clf__estimator__n_estimators=200, features__nlp_pipeline__vect__max_df=0.75, total= 4.7min\n",
      "[CV] features__nlp_pipeline__vect__ngram_range=(1, 1), features__nlp_pipeline__vect__max_features=None, features__nlp_pipeline__tfidf__use_idf=False, clf__estimator__n_estimators=200, features__nlp_pipeline__vect__max_df=0.75 \n",
      "[CV]  features__nlp_pipeline__vect__ngram_range=(1, 1), features__nlp_pipeline__vect__max_features=None, features__nlp_pipeline__tfidf__use_idf=False, clf__estimator__n_estimators=200, features__nlp_pipeline__vect__max_df=0.75, total= 4.7min\n",
      "[CV] features__nlp_pipeline__vect__ngram_range=(1, 2), features__nlp_pipeline__vect__max_features=None, features__nlp_pipeline__tfidf__use_idf=False, clf__estimator__n_estimators=200, features__nlp_pipeline__vect__max_df=0.75 \n",
      "[CV]  features__nlp_pipeline__vect__ngram_range=(1, 2), features__nlp_pipeline__vect__max_features=None, features__nlp_pipeline__tfidf__use_idf=False, clf__estimator__n_estimators=200, features__nlp_pipeline__vect__max_df=0.75, total=13.4min\n",
      "[CV] features__nlp_pipeline__vect__ngram_range=(1, 2), features__nlp_pipeline__vect__max_features=None, features__nlp_pipeline__tfidf__use_idf=False, clf__estimator__n_estimators=200, features__nlp_pipeline__vect__max_df=0.75 \n",
      "[CV]  features__nlp_pipeline__vect__ngram_range=(1, 2), features__nlp_pipeline__vect__max_features=None, features__nlp_pipeline__tfidf__use_idf=False, clf__estimator__n_estimators=200, features__nlp_pipeline__vect__max_df=0.75, total=13.4min\n",
      "[CV] features__nlp_pipeline__vect__ngram_range=(1, 2), features__nlp_pipeline__vect__max_features=None, features__nlp_pipeline__tfidf__use_idf=False, clf__estimator__n_estimators=200, features__nlp_pipeline__vect__max_df=0.75 \n",
      "[CV]  features__nlp_pipeline__vect__ngram_range=(1, 2), features__nlp_pipeline__vect__max_features=None, features__nlp_pipeline__tfidf__use_idf=False, clf__estimator__n_estimators=200, features__nlp_pipeline__vect__max_df=0.75, total=13.5min\n",
      "[CV] features__nlp_pipeline__vect__ngram_range=(1, 1), features__nlp_pipeline__vect__max_features=5000, features__nlp_pipeline__tfidf__use_idf=False, clf__estimator__n_estimators=200, features__nlp_pipeline__vect__max_df=0.75 \n",
      "[CV]  features__nlp_pipeline__vect__ngram_range=(1, 1), features__nlp_pipeline__vect__max_features=5000, features__nlp_pipeline__tfidf__use_idf=False, clf__estimator__n_estimators=200, features__nlp_pipeline__vect__max_df=0.75, total= 3.7min\n",
      "[CV] features__nlp_pipeline__vect__ngram_range=(1, 1), features__nlp_pipeline__vect__max_features=5000, features__nlp_pipeline__tfidf__use_idf=False, clf__estimator__n_estimators=200, features__nlp_pipeline__vect__max_df=0.75 \n",
      "[CV]  features__nlp_pipeline__vect__ngram_range=(1, 1), features__nlp_pipeline__vect__max_features=5000, features__nlp_pipeline__tfidf__use_idf=False, clf__estimator__n_estimators=200, features__nlp_pipeline__vect__max_df=0.75, total= 3.7min\n",
      "[CV] features__nlp_pipeline__vect__ngram_range=(1, 1), features__nlp_pipeline__vect__max_features=5000, features__nlp_pipeline__tfidf__use_idf=False, clf__estimator__n_estimators=200, features__nlp_pipeline__vect__max_df=0.75 \n",
      "[CV]  features__nlp_pipeline__vect__ngram_range=(1, 1), features__nlp_pipeline__vect__max_features=5000, features__nlp_pipeline__tfidf__use_idf=False, clf__estimator__n_estimators=200, features__nlp_pipeline__vect__max_df=0.75, total= 3.7min\n",
      "[CV] features__nlp_pipeline__vect__ngram_range=(1, 2), features__nlp_pipeline__vect__max_features=5000, features__nlp_pipeline__tfidf__use_idf=False, clf__estimator__n_estimators=200, features__nlp_pipeline__vect__max_df=0.75 \n",
      "[CV]  features__nlp_pipeline__vect__ngram_range=(1, 2), features__nlp_pipeline__vect__max_features=5000, features__nlp_pipeline__tfidf__use_idf=False, clf__estimator__n_estimators=200, features__nlp_pipeline__vect__max_df=0.75, total= 4.8min\n",
      "[CV] features__nlp_pipeline__vect__ngram_range=(1, 2), features__nlp_pipeline__vect__max_features=5000, features__nlp_pipeline__tfidf__use_idf=False, clf__estimator__n_estimators=200, features__nlp_pipeline__vect__max_df=0.75 \n",
      "[CV]  features__nlp_pipeline__vect__ngram_range=(1, 2), features__nlp_pipeline__vect__max_features=5000, features__nlp_pipeline__tfidf__use_idf=False, clf__estimator__n_estimators=200, features__nlp_pipeline__vect__max_df=0.75, total= 4.8min\n",
      "[CV] features__nlp_pipeline__vect__ngram_range=(1, 2), features__nlp_pipeline__vect__max_features=5000, features__nlp_pipeline__tfidf__use_idf=False, clf__estimator__n_estimators=200, features__nlp_pipeline__vect__max_df=0.75 \n",
      "[CV]  features__nlp_pipeline__vect__ngram_range=(1, 2), features__nlp_pipeline__vect__max_features=5000, features__nlp_pipeline__tfidf__use_idf=False, clf__estimator__n_estimators=200, features__nlp_pipeline__vect__max_df=0.75, total= 4.8min\n",
      "[CV] features__nlp_pipeline__vect__ngram_range=(1, 1), features__nlp_pipeline__vect__max_features=10000, features__nlp_pipeline__tfidf__use_idf=False, clf__estimator__n_estimators=200, features__nlp_pipeline__vect__max_df=0.75 \n",
      "[CV]  features__nlp_pipeline__vect__ngram_range=(1, 1), features__nlp_pipeline__vect__max_features=10000, features__nlp_pipeline__tfidf__use_idf=False, clf__estimator__n_estimators=200, features__nlp_pipeline__vect__max_df=0.75, total= 4.0min\n",
      "[CV] features__nlp_pipeline__vect__ngram_range=(1, 1), features__nlp_pipeline__vect__max_features=10000, features__nlp_pipeline__tfidf__use_idf=False, clf__estimator__n_estimators=200, features__nlp_pipeline__vect__max_df=0.75 \n",
      "[CV]  features__nlp_pipeline__vect__ngram_range=(1, 1), features__nlp_pipeline__vect__max_features=10000, features__nlp_pipeline__tfidf__use_idf=False, clf__estimator__n_estimators=200, features__nlp_pipeline__vect__max_df=0.75, total= 4.0min\n",
      "[CV] features__nlp_pipeline__vect__ngram_range=(1, 1), features__nlp_pipeline__vect__max_features=10000, features__nlp_pipeline__tfidf__use_idf=False, clf__estimator__n_estimators=200, features__nlp_pipeline__vect__max_df=0.75 \n",
      "[CV]  features__nlp_pipeline__vect__ngram_range=(1, 1), features__nlp_pipeline__vect__max_features=10000, features__nlp_pipeline__tfidf__use_idf=False, clf__estimator__n_estimators=200, features__nlp_pipeline__vect__max_df=0.75, total= 4.0min\n",
      "[CV] features__nlp_pipeline__vect__ngram_range=(1, 2), features__nlp_pipeline__vect__max_features=10000, features__nlp_pipeline__tfidf__use_idf=False, clf__estimator__n_estimators=200, features__nlp_pipeline__vect__max_df=0.75 \n",
      "[CV]  features__nlp_pipeline__vect__ngram_range=(1, 2), features__nlp_pipeline__vect__max_features=10000, features__nlp_pipeline__tfidf__use_idf=False, clf__estimator__n_estimators=200, features__nlp_pipeline__vect__max_df=0.75, total= 5.5min\n",
      "[CV] features__nlp_pipeline__vect__ngram_range=(1, 2), features__nlp_pipeline__vect__max_features=10000, features__nlp_pipeline__tfidf__use_idf=False, clf__estimator__n_estimators=200, features__nlp_pipeline__vect__max_df=0.75 \n",
      "[CV]  features__nlp_pipeline__vect__ngram_range=(1, 2), features__nlp_pipeline__vect__max_features=10000, features__nlp_pipeline__tfidf__use_idf=False, clf__estimator__n_estimators=200, features__nlp_pipeline__vect__max_df=0.75, total= 5.5min\n",
      "[CV] features__nlp_pipeline__vect__ngram_range=(1, 2), features__nlp_pipeline__vect__max_features=10000, features__nlp_pipeline__tfidf__use_idf=False, clf__estimator__n_estimators=200, features__nlp_pipeline__vect__max_df=0.75 \n",
      "[CV]  features__nlp_pipeline__vect__ngram_range=(1, 2), features__nlp_pipeline__vect__max_features=10000, features__nlp_pipeline__tfidf__use_idf=False, clf__estimator__n_estimators=200, features__nlp_pipeline__vect__max_df=0.75, total= 5.5min\n",
      "[CV] features__nlp_pipeline__vect__ngram_range=(1, 1), features__nlp_pipeline__vect__max_features=None, features__nlp_pipeline__tfidf__use_idf=False, clf__estimator__n_estimators=200, features__nlp_pipeline__vect__max_df=1.0 \n",
      "[CV]  features__nlp_pipeline__vect__ngram_range=(1, 1), features__nlp_pipeline__vect__max_features=None, features__nlp_pipeline__tfidf__use_idf=False, clf__estimator__n_estimators=200, features__nlp_pipeline__vect__max_df=1.0, total= 4.8min\n",
      "[CV] features__nlp_pipeline__vect__ngram_range=(1, 1), features__nlp_pipeline__vect__max_features=None, features__nlp_pipeline__tfidf__use_idf=False, clf__estimator__n_estimators=200, features__nlp_pipeline__vect__max_df=1.0 \n"
     ]
    },
    {
     "name": "stdout",
     "output_type": "stream",
     "text": [
      "[CV]  features__nlp_pipeline__vect__ngram_range=(1, 1), features__nlp_pipeline__vect__max_features=None, features__nlp_pipeline__tfidf__use_idf=False, clf__estimator__n_estimators=200, features__nlp_pipeline__vect__max_df=1.0, total= 4.7min\n",
      "[CV] features__nlp_pipeline__vect__ngram_range=(1, 1), features__nlp_pipeline__vect__max_features=None, features__nlp_pipeline__tfidf__use_idf=False, clf__estimator__n_estimators=200, features__nlp_pipeline__vect__max_df=1.0 \n",
      "[CV]  features__nlp_pipeline__vect__ngram_range=(1, 1), features__nlp_pipeline__vect__max_features=None, features__nlp_pipeline__tfidf__use_idf=False, clf__estimator__n_estimators=200, features__nlp_pipeline__vect__max_df=1.0, total= 4.8min\n",
      "[CV] features__nlp_pipeline__vect__ngram_range=(1, 2), features__nlp_pipeline__vect__max_features=None, features__nlp_pipeline__tfidf__use_idf=False, clf__estimator__n_estimators=200, features__nlp_pipeline__vect__max_df=1.0 \n",
      "[CV]  features__nlp_pipeline__vect__ngram_range=(1, 2), features__nlp_pipeline__vect__max_features=None, features__nlp_pipeline__tfidf__use_idf=False, clf__estimator__n_estimators=200, features__nlp_pipeline__vect__max_df=1.0, total=13.4min\n",
      "[CV] features__nlp_pipeline__vect__ngram_range=(1, 2), features__nlp_pipeline__vect__max_features=None, features__nlp_pipeline__tfidf__use_idf=False, clf__estimator__n_estimators=200, features__nlp_pipeline__vect__max_df=1.0 \n",
      "[CV]  features__nlp_pipeline__vect__ngram_range=(1, 2), features__nlp_pipeline__vect__max_features=None, features__nlp_pipeline__tfidf__use_idf=False, clf__estimator__n_estimators=200, features__nlp_pipeline__vect__max_df=1.0, total=13.4min\n",
      "[CV] features__nlp_pipeline__vect__ngram_range=(1, 2), features__nlp_pipeline__vect__max_features=None, features__nlp_pipeline__tfidf__use_idf=False, clf__estimator__n_estimators=200, features__nlp_pipeline__vect__max_df=1.0 \n",
      "[CV]  features__nlp_pipeline__vect__ngram_range=(1, 2), features__nlp_pipeline__vect__max_features=None, features__nlp_pipeline__tfidf__use_idf=False, clf__estimator__n_estimators=200, features__nlp_pipeline__vect__max_df=1.0, total=13.4min\n",
      "[CV] features__nlp_pipeline__vect__ngram_range=(1, 1), features__nlp_pipeline__vect__max_features=5000, features__nlp_pipeline__tfidf__use_idf=False, clf__estimator__n_estimators=200, features__nlp_pipeline__vect__max_df=1.0 \n",
      "[CV]  features__nlp_pipeline__vect__ngram_range=(1, 1), features__nlp_pipeline__vect__max_features=5000, features__nlp_pipeline__tfidf__use_idf=False, clf__estimator__n_estimators=200, features__nlp_pipeline__vect__max_df=1.0, total= 3.8min\n",
      "[CV] features__nlp_pipeline__vect__ngram_range=(1, 1), features__nlp_pipeline__vect__max_features=5000, features__nlp_pipeline__tfidf__use_idf=False, clf__estimator__n_estimators=200, features__nlp_pipeline__vect__max_df=1.0 \n",
      "[CV]  features__nlp_pipeline__vect__ngram_range=(1, 1), features__nlp_pipeline__vect__max_features=5000, features__nlp_pipeline__tfidf__use_idf=False, clf__estimator__n_estimators=200, features__nlp_pipeline__vect__max_df=1.0, total= 3.8min\n",
      "[CV] features__nlp_pipeline__vect__ngram_range=(1, 1), features__nlp_pipeline__vect__max_features=5000, features__nlp_pipeline__tfidf__use_idf=False, clf__estimator__n_estimators=200, features__nlp_pipeline__vect__max_df=1.0 \n",
      "[CV]  features__nlp_pipeline__vect__ngram_range=(1, 1), features__nlp_pipeline__vect__max_features=5000, features__nlp_pipeline__tfidf__use_idf=False, clf__estimator__n_estimators=200, features__nlp_pipeline__vect__max_df=1.0, total= 3.8min\n",
      "[CV] features__nlp_pipeline__vect__ngram_range=(1, 2), features__nlp_pipeline__vect__max_features=5000, features__nlp_pipeline__tfidf__use_idf=False, clf__estimator__n_estimators=200, features__nlp_pipeline__vect__max_df=1.0 \n",
      "[CV]  features__nlp_pipeline__vect__ngram_range=(1, 2), features__nlp_pipeline__vect__max_features=5000, features__nlp_pipeline__tfidf__use_idf=False, clf__estimator__n_estimators=200, features__nlp_pipeline__vect__max_df=1.0, total= 4.9min\n",
      "[CV] features__nlp_pipeline__vect__ngram_range=(1, 2), features__nlp_pipeline__vect__max_features=5000, features__nlp_pipeline__tfidf__use_idf=False, clf__estimator__n_estimators=200, features__nlp_pipeline__vect__max_df=1.0 \n",
      "[CV]  features__nlp_pipeline__vect__ngram_range=(1, 2), features__nlp_pipeline__vect__max_features=5000, features__nlp_pipeline__tfidf__use_idf=False, clf__estimator__n_estimators=200, features__nlp_pipeline__vect__max_df=1.0, total= 4.9min\n",
      "[CV] features__nlp_pipeline__vect__ngram_range=(1, 2), features__nlp_pipeline__vect__max_features=5000, features__nlp_pipeline__tfidf__use_idf=False, clf__estimator__n_estimators=200, features__nlp_pipeline__vect__max_df=1.0 \n",
      "[CV]  features__nlp_pipeline__vect__ngram_range=(1, 2), features__nlp_pipeline__vect__max_features=5000, features__nlp_pipeline__tfidf__use_idf=False, clf__estimator__n_estimators=200, features__nlp_pipeline__vect__max_df=1.0, total= 4.9min\n",
      "[CV] features__nlp_pipeline__vect__ngram_range=(1, 1), features__nlp_pipeline__vect__max_features=10000, features__nlp_pipeline__tfidf__use_idf=False, clf__estimator__n_estimators=200, features__nlp_pipeline__vect__max_df=1.0 \n",
      "[CV]  features__nlp_pipeline__vect__ngram_range=(1, 1), features__nlp_pipeline__vect__max_features=10000, features__nlp_pipeline__tfidf__use_idf=False, clf__estimator__n_estimators=200, features__nlp_pipeline__vect__max_df=1.0, total= 4.1min\n",
      "[CV] features__nlp_pipeline__vect__ngram_range=(1, 1), features__nlp_pipeline__vect__max_features=10000, features__nlp_pipeline__tfidf__use_idf=False, clf__estimator__n_estimators=200, features__nlp_pipeline__vect__max_df=1.0 \n",
      "[CV]  features__nlp_pipeline__vect__ngram_range=(1, 1), features__nlp_pipeline__vect__max_features=10000, features__nlp_pipeline__tfidf__use_idf=False, clf__estimator__n_estimators=200, features__nlp_pipeline__vect__max_df=1.0, total= 4.1min\n",
      "[CV] features__nlp_pipeline__vect__ngram_range=(1, 1), features__nlp_pipeline__vect__max_features=10000, features__nlp_pipeline__tfidf__use_idf=False, clf__estimator__n_estimators=200, features__nlp_pipeline__vect__max_df=1.0 \n",
      "[CV]  features__nlp_pipeline__vect__ngram_range=(1, 1), features__nlp_pipeline__vect__max_features=10000, features__nlp_pipeline__tfidf__use_idf=False, clf__estimator__n_estimators=200, features__nlp_pipeline__vect__max_df=1.0, total= 4.2min\n",
      "[CV] features__nlp_pipeline__vect__ngram_range=(1, 2), features__nlp_pipeline__vect__max_features=10000, features__nlp_pipeline__tfidf__use_idf=False, clf__estimator__n_estimators=200, features__nlp_pipeline__vect__max_df=1.0 \n",
      "[CV]  features__nlp_pipeline__vect__ngram_range=(1, 2), features__nlp_pipeline__vect__max_features=10000, features__nlp_pipeline__tfidf__use_idf=False, clf__estimator__n_estimators=200, features__nlp_pipeline__vect__max_df=1.0, total= 5.7min\n",
      "[CV] features__nlp_pipeline__vect__ngram_range=(1, 2), features__nlp_pipeline__vect__max_features=10000, features__nlp_pipeline__tfidf__use_idf=False, clf__estimator__n_estimators=200, features__nlp_pipeline__vect__max_df=1.0 \n",
      "[CV]  features__nlp_pipeline__vect__ngram_range=(1, 2), features__nlp_pipeline__vect__max_features=10000, features__nlp_pipeline__tfidf__use_idf=False, clf__estimator__n_estimators=200, features__nlp_pipeline__vect__max_df=1.0, total= 5.6min\n",
      "[CV] features__nlp_pipeline__vect__ngram_range=(1, 2), features__nlp_pipeline__vect__max_features=10000, features__nlp_pipeline__tfidf__use_idf=False, clf__estimator__n_estimators=200, features__nlp_pipeline__vect__max_df=1.0 \n",
      "[CV]  features__nlp_pipeline__vect__ngram_range=(1, 2), features__nlp_pipeline__vect__max_features=10000, features__nlp_pipeline__tfidf__use_idf=False, clf__estimator__n_estimators=200, features__nlp_pipeline__vect__max_df=1.0, total= 5.6min\n"
     ]
    },
    {
     "name": "stderr",
     "output_type": "stream",
     "text": [
      "[Parallel(n_jobs=1)]: Done 324 out of 324 | elapsed: 1362.5min finished\n"
     ]
    },
    {
     "ename": "NameError",
     "evalue": "name 'joblib' is not defined",
     "output_type": "error",
     "traceback": [
      "\u001b[1;31m---------------------------------------------------------------------------\u001b[0m",
      "\u001b[1;31mNameError\u001b[0m                                 Traceback (most recent call last)",
      "\u001b[1;32m<ipython-input-18-5e38861f09d3>\u001b[0m in \u001b[0;36m<module>\u001b[1;34m()\u001b[0m\n\u001b[0;32m      1\u001b[0m \u001b[0mcv\u001b[0m\u001b[1;33m.\u001b[0m\u001b[0mfit\u001b[0m\u001b[1;33m(\u001b[0m\u001b[0mX_train\u001b[0m\u001b[1;33m,\u001b[0m \u001b[0my_train\u001b[0m\u001b[1;33m)\u001b[0m\u001b[1;33m\u001b[0m\u001b[0m\n\u001b[0;32m      2\u001b[0m \u001b[0mmodel\u001b[0m \u001b[1;33m=\u001b[0m \u001b[1;34m'classifier.pkl'\u001b[0m\u001b[1;33m\u001b[0m\u001b[0m\n\u001b[1;32m----> 3\u001b[1;33m \u001b[0mjoblib\u001b[0m\u001b[1;33m.\u001b[0m\u001b[0mdump\u001b[0m\u001b[1;33m(\u001b[0m\u001b[0mcv\u001b[0m\u001b[1;33m,\u001b[0m \u001b[0mmodel\u001b[0m\u001b[1;33m)\u001b[0m\u001b[1;33m\u001b[0m\u001b[0m\n\u001b[0m",
      "\u001b[1;31mNameError\u001b[0m: name 'joblib' is not defined"
     ]
    }
   ],
   "source": [
    "cv.fit(X_train, y_train)"
   ]
  },
  {
   "cell_type": "code",
   "execution_count": 22,
   "metadata": {},
   "outputs": [],
   "source": [
    "y_pred = cv.predict(X_test)\n",
    "y_pred_df = pd.DataFrame(y_pred)\n",
    "y_pred_df.columns = y_test.columns"
   ]
  },
  {
   "cell_type": "code",
   "execution_count": 23,
   "metadata": {},
   "outputs": [
    {
     "name": "stdout",
     "output_type": "stream",
     "text": [
      "related \n",
      "              precision    recall  f1-score   support\n",
      "\n",
      "          0       0.59      0.25      0.35      1266\n",
      "          1       0.79      0.94      0.86      3938\n",
      "          2       0.65      0.28      0.39        40\n",
      "\n",
      "avg / total       0.74      0.77      0.73      5244\n",
      "\n",
      "request \n",
      "              precision    recall  f1-score   support\n",
      "\n",
      "          0       0.91      0.96      0.94      4349\n",
      "          1       0.76      0.54      0.63       895\n",
      "\n",
      "avg / total       0.88      0.89      0.88      5244\n",
      "\n",
      "offer \n",
      "              precision    recall  f1-score   support\n",
      "\n",
      "          0       1.00      1.00      1.00      5218\n",
      "          1       0.33      0.04      0.07        26\n",
      "\n",
      "avg / total       0.99      0.99      0.99      5244\n",
      "\n",
      "aid_related \n",
      "              precision    recall  f1-score   support\n",
      "\n",
      "          0       0.77      0.87      0.82      3113\n",
      "          1       0.77      0.62      0.69      2131\n",
      "\n",
      "avg / total       0.77      0.77      0.76      5244\n",
      "\n",
      "medical_help \n",
      "              precision    recall  f1-score   support\n",
      "\n",
      "          0       0.94      0.98      0.96      4822\n",
      "          1       0.54      0.26      0.35       422\n",
      "\n",
      "avg / total       0.91      0.92      0.91      5244\n",
      "\n",
      "medical_products \n",
      "              precision    recall  f1-score   support\n",
      "\n",
      "          0       0.96      0.99      0.98      4974\n",
      "          1       0.64      0.31      0.42       270\n",
      "\n",
      "avg / total       0.95      0.96      0.95      5244\n",
      "\n",
      "search_and_rescue \n",
      "              precision    recall  f1-score   support\n",
      "\n",
      "          0       0.98      1.00      0.99      5117\n",
      "          1       0.57      0.23      0.33       127\n",
      "\n",
      "avg / total       0.97      0.98      0.97      5244\n",
      "\n",
      "security \n",
      "              precision    recall  f1-score   support\n",
      "\n",
      "          0       0.98      1.00      0.99      5156\n",
      "          1       0.13      0.03      0.05        88\n",
      "\n",
      "avg / total       0.97      0.98      0.97      5244\n",
      "\n",
      "military \n",
      "              precision    recall  f1-score   support\n",
      "\n",
      "          0       0.98      0.99      0.99      5089\n",
      "          1       0.58      0.32      0.41       155\n",
      "\n",
      "avg / total       0.97      0.97      0.97      5244\n",
      "\n",
      "child_alone \n",
      "              precision    recall  f1-score   support\n",
      "\n",
      "          0       1.00      1.00      1.00      5244\n",
      "\n",
      "avg / total       1.00      1.00      1.00      5244\n",
      "\n",
      "water \n",
      "              precision    recall  f1-score   support\n",
      "\n",
      "          0       0.97      0.99      0.98      4905\n",
      "          1       0.73      0.56      0.63       339\n",
      "\n",
      "avg / total       0.95      0.96      0.96      5244\n",
      "\n",
      "food \n",
      "              precision    recall  f1-score   support\n",
      "\n",
      "          0       0.96      0.98      0.97      4649\n",
      "          1       0.82      0.69      0.75       595\n",
      "\n",
      "avg / total       0.94      0.95      0.95      5244\n",
      "\n",
      "shelter \n",
      "              precision    recall  f1-score   support\n",
      "\n",
      "          0       0.96      0.98      0.97      4774\n",
      "          1       0.77      0.54      0.64       470\n",
      "\n",
      "avg / total       0.94      0.94      0.94      5244\n",
      "\n",
      "clothing \n",
      "              precision    recall  f1-score   support\n",
      "\n",
      "          0       0.99      1.00      0.99      5171\n",
      "          1       0.65      0.36      0.46        73\n",
      "\n",
      "avg / total       0.99      0.99      0.99      5244\n",
      "\n",
      "money \n",
      "              precision    recall  f1-score   support\n",
      "\n",
      "          0       0.99      0.99      0.99      5140\n",
      "          1       0.41      0.27      0.32       104\n",
      "\n",
      "avg / total       0.97      0.98      0.98      5244\n",
      "\n",
      "missing_people \n",
      "              precision    recall  f1-score   support\n",
      "\n",
      "          0       0.99      1.00      0.99      5184\n",
      "          1       0.69      0.18      0.29        60\n",
      "\n",
      "avg / total       0.99      0.99      0.99      5244\n",
      "\n",
      "refugees \n",
      "              precision    recall  f1-score   support\n",
      "\n",
      "          0       0.98      0.99      0.98      5073\n",
      "          1       0.56      0.30      0.39       171\n",
      "\n",
      "avg / total       0.96      0.97      0.96      5244\n",
      "\n",
      "death \n",
      "              precision    recall  f1-score   support\n",
      "\n",
      "          0       0.97      0.99      0.98      5007\n",
      "          1       0.78      0.44      0.56       237\n",
      "\n",
      "avg / total       0.97      0.97      0.96      5244\n",
      "\n",
      "other_aid \n",
      "              precision    recall  f1-score   support\n",
      "\n",
      "          0       0.88      0.98      0.93      4549\n",
      "          1       0.51      0.16      0.25       695\n",
      "\n",
      "avg / total       0.83      0.87      0.84      5244\n",
      "\n",
      "infrastructure_related \n",
      "              precision    recall  f1-score   support\n",
      "\n",
      "          0       0.94      0.99      0.97      4916\n",
      "          1       0.38      0.12      0.18       328\n",
      "\n",
      "avg / total       0.91      0.93      0.92      5244\n",
      "\n",
      "transport \n",
      "              precision    recall  f1-score   support\n",
      "\n",
      "          0       0.96      1.00      0.98      5004\n",
      "          1       0.68      0.22      0.33       240\n",
      "\n",
      "avg / total       0.95      0.96      0.95      5244\n",
      "\n",
      "buildings \n",
      "              precision    recall  f1-score   support\n",
      "\n",
      "          0       0.96      0.99      0.98      4977\n",
      "          1       0.67      0.33      0.44       267\n",
      "\n",
      "avg / total       0.95      0.96      0.95      5244\n",
      "\n",
      "electricity \n",
      "              precision    recall  f1-score   support\n",
      "\n",
      "          0       0.98      1.00      0.99      5122\n",
      "          1       0.62      0.19      0.29       122\n",
      "\n",
      "avg / total       0.97      0.98      0.97      5244\n",
      "\n",
      "tools \n",
      "              precision    recall  f1-score   support\n",
      "\n",
      "          0       0.99      1.00      1.00      5212\n",
      "          1       0.09      0.03      0.05        32\n",
      "\n",
      "avg / total       0.99      0.99      0.99      5244\n",
      "\n",
      "hospitals \n",
      "              precision    recall  f1-score   support\n",
      "\n",
      "          0       0.99      1.00      0.99      5198\n",
      "          1       0.29      0.13      0.18        46\n",
      "\n",
      "avg / total       0.99      0.99      0.99      5244\n",
      "\n",
      "shops \n",
      "              precision    recall  f1-score   support\n",
      "\n",
      "          0       1.00      1.00      1.00      5222\n",
      "          1       0.00      0.00      0.00        22\n",
      "\n",
      "avg / total       0.99      1.00      0.99      5244\n",
      "\n",
      "aid_centers \n",
      "              precision    recall  f1-score   support\n",
      "\n",
      "          0       0.99      1.00      0.99      5177\n",
      "          1       0.11      0.03      0.05        67\n",
      "\n",
      "avg / total       0.98      0.98      0.98      5244\n",
      "\n",
      "other_infrastructure \n",
      "              precision    recall  f1-score   support\n",
      "\n",
      "          0       0.96      0.99      0.98      5021\n",
      "          1       0.31      0.09      0.14       223\n",
      "\n",
      "avg / total       0.93      0.95      0.94      5244\n",
      "\n",
      "weather_related \n",
      "              precision    recall  f1-score   support\n",
      "\n",
      "          0       0.88      0.95      0.92      3806\n",
      "          1       0.84      0.67      0.75      1438\n",
      "\n",
      "avg / total       0.87      0.87      0.87      5244\n",
      "\n",
      "floods \n",
      "              precision    recall  f1-score   support\n",
      "\n",
      "          0       0.97      0.99      0.98      4833\n",
      "          1       0.82      0.58      0.68       411\n",
      "\n",
      "avg / total       0.95      0.96      0.95      5244\n",
      "\n",
      "storm \n",
      "              precision    recall  f1-score   support\n",
      "\n",
      "          0       0.95      0.98      0.96      4758\n",
      "          1       0.72      0.49      0.58       486\n",
      "\n",
      "avg / total       0.93      0.93      0.93      5244\n",
      "\n",
      "fire \n",
      "              precision    recall  f1-score   support\n",
      "\n",
      "          0       0.99      1.00      0.99      5191\n",
      "          1       0.35      0.11      0.17        53\n",
      "\n",
      "avg / total       0.98      0.99      0.99      5244\n",
      "\n",
      "earthquake \n",
      "              precision    recall  f1-score   support\n",
      "\n",
      "          0       0.97      0.99      0.98      4766\n",
      "          1       0.86      0.75      0.80       478\n",
      "\n",
      "avg / total       0.96      0.97      0.97      5244\n",
      "\n",
      "cold \n",
      "              precision    recall  f1-score   support\n",
      "\n",
      "          0       0.99      1.00      0.99      5127\n",
      "          1       0.67      0.34      0.45       117\n",
      "\n",
      "avg / total       0.98      0.98      0.98      5244\n",
      "\n",
      "other_weather \n",
      "              precision    recall  f1-score   support\n",
      "\n",
      "          0       0.95      0.99      0.97      4968\n",
      "          1       0.48      0.15      0.23       276\n",
      "\n",
      "avg / total       0.93      0.95      0.93      5244\n",
      "\n",
      "direct_report \n",
      "              precision    recall  f1-score   support\n",
      "\n",
      "          0       0.88      0.95      0.92      4223\n",
      "          1       0.71      0.46      0.56      1021\n",
      "\n",
      "avg / total       0.85      0.86      0.85      5244\n",
      "\n"
     ]
    }
   ],
   "source": [
    "for col in y_test.columns:\n",
    "    print(col,'\\n', classification_report(y_test[col], y_pred_df[col]))"
   ]
  },
  {
   "cell_type": "markdown",
   "metadata": {},
   "source": [
    "It seems that the model is better than the one without grid search. So, I will use this model.\n",
    "\n",
    "### 9. Export model as a pickle file"
   ]
  },
  {
   "cell_type": "code",
   "execution_count": 21,
   "metadata": {},
   "outputs": [
    {
     "data": {
      "text/plain": [
       "['classifier.pkl']"
      ]
     },
     "execution_count": 21,
     "metadata": {},
     "output_type": "execute_result"
    }
   ],
   "source": [
    "model = 'classifier.pkl'\n",
    "joblib.dump(cv, model)"
   ]
  },
  {
   "cell_type": "markdown",
   "metadata": {},
   "source": [
    "### 10. Test Pickle File\n",
    "Use the template file attached in the Resources folder to write a script that runs the steps above to create a database and export a model based on a new dataset specified by the user."
   ]
  },
  {
   "cell_type": "code",
   "execution_count": 24,
   "metadata": {},
   "outputs": [],
   "source": [
    "loaded_model = joblib.load('classifier.pkl')"
   ]
  },
  {
   "cell_type": "code",
   "execution_count": 25,
   "metadata": {},
   "outputs": [
    {
     "data": {
      "text/plain": [
       "GridSearchCV(cv=None, error_score='raise',\n",
       "       estimator=Pipeline(memory=None,\n",
       "     steps=[('features', FeatureUnion(n_jobs=1,\n",
       "       transformer_list=[('nlp_pipeline', Pipeline(memory=None,\n",
       "     steps=[('vect', CountVectorizer(analyzer='word', binary=False, decode_error='strict',\n",
       "        dtype=<class 'numpy.int64'>, encoding='utf-8', input='content',\n",
       "        lowercase=True, max_df...mator=None,\n",
       "          learning_rate=1.0, n_estimators=50, random_state=None),\n",
       "           n_jobs=1))]),\n",
       "       fit_params=None, iid=True, n_jobs=1,\n",
       "       param_grid={'features__nlp_pipeline__vect__ngram_range': ((1, 1), (1, 2)), 'features__nlp_pipeline__vect__max_features': (None, 5000, 10000), 'features__nlp_pipeline__tfidf__use_idf': (True, False), 'clf__estimator__n_estimators': [50, 100, 200], 'features__nlp_pipeline__vect__max_df': (0.5, 0.75, 1.0)},\n",
       "       pre_dispatch='2*n_jobs', refit=True, return_train_score='warn',\n",
       "       scoring=None, verbose=2)"
      ]
     },
     "execution_count": 25,
     "metadata": {},
     "output_type": "execute_result"
    }
   ],
   "source": [
    "loaded_model"
   ]
  }
 ],
 "metadata": {
  "kernelspec": {
   "display_name": "Python [default]",
   "language": "python",
   "name": "python3"
  },
  "language_info": {
   "codemirror_mode": {
    "name": "ipython",
    "version": 3
   },
   "file_extension": ".py",
   "mimetype": "text/x-python",
   "name": "python",
   "nbconvert_exporter": "python",
   "pygments_lexer": "ipython3",
   "version": "3.5.6"
  }
 },
 "nbformat": 4,
 "nbformat_minor": 2
}
